{
 "cells": [
  {
   "cell_type": "markdown",
   "metadata": {},
   "source": [
    "# Boolean Expressions"
   ]
  },
  {
   "cell_type": "markdown",
   "metadata": {},
   "source": [
    "A **boolean expression** is one that evaluates to either `True` or `False`.\n",
    "\n",
    "Note that in many languages the values `true` and `false` are lowercase, but Python capitalizes them."
   ]
  },
  {
   "cell_type": "code",
   "execution_count": null,
   "metadata": {},
   "outputs": [],
   "source": [
    "maybe = False\n",
    "maybe"
   ]
  },
  {
   "cell_type": "markdown",
   "metadata": {},
   "source": [
    "# Boolean Operators"
   ]
  },
  {
   "cell_type": "markdown",
   "metadata": {},
   "source": [
    "**Boolean operators** are operators that perform specific actions to return either `True` or `False`.\n",
    "\n",
    "There are two main types of boolean operators."
   ]
  },
  {
   "cell_type": "markdown",
   "metadata": {},
   "source": [
    "## Comparison Operators\n",
    "\n",
    "**Comparison operators** compare two values with each other, and return `True` or `False`.\n",
    "\n",
    "The comparison operators are:\n",
    "- `<` and `>`\n",
    "- `<=` and `>=`\n",
    "- `==` and `!=`"
   ]
  },
  {
   "cell_type": "code",
   "execution_count": null,
   "metadata": {},
   "outputs": [],
   "source": [
    "# < and >\n",
    "print(4 < 5)\n",
    "print(4 > 5)"
   ]
  },
  {
   "cell_type": "code",
   "execution_count": null,
   "metadata": {},
   "outputs": [],
   "source": [
    "# <= and >=\n",
    "print(4 >= 5)\n",
    "print(4 >= 4)"
   ]
  },
  {
   "cell_type": "code",
   "execution_count": null,
   "metadata": {},
   "outputs": [],
   "source": [
    "# == and !=\n",
    "print(4 == 5)\n",
    "print(4 != 5)"
   ]
  },
  {
   "cell_type": "markdown",
   "metadata": {},
   "source": [
    "## Logical Operators\n",
    "\n",
    "**Logical operators** combine multiple boolean expressions into a single `True` or `False`.\n",
    "\n",
    "The logical operators are:\n",
    "- `and`\n",
    "- `or`\n",
    "- `not`"
   ]
  },
  {
   "cell_type": "markdown",
   "metadata": {},
   "source": [
    "### Truth table for `and`\n",
    "\n",
    "|  A  |  B  |  A and B  |\n",
    "| :-: | :-: | :-------: |\n",
    "|  T  |  T  |     T     |\n",
    "|  T  |  F  |     F     |\n",
    "|  F  |  T  |     F     |\n",
    "|  F  |  F  |     F     |"
   ]
  },
  {
   "cell_type": "code",
   "execution_count": null,
   "metadata": {},
   "outputs": [],
   "source": [
    "# and\n",
    "if 2 <= 3 and 5 > 1:\n",
    "    print('True')\n",
    "else:\n",
    "    print('False')"
   ]
  },
  {
   "cell_type": "markdown",
   "metadata": {},
   "source": [
    "### Truth table for `or`\n",
    "\n",
    "|  A  |  B  |  A or B   |\n",
    "| :-: | :-: | :-------: |\n",
    "|  T  |  T  |     T     |\n",
    "|  T  |  F  |     T     |\n",
    "|  F  |  T  |     T     |\n",
    "|  F  |  F  |     F     |"
   ]
  },
  {
   "cell_type": "code",
   "execution_count": null,
   "metadata": {},
   "outputs": [],
   "source": [
    "# or\n",
    "if 2 == 3 or 5 > 1:\n",
    "    print('True')\n",
    "else:\n",
    "    print('False')"
   ]
  },
  {
   "cell_type": "markdown",
   "metadata": {},
   "source": [
    "### Truth table for `not`\n",
    "\n",
    "|  A  | not A |\n",
    "| :-: | :---: |\n",
    "|  T  |   F   |\n",
    "|  F  |   T   |"
   ]
  },
  {
   "cell_type": "code",
   "execution_count": null,
   "metadata": {},
   "outputs": [],
   "source": [
    "# not\n",
    "if not 2 == 3:\n",
    "    print('True')\n",
    "else:\n",
    "    print('False')"
   ]
  },
  {
   "cell_type": "markdown",
   "metadata": {},
   "source": [
    "## Exercise 1\n",
    "\n",
    "We can combine comparison operators and logical operators to simplify boolean expressions.\n",
    "\n",
    "Break down the following expression until it evaluates to either `True` or `False`.\n",
    "\n",
    "```\n",
    "2 == 3 or 1 < 5\n",
    "False or True\n",
    "True\n",
    "```"
   ]
  },
  {
   "cell_type": "markdown",
   "metadata": {},
   "source": [
    "# Operator Precedence\n",
    "\n",
    "There is a strict order for evaluating operators:\n",
    "1. Mathematical operators (in PEMDAS order)\n",
    "2. <, >, <=, >=\n",
    "3. ==, !=\n",
    "4. not\n",
    "5. and\n",
    "6. or"
   ]
  },
  {
   "cell_type": "markdown",
   "metadata": {},
   "source": [
    "## Exercise 2\n",
    "\n",
    "Break down the following expression until it evaluates to either `True` or `False`.\n",
    "\n",
    "```\n",
    "5 * 7 >= 3 + 5 * (7 - 1) and 7 <= 11\n",
    "5 * 7 >= 3 + 5 * 6 and 7 <= 11\n",
    "35 >= 3 + 30 and 7 <= 11\n",
    "35 >= 33 and 7 <= 11\n",
    "True and True\n",
    "True\n",
    "```"
   ]
  },
  {
   "cell_type": "markdown",
   "metadata": {},
   "source": [
    "## Exercise 3\n",
    "\n",
    "Break down the following expression until it evaluates to either `True` or `False`.\n",
    "\n",
    "```\n",
    "(8 / 2 > 3 and False) or 3 >= 32 / 2 ** 3\n",
    "(4 > 3 and False) or 3 >= 32 / 8\n",
    "(True and False) or 3 >= 4\n",
    "False or False\n",
    "False\n",
    "```"
   ]
  },
  {
   "cell_type": "markdown",
   "metadata": {},
   "source": [
    "# While Loops\n",
    "\n",
    "A **while loop** is one that runs _as long as_ a given condition remains true."
   ]
  },
  {
   "cell_type": "code",
   "execution_count": null,
   "metadata": {},
   "outputs": [],
   "source": [
    "# A simple while loop\n",
    "n = 5\n",
    "while n > 0:\n",
    "    print(n)\n",
    "    n -= 1"
   ]
  },
  {
   "cell_type": "markdown",
   "metadata": {},
   "source": [
    "# User Input\n",
    "\n",
    "Python has a built-in `input()` function that prompts the user to enter information while it is running."
   ]
  },
  {
   "cell_type": "markdown",
   "metadata": {},
   "source": [
    "## Simple Input"
   ]
  },
  {
   "cell_type": "code",
   "execution_count": null,
   "metadata": {},
   "outputs": [],
   "source": [
    "# Input a value and then print it back to the user\n",
    "word = input()\n",
    "print(word)"
   ]
  },
  {
   "cell_type": "markdown",
   "metadata": {},
   "source": [
    "## Input with Prompt Text"
   ]
  },
  {
   "cell_type": "code",
   "execution_count": null,
   "metadata": {},
   "outputs": [],
   "source": [
    "# Prompt the user's input with some text\n",
    "word = input('Enter a word: ')\n",
    "print(word)"
   ]
  },
  {
   "cell_type": "markdown",
   "metadata": {},
   "source": [
    "## Type Casting\n",
    "\n",
    "All user inputs are received as strings. Use **type casting** to convert to a different variable type."
   ]
  },
  {
   "cell_type": "code",
   "execution_count": null,
   "metadata": {},
   "outputs": [],
   "source": [
    "# Ask the user for a number, and convert the input to an int\n",
    "x = int(input('Enter a number: '))\n",
    "print(x)"
   ]
  },
  {
   "cell_type": "markdown",
   "metadata": {},
   "source": [
    "# Practice Problems"
   ]
  },
  {
   "cell_type": "markdown",
   "metadata": {},
   "source": [
    "## Sentinel Value (with the \"fence-posting\" problem)\n",
    "\n",
    "Repeatedly request numbers from the user; each time they enter a number, simply print it back to them. If the user enters a `0`, end the loop immediately."
   ]
  },
  {
   "cell_type": "code",
   "execution_count": null,
   "metadata": {},
   "outputs": [],
   "source": [
    "x = int(input('Num:'))\n",
    "while x != 0:\n",
    "    print(x)\n",
    "    x = int(input('Num:'))"
   ]
  },
  {
   "cell_type": "markdown",
   "metadata": {},
   "source": [
    "A **sentinel value** is ___."
   ]
  },
  {
   "cell_type": "markdown",
   "metadata": {},
   "source": [
    "## Total Sum\n",
    "\n",
    "Write a program that repeatedly requests numbers from the user, until they enter a sentinel value of `0`. Once the loop ends, print the sum of all the numbers entered (not including the `0`)."
   ]
  },
  {
   "cell_type": "code",
   "execution_count": null,
   "metadata": {},
   "outputs": [],
   "source": []
  },
  {
   "cell_type": "markdown",
   "metadata": {},
   "source": [
    "## Minimum\n",
    "\n",
    "Write a program that repeatedly requests numbers from the user, until they enter a sentinel value of `0`. Once the loop ends, print the minimum value received from the user."
   ]
  },
  {
   "cell_type": "code",
   "execution_count": null,
   "metadata": {},
   "outputs": [],
   "source": []
  }
 ],
 "metadata": {
  "kernelspec": {
   "display_name": "Python 3",
   "language": "python",
   "name": "python3"
  },
  "language_info": {
   "codemirror_mode": {
    "name": "ipython",
    "version": 3
   },
   "file_extension": ".py",
   "mimetype": "text/x-python",
   "name": "python",
   "nbconvert_exporter": "python",
   "pygments_lexer": "ipython3",
   "version": "3.8.3"
  }
 },
 "nbformat": 4,
 "nbformat_minor": 4
}
