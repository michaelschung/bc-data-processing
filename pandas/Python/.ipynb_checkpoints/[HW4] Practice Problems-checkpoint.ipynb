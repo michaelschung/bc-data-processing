{
 "cells": [
  {
   "cell_type": "markdown",
   "metadata": {},
   "source": [
    "# Instructions\n",
    "\n",
    "**For each problem below, unless otherwise specified, write a single method that accomplishes the described task.**"
   ]
  },
  {
   "cell_type": "markdown",
   "metadata": {},
   "source": [
    "# 1) Simple Loop\n",
    "\n",
    "Write a method that takes a parameter `n`, and then prints the numbers $1$ to $2n$, each on its own line."
   ]
  },
  {
   "cell_type": "code",
   "execution_count": null,
   "metadata": {},
   "outputs": [],
   "source": [
    "# Problem 1"
   ]
  },
  {
   "cell_type": "markdown",
   "metadata": {},
   "source": [
    "# 2) Ratios\n",
    "\n",
    "Write a method that takes a parameter `n`, and then prints the decimal equivalents of the fractions $\\dfrac{1}{2}, \\dfrac{1}{3}, \\dfrac{1}{4}, \\ldots, \\dfrac{1}{n}$."
   ]
  },
  {
   "cell_type": "code",
   "execution_count": null,
   "metadata": {},
   "outputs": [],
   "source": [
    "# Problem 2"
   ]
  },
  {
   "cell_type": "markdown",
   "metadata": {},
   "source": [
    "# 3) Sum To\n",
    "\n",
    "Write a method that takes a parameter `n`, and then returns the sum of the first `n` natural numbers. In other words, return the sum of $1 + 2 + 3 + \\cdots + n$."
   ]
  },
  {
   "cell_type": "code",
   "execution_count": null,
   "metadata": {},
   "outputs": [],
   "source": [
    "# Problem 3"
   ]
  },
  {
   "cell_type": "markdown",
   "metadata": {},
   "source": [
    "# 4) Roller Coaster\n",
    "\n",
    "A roller coaster has a minimum height requirement of 4 feet, and a maximum height allowance of 7 feet. Write a method that takes a parameter `inches` and returns either `True` or `False` depending on whether the person is allowed to ride the roller coaster."
   ]
  },
  {
   "cell_type": "code",
   "execution_count": null,
   "metadata": {},
   "outputs": [],
   "source": [
    "# Problem 4"
   ]
  },
  {
   "cell_type": "markdown",
   "metadata": {},
   "source": [
    "# 5) Sign Checker\n",
    "\n",
    "Write a method that requests a numerical input from the user. If the number entered is positive, print `_ is positive` (replacing \"`_`\" with the actual number entered). If the number is negative, print `_ is negative`. If the number is zero, do nothing."
   ]
  },
  {
   "cell_type": "code",
   "execution_count": null,
   "metadata": {},
   "outputs": [],
   "source": [
    "# Problem 5"
   ]
  },
  {
   "cell_type": "markdown",
   "metadata": {},
   "source": [
    "# 6) Pluralize\n",
    "\n",
    "Write a method that requests a string `noun` from the user. The method should then \"pluralize\" the word according to the following rules:\n",
    "\n",
    "- If `noun` ends in `y`, print the word but replace the final `y` with `ies`.\n",
    "- If `noun` ends in `ey`, print the word but replace the final `ey` with `eys`.\n",
    "- If `noun` ends in `ife`, print the word but replace the final `ife` with `ives`.\n",
    "- If `noun` doesn't end in any of the above options, print the word but add an `s` at the end.\n",
    "\n",
    "_Note: each option here uses the word \"If\" because that's how we would say it in normal English, but that does **not** mean that each of these should be a separate if statement. They should all be part of a single conditional block._"
   ]
  },
  {
   "cell_type": "code",
   "execution_count": null,
   "metadata": {},
   "outputs": [],
   "source": [
    "# Problem 6"
   ]
  },
  {
   "cell_type": "markdown",
   "metadata": {},
   "source": [
    "# 7) Login\n",
    "\n",
    "Write a method that requests a username and password from the user. Once both have been inputted and stored, ask the user to \"log in.\" If the username and password do not match the previously entered pair, print an error message. If they do match, print a message telling them they have logged in successfully.\n",
    "\n",
    "Here's what an example run of this might look like:\n",
    "\n",
    "```\n",
    "===CREATE ACCOUNT===\n",
    "Enter a new username: mrchung\n",
    "Enter a new password: csisc00l\n",
    "\n",
    "===LOGIN===\n",
    "Enter username: mrchung\n",
    "Enter password: csiscool\n",
    "\n",
    "Sorry, your login information does not match our records.\n",
    "```"
   ]
  },
  {
   "cell_type": "code",
   "execution_count": null,
   "metadata": {},
   "outputs": [],
   "source": [
    "# Problem 7"
   ]
  },
  {
   "cell_type": "markdown",
   "metadata": {},
   "source": [
    "# 8) Self-Promotion\n",
    "\n",
    "Write a method that takes a parameter `num`, and then prints the value of `num` raised to the power of `num`.\n",
    "\n",
    "For example, if `num` is `2`, the method should print\n",
    "\n",
    "`2^2 = 4`.\n",
    "\n",
    "If `num` is `5`, the method should print\n",
    "\n",
    "`5^5 = 3125`."
   ]
  },
  {
   "cell_type": "code",
   "execution_count": null,
   "metadata": {},
   "outputs": [],
   "source": [
    "# Problem 8"
   ]
  },
  {
   "cell_type": "markdown",
   "metadata": {},
   "source": [
    "# 9) Continual Self-Promotion\n",
    "\n",
    "_**Do not write a method for this problem!**_\n",
    "\n",
    "Write a loop that continually prompts the user for numerical input. For each number that the user enters, pass that number to the \"self-promotion\" method that you wrote in the previous problem, which prints the result. The loop should keep prompting and passing until the user enters a sentinel value of `0`, in which case it should stop immediately and print a farewell message.\n",
    "\n",
    "Example run:\n",
    "```\n",
    "Enter a number to self-promote: 1\n",
    "1^1 = 1\n",
    "Enter a number to self-promote: 3\n",
    "3^3 = 27\n",
    "Enter a number to self-promote: 4\n",
    "4^4 = 256\n",
    "Enter a number to self-promote: 0\n",
    "Goodbye!\n",
    "```"
   ]
  },
  {
   "cell_type": "code",
   "execution_count": null,
   "metadata": {},
   "outputs": [],
   "source": [
    "# Problem 9"
   ]
  },
  {
   "cell_type": "markdown",
   "metadata": {},
   "source": [
    "# 10) Hailstone\n",
    "\n",
    "Recall the Hailstone Sequence from before. The program below prompts the user for a number `num`, and then passes that `num` into the method `hailstone`. Your task is to write the body of the method (delete the `pass` and replace it with your code) so that it prints out the entire hailstone sequence beginning with `num`.\n",
    "\n",
    "In case you forgot, the Hailstone Sequence follows these rules:\n",
    "1. Start with a positive integer.\n",
    "2. If the number is even, divide it by 2; if it's odd, multiply it by 3 and add 1.\n",
    "3. Repeat Step 2 until the number hits 1.\n",
    "\n",
    "### Example runs:\n",
    "```\n",
    "Enter a number: 1\n",
    "1\n",
    "```\n",
    "---\n",
    "```\n",
    "Enter a number: 2\n",
    "2\n",
    "1\n",
    "```\n",
    "---\n",
    "```\n",
    "Enter a number: 5\n",
    "5\n",
    "16\n",
    "8\n",
    "4\n",
    "2\n",
    "1\n",
    "```\n",
    "---\n",
    "```\n",
    "Enter a number: 9\n",
    "9\n",
    "28\n",
    "14\n",
    "7\n",
    "22\n",
    "11\n",
    "34\n",
    "17\n",
    "52\n",
    "26\n",
    "13\n",
    "40\n",
    "20\n",
    "10\n",
    "5\n",
    "16\n",
    "8\n",
    "4\n",
    "2\n",
    "1\n",
    "```"
   ]
  },
  {
   "cell_type": "code",
   "execution_count": null,
   "metadata": {},
   "outputs": [],
   "source": [
    "# Problem 10\n",
    "def hailstone(num):\n",
    "  # Replace the pass below with your code.\n",
    "  pass\n",
    "\n",
    "x = int(input('Enter a number: '))\n",
    "hailstone(x)"
   ]
  },
  {
   "cell_type": "markdown",
   "metadata": {},
   "source": [
    "# 11) Finale\n",
    "\n",
    "_**Do not write a method for this problem!**_\n",
    "\n",
    "Write a loop that continually prompts the user for numerical inputs. Each time the user enters a number, do one of three things:\n",
    "\n",
    "- If the number is positive, pass it to the `hailstone` method from the last problem\n",
    "- If the number is negative, ask the user to try again\n",
    "- If the number is `0`, end the program and print a farewell message.\n",
    "\n",
    "### Example run:\n",
    "\n",
    "```\n",
    "Enter a number: 5\n",
    "5\n",
    "16\n",
    "8\n",
    "4\n",
    "2\n",
    "1\n",
    "\n",
    "Enter a number: -2\n",
    "No negative numbers. Try again.\n",
    "\n",
    "Enter a number: 6\n",
    "6\n",
    "3\n",
    "10\n",
    "5\n",
    "16\n",
    "8\n",
    "4\n",
    "2\n",
    "1\n",
    "\n",
    "Enter a number: 0\n",
    "Goodbye!\n",
    "```"
   ]
  },
  {
   "cell_type": "code",
   "execution_count": null,
   "metadata": {},
   "outputs": [],
   "source": [
    "# Problem 11"
   ]
  }
 ],
 "metadata": {
  "kernelspec": {
   "display_name": "Python 3",
   "language": "python",
   "name": "python3"
  },
  "language_info": {
   "codemirror_mode": {
    "name": "ipython",
    "version": 3
   },
   "file_extension": ".py",
   "mimetype": "text/x-python",
   "name": "python",
   "nbconvert_exporter": "python",
   "pygments_lexer": "ipython3",
   "version": "3.8.3"
  }
 },
 "nbformat": 4,
 "nbformat_minor": 4
}
