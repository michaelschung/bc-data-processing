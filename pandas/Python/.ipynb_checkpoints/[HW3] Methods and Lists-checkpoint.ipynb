{
 "cells": [
  {
   "cell_type": "markdown",
   "metadata": {},
   "source": [
    "# 1: Methods\n",
    "\n",
    "For each of the following problems, please complete the following steps:\n",
    "\n",
    "1. In a comment at the top of the code cell, specify which type of method (*Procedure, Consumer, Supplier, Function*) is needed.\n",
    "2. In the same comment, specify and briefly describe any parameters and return values.\n",
    "3. Write the method, and then call the method to test it out.\n",
    "\n",
    "### Example problem\n",
    "\n",
    "Write a method called `hello` that prints a greeting message. The method should accept a name to say hello to."
   ]
  },
  {
   "cell_type": "code",
   "execution_count": null,
   "metadata": {},
   "outputs": [],
   "source": [
    "### EXAMPLE SOLUTION ###\n",
    "\n",
    "# Consumer; takes a name as parameter, doesn't return anything\n",
    "def hello(name):\n",
    "  print('Hello there, {}'.format(name))\n",
    "\n",
    "# Testing the method\n",
    "hello('Mr. Chung')"
   ]
  },
  {
   "cell_type": "markdown",
   "metadata": {},
   "source": [
    "## 1.1: Repetition\n",
    "\n",
    "Write a method named `repetition`. This method should accept a number, and it should print a single phrase (you choose the phrase) as many times as specified by that number."
   ]
  },
  {
   "cell_type": "code",
   "execution_count": null,
   "metadata": {},
   "outputs": [],
   "source": [
    "# Write your 1.1 code here. Don't forget the comment at the top!"
   ]
  },
  {
   "cell_type": "markdown",
   "metadata": {},
   "source": [
    "## 1.2: Exponentiation\n",
    "\n",
    "Write a method named `power`. This method should accept two numbers, and return the value of the first number raised to the power of the second number. For example, if 2 and 3 are passed in, the method should return the value 8.\n",
    "\n",
    "*Note: you may **NOT** use the `pow()` function for this problem.*"
   ]
  },
  {
   "cell_type": "code",
   "execution_count": null,
   "metadata": {},
   "outputs": [],
   "source": [
    "# Write your 1.2 code here. Don't forget the comment at the top!"
   ]
  },
  {
   "cell_type": "markdown",
   "metadata": {},
   "source": [
    "## 1.3: Substring\n",
    "\n",
    "Write a method named `contains`. This method should accept two strings. If the second string is contained within the first string, then the word `Substring` should be printed. Otherwise, print the word `Nope`.\n",
    "\n",
    "_Hint: the characters in a string are indexed exactly the same way as a list, so you can access them using bracket notation._"
   ]
  },
  {
   "cell_type": "code",
   "execution_count": null,
   "metadata": {},
   "outputs": [],
   "source": [
    "# Write your 1.3 code here. Don't forget the comment at the top!"
   ]
  },
  {
   "cell_type": "markdown",
   "metadata": {},
   "source": [
    "# 2. Lists\n",
    "\n",
    "Now that we're familiar with methods, most problems we do in class will involve writing a method that does _____. So for each of these problems, you'll be writing a method that performs some task with a list (or maybe two).\n",
    "\n",
    "Note that for 2.1-2.3, I have provided the method header as well as a line to test the method. Your job is to fill in the code inside the method.\n",
    "\n",
    "For 2.4-2.5, you'll need to write the method header and test case yourself."
   ]
  },
  {
   "cell_type": "markdown",
   "metadata": {},
   "source": [
    "## 2.1: Compile List\n",
    "\n",
    "This method takes five separate values (`a`-`e`) as parameters. Your task is to write the method so that the five values are placed together into a list, and then that list is returned."
   ]
  },
  {
   "cell_type": "code",
   "execution_count": null,
   "metadata": {},
   "outputs": [],
   "source": [
    "def compile_list(a, b, c, d, e):\n",
    "  # Write your code here\n",
    "\n",
    "# Test: should return [2, False, 'wat', 8.4, 7]\n",
    "compile_list(2, False, 'wat', 8.4, 7)"
   ]
  },
  {
   "cell_type": "markdown",
   "metadata": {},
   "source": [
    "## 2.2: Count Occurrences\n",
    "\n",
    "This method takes two parameters: a list of numbers `lst`, and a target number `target`. Your task is to write the method so that it counts the number of times `target` appears in `lst`, and then return that number."
   ]
  },
  {
   "cell_type": "code",
   "execution_count": null,
   "metadata": {},
   "outputs": [],
   "source": [
    "def count_occurrences(lst, target):\n",
    "  # Write your code here\n",
    "\n",
    "# Test: should return 2\n",
    "count_occurrences([1, 7, 4, 5, 3, 5, 3, 2], 3)"
   ]
  },
  {
   "cell_type": "markdown",
   "metadata": {},
   "source": [
    "## 2.3: Add All\n",
    "\n",
    "This method takes one parameter: a list of numbers `lst`. Your task is to write the method so that it computes the sum of all the numbers in the list and then returns that sum. You may **NOT** use the `sum()` method."
   ]
  },
  {
   "cell_type": "code",
   "execution_count": null,
   "metadata": {},
   "outputs": [],
   "source": [
    "def add_all(lst):\n",
    "  # Write your code here\n",
    "\n",
    "# Test: should return 15\n",
    "add_all([1, 2, 3, 4, 5])"
   ]
  },
  {
   "cell_type": "markdown",
   "metadata": {},
   "source": [
    "## 2.4: Extract Evens\n",
    "\n",
    "Write a method named `evens` that takes a list as a parameter, and returns a new list that consists of all of the even numbers from the original list.\n",
    "\n",
    "*Hint: the key here is **new list**. Don't try to edit the original.*"
   ]
  },
  {
   "cell_type": "code",
   "execution_count": null,
   "metadata": {},
   "outputs": [],
   "source": [
    "# Write your code here"
   ]
  },
  {
   "cell_type": "markdown",
   "metadata": {},
   "source": [
    "## 2.5: Sublist\n",
    "\n",
    "Write a method named `sublist` that takes two lists as parameters. The method should return `True` if **all** values from the second list are contained in the first. Otherwise, it should return `False`.\n",
    "\n",
    "You may **NOT** use either the `issubset()` method or the `all()` method."
   ]
  },
  {
   "cell_type": "code",
   "execution_count": null,
   "metadata": {},
   "outputs": [],
   "source": [
    "# Write your code here"
   ]
  }
 ],
 "metadata": {
  "kernelspec": {
   "display_name": "Python 3",
   "language": "python",
   "name": "python3"
  },
  "language_info": {
   "codemirror_mode": {
    "name": "ipython",
    "version": 3
   },
   "file_extension": ".py",
   "mimetype": "text/x-python",
   "name": "python",
   "nbconvert_exporter": "python",
   "pygments_lexer": "ipython3",
   "version": "3.8.3"
  }
 },
 "nbformat": 4,
 "nbformat_minor": 4
}
