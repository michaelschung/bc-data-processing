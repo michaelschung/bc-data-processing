{
 "cells": [
  {
   "cell_type": "code",
   "execution_count": null,
   "metadata": {},
   "outputs": [],
   "source": [
    "!pip install fibonacci\n",
    "from fibonacci import fibo as library_fib"
   ]
  },
  {
   "cell_type": "markdown",
   "metadata": {},
   "source": [
    "# Python Quiz\n",
    "\n",
    "Welcome to the quiz! For this problem, you'll be writing a method implementing the Fibonacci Sequence. But first, let's define what that is."
   ]
  },
  {
   "cell_type": "markdown",
   "metadata": {},
   "source": [
    "## Introduction: The Fibonacci Sequence\n",
    "\n",
    "The Fibonacci Sequence is as follows:\n",
    "\n",
    "$\\hspace{1cm}0, 1, 1, 2, 3, 5, 8, 13, 21, 34, \\ldots$\n",
    "\n",
    "The pattern for this sequence is given by the following rules:\n",
    "- The 0th term of the sequence, $a_0$, is equal to $0$\n",
    "- The 1st term of the sequence, $a_1$, is equal to $1$\n",
    "- The $n$th term of the sequence, $a_n$, is equal to $a_{n-1} + a_{n-2}$\n",
    "\n",
    "In normal words, we can say that the first two terms are 0 and 1, and each subsequent term is equal to the sum of the previous two terms."
   ]
  },
  {
   "cell_type": "markdown",
   "metadata": {},
   "source": [
    "## The Task (don't type your solution here)\n",
    "\n",
    "**Your task is to write a method called `fib`, which takes a parameter `n` and returns the $n$th term in the Fibonacci sequence.**\n",
    "\n",
    "For example:\n",
    "- `fib(0)` should return `0`\n",
    "- `fib(1)` should return `1`\n",
    "- `fib(6)` should return `8`\n",
    "- `fib(10)` should return `55`\n",
    "- etc.\n",
    "\n",
    "To help clarify your goal, I am providing the following function from a library called `fibonacci`, which was imported up at the top of this notebook. You may **_not_** use this as any part of your final solution; think of it as the method whose functionality you're trying to replicate."
   ]
  },
  {
   "cell_type": "code",
   "execution_count": null,
   "metadata": {},
   "outputs": [],
   "source": [
    "# This is what you're trying to replicate.\n",
    "# Feel free to mess around with it here to clarify your goal.\n",
    "library_fib(10)"
   ]
  },
  {
   "cell_type": "markdown",
   "metadata": {},
   "source": [
    "## Your Code (type your solution here)\n",
    "\n",
    "You may assume that $n$ is a nonnegative integer."
   ]
  },
  {
   "cell_type": "code",
   "execution_count": null,
   "metadata": {},
   "outputs": [],
   "source": [
    "# WRITE YOUR SOLUTION CODE IN THIS CELL\n",
    "# Note: Do not write anything except the fib() method in this cell.\n",
    "# Any code for testing your method can be added in the designated cell below."
   ]
  },
  {
   "cell_type": "markdown",
   "metadata": {},
   "source": [
    "## Run this cell to test your code\n",
    "\n",
    "Feel free to add more tests! You're also welcome to add new code cells if you wish to separate out various tests."
   ]
  },
  {
   "cell_type": "code",
   "execution_count": null,
   "metadata": {},
   "outputs": [],
   "source": [
    "# Here's an example using the library function\n",
    "print('LIBRARY FUNCTION:')\n",
    "for i in range(10):\n",
    "    print(library_fib(i))\n",
    "\n",
    "# If your code is working, then the following code should print the exact same\n",
    "# thing as the library function. Note that this cell will error if you run it\n",
    "# before you create the fib() method in the solution section above.\n",
    "print('\\nMY CODE:')\n",
    "for i in range(10):\n",
    "    print(fib(i))"
   ]
  }
 ],
 "metadata": {
  "kernelspec": {
   "display_name": "Python 3",
   "language": "python",
   "name": "python3"
  },
  "language_info": {
   "codemirror_mode": {
    "name": "ipython",
    "version": 3
   },
   "file_extension": ".py",
   "mimetype": "text/x-python",
   "name": "python",
   "nbconvert_exporter": "python",
   "pygments_lexer": "ipython3",
   "version": "3.8.3"
  }
 },
 "nbformat": 4,
 "nbformat_minor": 4
}
