{
 "cells": [
  {
   "cell_type": "markdown",
   "metadata": {},
   "source": [
    "# Python Basics"
   ]
  },
  {
   "cell_type": "markdown",
   "metadata": {},
   "source": [
    "## Brackets and Spacing\n",
    "\n",
    "```java\n",
    "// Java code\n",
    "for (int i = 0; i < 10; i++) {\n",
    "  System.out.println(i);\n",
    "}\n",
    "```\n",
    "\n",
    "```java\n",
    "// Technically works, but please don't do this ever.\n",
    "for(int i=0;i<10;i++){System.out.println(i);}\n",
    "```"
   ]
  },
  {
   "cell_type": "code",
   "execution_count": null,
   "metadata": {},
   "outputs": [],
   "source": [
    "# Python version of a for loop – the spacing is essential!\n",
    "for i in range(10):\n",
    "    print(i)"
   ]
  },
  {
   "cell_type": "code",
   "execution_count": null,
   "metadata": {},
   "outputs": [],
   "source": [
    "# Spacing also required for methods, conditionals, etc.\n",
    "def say_hello():\n",
    "    print('hello')\n",
    "\n",
    "say_hello()\n",
    "\n",
    "if 3 < 5:\n",
    "    print('three is less than five')"
   ]
  },
  {
   "cell_type": "markdown",
   "metadata": {},
   "source": [
    "## Types\n",
    "\n",
    "```java\n",
    "// Java code\n",
    "int x = 5;\n",
    "String str = \"hello\";\n",
    "ArrayList<String> list = new ArrayList<String>();\n",
    "```"
   ]
  },
  {
   "cell_type": "code",
   "execution_count": null,
   "metadata": {},
   "outputs": [],
   "source": [
    "# Python types are inferred\n",
    "x = 7\n",
    "word = 'hello'\n",
    "lst = [1, 2, 3]"
   ]
  },
  {
   "cell_type": "code",
   "execution_count": null,
   "metadata": {},
   "outputs": [],
   "source": [
    "# Check the type of any variable using the built-in type() function\n",
    "type(lst)"
   ]
  },
  {
   "cell_type": "code",
   "execution_count": null,
   "metadata": {},
   "outputs": [],
   "source": [
    "type(word) == str"
   ]
  },
  {
   "cell_type": "markdown",
   "metadata": {},
   "source": [
    "## Conditionals"
   ]
  },
  {
   "cell_type": "code",
   "execution_count": null,
   "metadata": {},
   "outputs": [],
   "source": [
    "# Conditional block\n",
    "if x == 5:\n",
    "    print('x is 5')\n",
    "elif x == 8:\n",
    "    print('x is 8')\n",
    "elif x == 11:\n",
    "    print('x is 11')\n",
    "else:\n",
    "    print('x is not 5')\n",
    "\n",
    "# New conditional block; separate from the previous one\n",
    "if x == 7:\n",
    "    print('x is 7')"
   ]
  },
  {
   "cell_type": "markdown",
   "metadata": {},
   "source": [
    "## Loops"
   ]
  },
  {
   "cell_type": "code",
   "execution_count": null,
   "metadata": {},
   "outputs": [],
   "source": [
    "# [0, 10)\n",
    "for i in range(10):\n",
    "    print(i)"
   ]
  },
  {
   "cell_type": "code",
   "execution_count": null,
   "metadata": {},
   "outputs": [],
   "source": [
    "# [10, 21)\n",
    "for i in range(10, 21):\n",
    "    print(i)"
   ]
  },
  {
   "cell_type": "code",
   "execution_count": null,
   "metadata": {},
   "outputs": [],
   "source": [
    "# [10, 21) evens\n",
    "for i in range(10, 21, 2):\n",
    "    print(i)"
   ]
  },
  {
   "cell_type": "code",
   "execution_count": null,
   "metadata": {},
   "outputs": [],
   "source": [
    "# Write a for loop that prints all multiples of 3 that are less than 100\n",
    "for i in range(3, 100, 3):\n",
    "    print(i)"
   ]
  },
  {
   "cell_type": "code",
   "execution_count": null,
   "metadata": {},
   "outputs": [],
   "source": [
    "# From 2 to 49 (inclusive) in increments of 7\n",
    "for i in range(2, 50, 7):\n",
    "    print(i)"
   ]
  },
  {
   "cell_type": "code",
   "execution_count": null,
   "metadata": {},
   "outputs": [],
   "source": [
    "# Multiples of 13 that are less than 150\n",
    "for i in range(13, 150, 13):\n",
    "    print(i)"
   ]
  },
  {
   "cell_type": "code",
   "execution_count": null,
   "metadata": {},
   "outputs": [],
   "source": [
    "# From 10 to -10 (inclusive)\n",
    "for i in range(10, -11, -1):\n",
    "    print(i)"
   ]
  },
  {
   "cell_type": "code",
   "execution_count": null,
   "metadata": {},
   "outputs": [],
   "source": [
    "# Another option, but silly in this instance\n"
   ]
  },
  {
   "cell_type": "code",
   "execution_count": null,
   "metadata": {},
   "outputs": [],
   "source": [
    "# Write a for loop that prints negative even integers, starting at -2 and going to -20\n",
    "for i in range(-2, -21, -2):\n",
    "    print(i)"
   ]
  },
  {
   "cell_type": "markdown",
   "metadata": {},
   "source": [
    "In Java, you can change a loop index in the middle of the loop, which will interrupt the flow of the loop itself. You can't do this in Python.\n",
    "\n",
    "```java\n",
    "// This loop will run forever\n",
    "for (int i = 0; i < 10; i++) {\n",
    "  System.out.println(\"hello\");\n",
    "  if (i > 5) {\n",
    "    i = 5;\n",
    "  }\n",
    "}\n",
    "```"
   ]
  },
  {
   "cell_type": "code",
   "execution_count": null,
   "metadata": {},
   "outputs": [],
   "source": [
    "# Doesn't work in Python\n",
    "for i in range(10):\n",
    "    print('hello')\n",
    "    if i > 5:\n",
    "        i = 5"
   ]
  }
 ],
 "metadata": {
  "kernelspec": {
   "display_name": "Python 3",
   "language": "python",
   "name": "python3"
  },
  "language_info": {
   "codemirror_mode": {
    "name": "ipython",
    "version": 3
   },
   "file_extension": ".py",
   "mimetype": "text/x-python",
   "name": "python",
   "nbconvert_exporter": "python",
   "pygments_lexer": "ipython3",
   "version": "3.8.3"
  }
 },
 "nbformat": 4,
 "nbformat_minor": 4
}
