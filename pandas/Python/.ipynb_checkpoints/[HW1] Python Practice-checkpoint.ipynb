{
 "cells": [
  {
   "cell_type": "markdown",
   "metadata": {},
   "source": [
    "# 1: Printing [3 pts]\n",
    "\n",
    "In this problem, you'll explore Python's `print` function. To complete the following exercises, you'll need to do a bit of personal research into the detailed workings of printing in Python."
   ]
  },
  {
   "cell_type": "markdown",
   "metadata": {},
   "source": [
    "## 1.1: Simple print statement [1 pt]\n",
    "\n",
    "Let's start easy. Write a single line of code that prints the following text:\n",
    "\n",
    "```\n",
    "Have you ever heard the tragedy of Darth Plagueis the Wise?\n",
    "```"
   ]
  },
  {
   "cell_type": "code",
   "execution_count": null,
   "metadata": {},
   "outputs": [],
   "source": [
    "# Type your 1.1 code in this cell"
   ]
  },
  {
   "cell_type": "markdown",
   "metadata": {},
   "source": [
    "## 1.2: Printing a new line [1 pt]\n",
    "\n",
    "Write a _**single**_ print statement that precisely replicates the following text. Note that the output should be two separate lines of text, but this must be accomplished with a single print statement.\n",
    "\n",
    "```\n",
    "Hello there.\n",
    "General Kenobi!\n",
    "```"
   ]
  },
  {
   "cell_type": "code",
   "execution_count": null,
   "metadata": {},
   "outputs": [],
   "source": [
    "# Type your 1.2 code in this cell"
   ]
  },
  {
   "cell_type": "markdown",
   "metadata": {},
   "source": [
    "## 1.3: Printing on the same line [1 pt]\n",
    "\n",
    "Write _**two separate**_ print statements that precisely replicate the following text. Note that the output should be one single line of text, but it must be accomplished with two print statements.\n",
    "\n",
    "```\n",
    "This is where the fun begins.\n",
    "```"
   ]
  },
  {
   "cell_type": "code",
   "execution_count": null,
   "metadata": {},
   "outputs": [],
   "source": [
    "# Type your 1.3 code in this cell"
   ]
  },
  {
   "cell_type": "markdown",
   "metadata": {},
   "source": [
    "# 2: Conditionals [5 pts]\n",
    "\n",
    "Run the following cell to set the values of two variables, `x` and `y`."
   ]
  },
  {
   "cell_type": "code",
   "execution_count": null,
   "metadata": {},
   "outputs": [],
   "source": [
    "x = 5\n",
    "y = 2.7\n",
    "word = 'Binks'"
   ]
  },
  {
   "cell_type": "markdown",
   "metadata": {},
   "source": [
    "## 2.1: Comparing values [2 pts]\n",
    "\n",
    "Write a conditional block that accomplishes the following:\n",
    "- If x is greater than y, print the words `x is greater than y`.\n",
    "- Otherwise, print the words `x is less than or equal to y`.\n",
    "\n",
    "To test that your code is working properly, edit the previous code cell to change the values of `x` and `y`, and then run your 2.1 code again."
   ]
  },
  {
   "cell_type": "code",
   "execution_count": null,
   "metadata": {},
   "outputs": [],
   "source": [
    "# Type your 2.1 code in this cell"
   ]
  },
  {
   "cell_type": "markdown",
   "metadata": {},
   "source": [
    "## 2.2: Checking types [3 pts]\n",
    "\n",
    "Write a conditional block that accomplishes the following:\n",
    "- If `x` is an `int`, print the word `I`.\n",
    "- If `word` is a `str`, print the word `hate`.\n",
    "- If `x` and `word` have the same type, print the word `you`.\n",
    "\n",
    "To test that your code is working properly, edit the values of `x` and `word` (feel free to change their types!), and then run your 2.2 code again."
   ]
  },
  {
   "cell_type": "code",
   "execution_count": null,
   "metadata": {},
   "outputs": [],
   "source": [
    "# Type your 2.2 code in this cell"
   ]
  },
  {
   "cell_type": "markdown",
   "metadata": {},
   "source": [
    "# 3: Loops [12 pts]"
   ]
  },
  {
   "cell_type": "markdown",
   "metadata": {},
   "source": [
    "## 3.1: Print the numbers 0 to 9 [2 pts]"
   ]
  },
  {
   "cell_type": "code",
   "execution_count": null,
   "metadata": {},
   "outputs": [],
   "source": [
    "# Type your 3.1 code in this cell"
   ]
  },
  {
   "cell_type": "markdown",
   "metadata": {},
   "source": [
    "## 3.2: Print the numbers 60 to 66 [2 pts]"
   ]
  },
  {
   "cell_type": "code",
   "execution_count": null,
   "metadata": {},
   "outputs": [],
   "source": [
    "# Type your 3.2 code in this cell"
   ]
  },
  {
   "cell_type": "markdown",
   "metadata": {},
   "source": [
    "## 3.3: Print all even numbers between 2 and 12 (inclusive of both ends) [2 pts]"
   ]
  },
  {
   "cell_type": "code",
   "execution_count": null,
   "metadata": {},
   "outputs": [],
   "source": [
    "# Type your 3.3 code in this cell"
   ]
  },
  {
   "cell_type": "markdown",
   "metadata": {},
   "source": [
    "## 3.4: DOIT [6 pts]\n",
    "\n",
    "Write a loop that (overall) prints the numbers 1 to 50. However, there are some additional requirements:\n",
    "- If the number is a multiple of 3, print `DO`.\n",
    "- If the number is a multiple of 5, print `IT`.\n",
    "- If the number is a multiple of both 3 and 5, print `DOIT`.\n",
    "\n",
    "The first 25 lines of your output should look like this:\n",
    "\n",
    "```\n",
    "1\n",
    "2\n",
    "DO\n",
    "4\n",
    "IT\n",
    "DO\n",
    "7\n",
    "8\n",
    "DO\n",
    "IT\n",
    "11\n",
    "DO\n",
    "13\n",
    "14\n",
    "DOIT\n",
    "16\n",
    "17\n",
    "DO\n",
    "19\n",
    "IT\n",
    "DO\n",
    "22\n",
    "23\n",
    "DO\n",
    "IT\n",
    "...\n",
    "```\n",
    "\n",
    "The rest of your output should follow the same pattern."
   ]
  },
  {
   "cell_type": "code",
   "execution_count": null,
   "metadata": {},
   "outputs": [],
   "source": [
    "# Type your 3.4 code in this cell"
   ]
  }
 ],
 "metadata": {
  "kernelspec": {
   "display_name": "Python 3",
   "language": "python",
   "name": "python3"
  },
  "language_info": {
   "codemirror_mode": {
    "name": "ipython",
    "version": 3
   },
   "file_extension": ".py",
   "mimetype": "text/x-python",
   "name": "python",
   "nbconvert_exporter": "python",
   "pygments_lexer": "ipython3",
   "version": "3.8.3"
  }
 },
 "nbformat": 4,
 "nbformat_minor": 4
}
