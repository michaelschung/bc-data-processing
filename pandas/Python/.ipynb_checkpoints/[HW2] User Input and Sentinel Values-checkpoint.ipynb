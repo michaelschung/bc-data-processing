{
 "cells": [
  {
   "cell_type": "markdown",
   "metadata": {},
   "source": [
    "# 1: Maximum [6 pts]\n",
    "\n",
    "Write a program that repeatedly prompts the user for numerical inputs, until they enter the sentinel value of `0`. Once the sentinel value has been entered, the method should print the maximum value out of the many entered (not including the sentinel).\n",
    "\n",
    "You may assume that the user will enter at least one value before the sentinel, but note that if the user only enters one value before the sentinel, then that one value counts as the maximum.\n",
    "\n",
    "_You may not use any built-in `max()` or `min()` functions._\n",
    "\n",
    "Here's what an example run might look like:\n",
    "\n",
    "```\n",
    "Enter a number: 4\n",
    "Enter a number: 9\n",
    "Enter a number: 2\n",
    "Enter a number: -5\n",
    "Enter a number: 8\n",
    "Enter a number: 0\n",
    "\n",
    "Max: 8\n",
    "```"
   ]
  },
  {
   "cell_type": "code",
   "execution_count": null,
   "metadata": {},
   "outputs": [],
   "source": [
    "# Write your code for Problem 1 here"
   ]
  },
  {
   "cell_type": "markdown",
   "metadata": {},
   "source": [
    "# 2: Average [8 pts]\n",
    "\n",
    "Write a program that repeatedly prompts the user for numerical inputs, until they enter the sentinel value of `0`. Once the sentinel value has been entered, the method should print the average of all the values entered (not including the sentinel).\n",
    "\n",
    "_You may not use any built-in `average()` or `mean()` functions._\n",
    "\n",
    "Here's what an example run might look like:\n",
    "\n",
    "```\n",
    "Enter a number: 5\n",
    "Enter a number: 8\n",
    "Enter a number: 3\n",
    "Enter a number: 12\n",
    "Enter a number: 4\n",
    "Enter a number: 0\n",
    "\n",
    "Average: 6.4\n",
    "```"
   ]
  },
  {
   "cell_type": "code",
   "execution_count": null,
   "metadata": {},
   "outputs": [],
   "source": [
    "# Write your code for Problem 2 here"
   ]
  },
  {
   "cell_type": "markdown",
   "metadata": {},
   "source": [
    "# 3: Extract evens [6 pts]\n",
    "\n",
    "Write a program according to the following instructions.\n",
    "\n",
    "- First prompt the user to enter a sentinel value.\n",
    "- Then, repeatedly prompt the user for numerical inputs, until they enter the previously determined sentinel value.\n",
    "- As the numbers are being entered, print back the ones that are even. _Hint: if `x` is even, then `x % 2 == 0`._\n",
    "\n",
    "Here's what an example run might look like:\n",
    "\n",
    "```\n",
    "Enter a sentinel value: -5\n",
    "\n",
    "Enter a number: 8\n",
    "8\n",
    "Enter a number: 5\n",
    "Enter a number: -2\n",
    "-2\n",
    "Enter a number: 10\n",
    "10\n",
    "Enter a number: -3\n",
    "Enter a number: 0\n",
    "0\n",
    "Enter a number: 7\n",
    "Enter a number: -5\n",
    "```"
   ]
  },
  {
   "cell_type": "code",
   "execution_count": null,
   "metadata": {},
   "outputs": [],
   "source": [
    "# Write your code for Problem 3 here"
   ]
  }
 ],
 "metadata": {
  "kernelspec": {
   "display_name": "Python 3",
   "language": "python",
   "name": "python3"
  },
  "language_info": {
   "codemirror_mode": {
    "name": "ipython",
    "version": 3
   },
   "file_extension": ".py",
   "mimetype": "text/x-python",
   "name": "python",
   "nbconvert_exporter": "python",
   "pygments_lexer": "ipython3",
   "version": "3.8.3"
  }
 },
 "nbformat": 4,
 "nbformat_minor": 4
}
