{
 "cells": [
  {
   "cell_type": "markdown",
   "metadata": {},
   "source": [
    "# While Loops\n",
    "\n",
    "A **while loop** is one that runs _as long as_ a given condition remains true."
   ]
  },
  {
   "cell_type": "code",
   "execution_count": null,
   "metadata": {},
   "outputs": [],
   "source": [
    "while x >= 0:\n",
    "    print(x)\n",
    "    x -= 1"
   ]
  },
  {
   "cell_type": "markdown",
   "metadata": {},
   "source": [
    "# Example: Hailstone Sequences\n",
    "\n",
    "A **Hailstone Sequence** is defined as follows:\n",
    "1. Start with a positive integer `n`.\n",
    "2. If `n` is even, divide it by 2. If it's odd, multiply it by 3 and add 1. This is your new value of `n`.\n",
    "3. Repeat Step 2 until `n` becomes 1.\n",
    "\n",
    "The sequence of numbers visited along the way make up the _hailstone sequence_ for the given starting number."
   ]
  },
  {
   "cell_type": "code",
   "execution_count": null,
   "metadata": {},
   "outputs": [],
   "source": [
    "# Generate the Hailstone Sequence beginning with n\n",
    "n = 9\n",
    "\n",
    "while n > 1:\n",
    "    print(n)\n",
    "    # If n is even, divide it by 2\n",
    "    if n % 2 == 0:\n",
    "        n = n // 2\n",
    "    else:\n",
    "        n = n * 3 + 1\n",
    "\n",
    "print(n)"
   ]
  },
  {
   "cell_type": "markdown",
   "metadata": {},
   "source": [
    "# User Input\n",
    "\n",
    "Python has a built-in `input()` function that prompts the user to enter information while it is running."
   ]
  },
  {
   "cell_type": "code",
   "execution_count": null,
   "metadata": {},
   "outputs": [],
   "source": [
    "# Basic user input\n",
    "word = input()\n",
    "print(word)"
   ]
  },
  {
   "cell_type": "code",
   "execution_count": null,
   "metadata": {},
   "outputs": [],
   "source": [
    "# User input with custom prompt\n",
    "word = input('Enter a word: ')\n",
    "print(type(word))"
   ]
  },
  {
   "cell_type": "code",
   "execution_count": null,
   "metadata": {},
   "outputs": [],
   "source": [
    "# Type casting\n",
    "num = int(input('Enter a number:'))\n",
    "print(type(num))"
   ]
  },
  {
   "cell_type": "code",
   "execution_count": null,
   "metadata": {},
   "outputs": [],
   "source": [
    "n = int(input('Enter a number:'))\n",
    "\n",
    "while n > 1:\n",
    "    print(n)\n",
    "    # If n is even, divide it by 2\n",
    "    if n % 2 == 0:\n",
    "        n = n // 2\n",
    "    else:\n",
    "        n = n * 3 + 1\n",
    "\n",
    "print(n)"
   ]
  },
  {
   "cell_type": "markdown",
   "metadata": {},
   "source": [
    "# Practice Problems"
   ]
  },
  {
   "cell_type": "markdown",
   "metadata": {},
   "source": [
    "## Sentinel value"
   ]
  },
  {
   "cell_type": "code",
   "execution_count": null,
   "metadata": {},
   "outputs": [],
   "source": [
    "# Lay down first \"post\"\n",
    "num = int(input('Enter num:'))\n",
    "\n",
    "# Loop as long as num is not the sentinel value\n",
    "while num != 0:\n",
    "    # Lay down \"beam\"\n",
    "    print(num)\n",
    "    # Lsy down \"post\"\n",
    "    num = int(input('Enter num:'))"
   ]
  },
  {
   "cell_type": "markdown",
   "metadata": {},
   "source": [
    "# Total sum\n",
    "\n",
    "Write a program that repeatedly requests numbers from the user, until they enter a sentinel value of `0`. Once the loop ends, print the sum of all the numbers entered (not including the `0`)."
   ]
  },
  {
   "cell_type": "code",
   "execution_count": null,
   "metadata": {},
   "outputs": [],
   "source": [
    "total = 0\n",
    "num = int(input('Enter num:'))\n",
    "\n",
    "while num != 0:\n",
    "    total += num\n",
    "    num = int(input('Enter num:'))\n",
    "\n",
    "print(total)"
   ]
  },
  {
   "cell_type": "markdown",
   "metadata": {},
   "source": [
    "## Minimum\n",
    "\n",
    "Write a program that repeatedly requests numbers from the user, until they enter a sentinel value of `0`. Once the loop ends, print the minimum value received from the user."
   ]
  },
  {
   "cell_type": "code",
   "execution_count": null,
   "metadata": {},
   "outputs": [],
   "source": [
    "num = int(input('Enter num:'))\n",
    "smallest = num\n",
    "\n",
    "while num != 0:\n",
    "    if num < smallest:\n",
    "        smallest = num\n",
    "    num = int(input('Enter num:'))\n",
    "\n",
    "if smallest != 0:\n",
    "    print(smallest)"
   ]
  }
 ],
 "metadata": {
  "kernelspec": {
   "display_name": "Python 3",
   "language": "python",
   "name": "python3"
  },
  "language_info": {
   "codemirror_mode": {
    "name": "ipython",
    "version": 3
   },
   "file_extension": ".py",
   "mimetype": "text/x-python",
   "name": "python",
   "nbconvert_exporter": "python",
   "pygments_lexer": "ipython3",
   "version": "3.8.3"
  }
 },
 "nbformat": 4,
 "nbformat_minor": 4
}
