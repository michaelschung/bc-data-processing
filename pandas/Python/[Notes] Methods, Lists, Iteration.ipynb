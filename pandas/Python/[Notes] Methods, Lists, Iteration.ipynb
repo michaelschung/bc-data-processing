{
 "cells": [
  {
   "cell_type": "markdown",
   "metadata": {},
   "source": [
    "# Side Note: String Formatting\n",
    "\n",
    "Python makes string formatting really easy. If you have any variables whose values you'd like to print in the middle of a string, you can use the `.format()` method. See below for an example."
   ]
  },
  {
   "cell_type": "code",
   "execution_count": 7,
   "metadata": {},
   "outputs": [
    {
     "name": "stdout",
     "output_type": "stream",
     "text": [
      "The number is 4 and the word is hello\n",
      "The number is 4 and the word is hello\n"
     ]
    }
   ],
   "source": [
    "x = 4\n",
    "word = 'hello'\n",
    "\n",
    "# Insert the values of x and word directly into a string\n",
    "print('The number is {} and the word is {}'.format(x, word))\n",
    "print(f'The number is {x} and the word is {word}')"
   ]
  },
  {
   "cell_type": "markdown",
   "metadata": {},
   "source": [
    "# Methods\n",
    "\n",
    "```java\n",
    "// Generalized Java method\n",
    "public void doSomething(int x, int y) {\n",
    "  System.out.println(x + \" \" + y);\n",
    "}\n",
    "```"
   ]
  },
  {
   "cell_type": "code",
   "execution_count": 9,
   "metadata": {},
   "outputs": [
    {
     "name": "stdout",
     "output_type": "stream",
     "text": [
      "2 3\n"
     ]
    }
   ],
   "source": [
    "# Generalized Python method\n",
    "def do_something(x, y):\n",
    "    # Body goes here\n",
    "    print(x, y)\n",
    "\n",
    "do_something(2, 3)"
   ]
  },
  {
   "cell_type": "markdown",
   "metadata": {},
   "source": [
    "## 4 Types of Methods\n",
    "1. Procedure: no parameter(s), no return value\n",
    "2. Supplier: no parameter(s), has return value\n",
    "3. Consumer: takes parameter(s), no return value\n",
    "4. Function: takes parameter(s), has return value"
   ]
  },
  {
   "cell_type": "code",
   "execution_count": 15,
   "metadata": {},
   "outputs": [
    {
     "name": "stdout",
     "output_type": "stream",
     "text": [
      "Hello there.\n",
      "5\n",
      "Do it.\n",
      "Do it.\n",
      "Do it.\n",
      "Do it.\n",
      "Do it.\n",
      "12\n"
     ]
    }
   ],
   "source": [
    "# Procedure\n",
    "def greeting():\n",
    "    print('Hello there.')\n",
    "\n",
    "# Supplier\n",
    "def give_number():\n",
    "    return 5\n",
    "\n",
    "# Consumer\n",
    "def print_n_times(n):\n",
    "    for i in range(n):\n",
    "        print('Do it.')\n",
    "\n",
    "# Function\n",
    "def multiply(a, b):\n",
    "    c = a * b\n",
    "    return c\n",
    "\n",
    "greeting()\n",
    "num = give_number()\n",
    "print(num)\n",
    "print_n_times(5)\n",
    "print(multiply(3, 4))"
   ]
  },
  {
   "cell_type": "markdown",
   "metadata": {},
   "source": [
    "### Note on printing\n",
    "\n",
    "PRINTING ≠ RETURNING"
   ]
  },
  {
   "cell_type": "code",
   "execution_count": 17,
   "metadata": {},
   "outputs": [
    {
     "name": "stdout",
     "output_type": "stream",
     "text": [
      "hello there\n",
      "hello there\n",
      "hello there\n",
      "hello there\n",
      "hello there\n"
     ]
    }
   ],
   "source": [
    "# Consumer method that takes two parameters: a string word and an int n; this method should\n",
    "# print word n times\n",
    "def print_str_n_times(word, n):\n",
    "    for i in range(n):\n",
    "        print(word)\n",
    "        \n",
    "print_str_n_times('hello there', 5)"
   ]
  },
  {
   "cell_type": "markdown",
   "metadata": {},
   "source": [
    "# Lists\n",
    "\n",
    "A **list** is a data structure that holds multiple pieces of data in a single variable."
   ]
  },
  {
   "cell_type": "code",
   "execution_count": 19,
   "metadata": {},
   "outputs": [
    {
     "name": "stdout",
     "output_type": "stream",
     "text": [
      "[]\n"
     ]
    }
   ],
   "source": [
    "lst = [1, 2, 3, 4, 5, 6, 7, 8, 9]\n",
    "\n",
    "empty_lst = []\n",
    "\n",
    "print(empty_lst)"
   ]
  },
  {
   "cell_type": "markdown",
   "metadata": {},
   "source": [
    "## Indexing\n",
    "\n",
    "The *index* of a value refers to its position within the list.\n",
    "\n",
    "Indexes begin at 0."
   ]
  },
  {
   "cell_type": "code",
   "execution_count": 24,
   "metadata": {},
   "outputs": [
    {
     "name": "stdout",
     "output_type": "stream",
     "text": [
      "e\n",
      "['a', 'b', 'c', 'd', 'z', 'f', 'g']\n",
      "z\n"
     ]
    }
   ],
   "source": [
    "str_lst = ['a', 'b', 'c', 'd', 'e', 'f', 'g']\n",
    "#           0    1    2    3    4    5    6\n",
    "#          -7   -6   -5   -4   -3   -2   -1\n",
    "\n",
    "# Access values by index\n",
    "print(str_lst[4])\n",
    "\n",
    "# Set values by specifying index\n",
    "str_lst[4] = 'z'\n",
    "print(str_lst)\n",
    "\n",
    "# Backwards indexing\n",
    "print(str_lst[-3])"
   ]
  },
  {
   "cell_type": "markdown",
   "metadata": {},
   "source": [
    "## Appending and Concatenating"
   ]
  },
  {
   "cell_type": "code",
   "execution_count": 27,
   "metadata": {},
   "outputs": [
    {
     "name": "stdout",
     "output_type": "stream",
     "text": [
      "[4, 'hello']\n"
     ]
    }
   ],
   "source": [
    "# Appending\n",
    "empty_lst = []\n",
    "empty_lst.append(4)\n",
    "empty_lst.append('hello')\n",
    "print(empty_lst)"
   ]
  },
  {
   "cell_type": "code",
   "execution_count": 35,
   "metadata": {},
   "outputs": [
    {
     "name": "stdout",
     "output_type": "stream",
     "text": [
      "[2, 4, 6, 8, 10, 1, 3, 5, 7, 9]\n"
     ]
    }
   ],
   "source": [
    "# Concatenating\n",
    "evens = [2, 4, 6, 8, 10]\n",
    "odds = [1, 3, 5, 7, 9]\n",
    "\n",
    "evens.extend(odds)\n",
    "print(evens)"
   ]
  },
  {
   "cell_type": "markdown",
   "metadata": {},
   "source": [
    "## Iterating through a List"
   ]
  },
  {
   "cell_type": "code",
   "execution_count": 37,
   "metadata": {},
   "outputs": [
    {
     "name": "stdout",
     "output_type": "stream",
     "text": [
      "hello\n",
      "goodbye\n",
      "hi\n",
      "yo\n",
      "etc\n",
      "hello\n",
      "goodbye\n",
      "hi\n",
      "yo\n",
      "etc\n"
     ]
    }
   ],
   "source": [
    "word_lst = ['hello', 'goodbye', 'hi', 'yo', 'etc']\n",
    "\n",
    "for word in word_lst:\n",
    "    print(word)\n",
    "    \n",
    "for i in range(len(word_lst)):\n",
    "    print(word_lst[i])"
   ]
  },
  {
   "cell_type": "code",
   "execution_count": 41,
   "metadata": {},
   "outputs": [
    {
     "name": "stdout",
     "output_type": "stream",
     "text": [
      "['are', 'a']\n"
     ]
    }
   ],
   "source": [
    "# Write a method that takes a list as a parameter; the method should\n",
    "# return a new list containing all words from the original that begin\n",
    "# with the letter 'a'\n",
    "def find_a_words(lst):\n",
    "    new_lst = []\n",
    "    for word in lst:\n",
    "        if word[0] == 'a':\n",
    "            new_lst.append(word)\n",
    "    return new_lst\n",
    "\n",
    "word_lst = ['general', 'kenobi', 'you', 'are', 'a', 'bold', 'one']\n",
    "print(find_a_words(word_lst))"
   ]
  },
  {
   "cell_type": "code",
   "execution_count": 45,
   "metadata": {},
   "outputs": [
    {
     "name": "stdout",
     "output_type": "stream",
     "text": [
      "['a', 'alabama']\n"
     ]
    }
   ],
   "source": [
    "# Write a method that takes a list as a parameter; the method should\n",
    "# return a new list containing all words from the original that end\n",
    "# with the letter 'a'\n",
    "def find_a_end(lst):\n",
    "    new_lst = []\n",
    "    for word in lst:\n",
    "        if word[-1] == 'a':\n",
    "            new_lst.append(word)\n",
    "    return new_lst\n",
    "\n",
    "word_lst = ['general', 'kenobi', 'you', 'are', 'a', 'bold', 'one', 'alabama']\n",
    "print(find_a_end(word_lst))"
   ]
  },
  {
   "cell_type": "code",
   "execution_count": 50,
   "metadata": {},
   "outputs": [
    {
     "name": "stdout",
     "output_type": "stream",
     "text": [
      "['bold']\n"
     ]
    }
   ],
   "source": [
    "# Write a method that takes two parameters: a list `lst` and a letter\n",
    "# `target`; the method should return a new list containing all words\n",
    "# from `lst` that begin with the letter `target`\n",
    "def words_with_letter(lst, target):\n",
    "    new_lst = []\n",
    "    for word in lst:\n",
    "        if word[0] == target:\n",
    "            new_lst.append(word)\n",
    "    return new_lst\n",
    "\n",
    "word_lst = ['general', 'kenobi', 'you', 'are', 'a', 'bold', 'one']\n",
    "print(words_with_letter(word_lst, 'b'))"
   ]
  },
  {
   "cell_type": "markdown",
   "metadata": {},
   "source": [
    "## Slicing"
   ]
  },
  {
   "cell_type": "code",
   "execution_count": 51,
   "metadata": {},
   "outputs": [
    {
     "name": "stdout",
     "output_type": "stream",
     "text": [
      "['you', 'are', 'a', 'bold']\n"
     ]
    }
   ],
   "source": [
    "print(word_lst[2:6])"
   ]
  },
  {
   "cell_type": "code",
   "execution_count": null,
   "metadata": {},
   "outputs": [],
   "source": []
  }
 ],
 "metadata": {
  "kernelspec": {
   "display_name": "Python 3",
   "language": "python",
   "name": "python3"
  },
  "language_info": {
   "codemirror_mode": {
    "name": "ipython",
    "version": 3
   },
   "file_extension": ".py",
   "mimetype": "text/x-python",
   "name": "python",
   "nbconvert_exporter": "python",
   "pygments_lexer": "ipython3",
   "version": "3.8.3"
  }
 },
 "nbformat": 4,
 "nbformat_minor": 4
}
