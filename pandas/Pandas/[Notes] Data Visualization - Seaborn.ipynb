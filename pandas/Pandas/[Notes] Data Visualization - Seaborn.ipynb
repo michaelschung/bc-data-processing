{
 "cells": [
  {
   "cell_type": "code",
   "execution_count": 2,
   "metadata": {},
   "outputs": [],
   "source": [
    "import pandas as pd\n",
    "import seaborn as sns"
   ]
  },
  {
   "cell_type": "markdown",
   "metadata": {},
   "source": [
    "# Visualizing Data with Seaborn\n",
    "\n",
    "[Seaborn](https://seaborn.pydata.org/index.html) is a powerful data visualization library for plotting statistical graphs. It is far more capable than Leather, but that also means that it's easier to get lost. We'll take a look at just a few examples of what we can do with Seaborn, and then you can decide which library you'd like to use for your project."
   ]
  },
  {
   "cell_type": "markdown",
   "metadata": {},
   "source": [
    "## Flight Data\n",
    "\n",
    "For practice, let's look at our good friend the flight data."
   ]
  },
  {
   "cell_type": "code",
   "execution_count": 3,
   "metadata": {},
   "outputs": [
    {
     "data": {
      "text/html": [
       "<div>\n",
       "<style scoped>\n",
       "    .dataframe tbody tr th:only-of-type {\n",
       "        vertical-align: middle;\n",
       "    }\n",
       "\n",
       "    .dataframe tbody tr th {\n",
       "        vertical-align: top;\n",
       "    }\n",
       "\n",
       "    .dataframe thead th {\n",
       "        text-align: right;\n",
       "    }\n",
       "</style>\n",
       "<table border=\"1\" class=\"dataframe\">\n",
       "  <thead>\n",
       "    <tr style=\"text-align: right;\">\n",
       "      <th></th>\n",
       "      <th>YEAR</th>\n",
       "      <th>MONTH</th>\n",
       "      <th>DAY</th>\n",
       "      <th>DAY_OF_WEEK</th>\n",
       "      <th>AIRLINE</th>\n",
       "      <th>FLIGHT_NUMBER</th>\n",
       "      <th>TAIL_NUMBER</th>\n",
       "      <th>ORIGIN_AIRPORT</th>\n",
       "      <th>DESTINATION_AIRPORT</th>\n",
       "      <th>SCHEDULED_DEPARTURE</th>\n",
       "      <th>...</th>\n",
       "      <th>ARRIVAL_TIME</th>\n",
       "      <th>ARRIVAL_DELAY</th>\n",
       "      <th>DIVERTED</th>\n",
       "      <th>CANCELLED</th>\n",
       "      <th>CANCELLATION_REASON</th>\n",
       "      <th>AIR_SYSTEM_DELAY</th>\n",
       "      <th>SECURITY_DELAY</th>\n",
       "      <th>AIRLINE_DELAY</th>\n",
       "      <th>LATE_AIRCRAFT_DELAY</th>\n",
       "      <th>WEATHER_DELAY</th>\n",
       "    </tr>\n",
       "  </thead>\n",
       "  <tbody>\n",
       "    <tr>\n",
       "      <th>0</th>\n",
       "      <td>2015</td>\n",
       "      <td>1</td>\n",
       "      <td>1</td>\n",
       "      <td>4</td>\n",
       "      <td>B6</td>\n",
       "      <td>469</td>\n",
       "      <td>N183JB</td>\n",
       "      <td>BOS</td>\n",
       "      <td>FLL</td>\n",
       "      <td>1915</td>\n",
       "      <td>...</td>\n",
       "      <td>2230.0</td>\n",
       "      <td>-17.0</td>\n",
       "      <td>0</td>\n",
       "      <td>0</td>\n",
       "      <td>NaN</td>\n",
       "      <td>NaN</td>\n",
       "      <td>NaN</td>\n",
       "      <td>NaN</td>\n",
       "      <td>NaN</td>\n",
       "      <td>NaN</td>\n",
       "    </tr>\n",
       "    <tr>\n",
       "      <th>1</th>\n",
       "      <td>2015</td>\n",
       "      <td>1</td>\n",
       "      <td>1</td>\n",
       "      <td>4</td>\n",
       "      <td>MQ</td>\n",
       "      <td>2853</td>\n",
       "      <td>N906MQ</td>\n",
       "      <td>GSO</td>\n",
       "      <td>DFW</td>\n",
       "      <td>730</td>\n",
       "      <td>...</td>\n",
       "      <td>NaN</td>\n",
       "      <td>NaN</td>\n",
       "      <td>0</td>\n",
       "      <td>1</td>\n",
       "      <td>B</td>\n",
       "      <td>NaN</td>\n",
       "      <td>NaN</td>\n",
       "      <td>NaN</td>\n",
       "      <td>NaN</td>\n",
       "      <td>NaN</td>\n",
       "    </tr>\n",
       "    <tr>\n",
       "      <th>2</th>\n",
       "      <td>2015</td>\n",
       "      <td>1</td>\n",
       "      <td>10</td>\n",
       "      <td>6</td>\n",
       "      <td>DL</td>\n",
       "      <td>1631</td>\n",
       "      <td>N710TW</td>\n",
       "      <td>SLC</td>\n",
       "      <td>LAX</td>\n",
       "      <td>1500</td>\n",
       "      <td>...</td>\n",
       "      <td>1553.0</td>\n",
       "      <td>-2.0</td>\n",
       "      <td>0</td>\n",
       "      <td>0</td>\n",
       "      <td>NaN</td>\n",
       "      <td>NaN</td>\n",
       "      <td>NaN</td>\n",
       "      <td>NaN</td>\n",
       "      <td>NaN</td>\n",
       "      <td>NaN</td>\n",
       "    </tr>\n",
       "    <tr>\n",
       "      <th>3</th>\n",
       "      <td>2015</td>\n",
       "      <td>1</td>\n",
       "      <td>10</td>\n",
       "      <td>6</td>\n",
       "      <td>MQ</td>\n",
       "      <td>3072</td>\n",
       "      <td>N856MQ</td>\n",
       "      <td>COU</td>\n",
       "      <td>DFW</td>\n",
       "      <td>1437</td>\n",
       "      <td>...</td>\n",
       "      <td>1643.0</td>\n",
       "      <td>18.0</td>\n",
       "      <td>0</td>\n",
       "      <td>0</td>\n",
       "      <td>NaN</td>\n",
       "      <td>8.0</td>\n",
       "      <td>0.0</td>\n",
       "      <td>0.0</td>\n",
       "      <td>10.0</td>\n",
       "      <td>0.0</td>\n",
       "    </tr>\n",
       "    <tr>\n",
       "      <th>4</th>\n",
       "      <td>2015</td>\n",
       "      <td>1</td>\n",
       "      <td>10</td>\n",
       "      <td>6</td>\n",
       "      <td>MQ</td>\n",
       "      <td>3222</td>\n",
       "      <td>N902MQ</td>\n",
       "      <td>MSN</td>\n",
       "      <td>DFW</td>\n",
       "      <td>1112</td>\n",
       "      <td>...</td>\n",
       "      <td>1339.0</td>\n",
       "      <td>-11.0</td>\n",
       "      <td>0</td>\n",
       "      <td>0</td>\n",
       "      <td>NaN</td>\n",
       "      <td>NaN</td>\n",
       "      <td>NaN</td>\n",
       "      <td>NaN</td>\n",
       "      <td>NaN</td>\n",
       "      <td>NaN</td>\n",
       "    </tr>\n",
       "    <tr>\n",
       "      <th>...</th>\n",
       "      <td>...</td>\n",
       "      <td>...</td>\n",
       "      <td>...</td>\n",
       "      <td>...</td>\n",
       "      <td>...</td>\n",
       "      <td>...</td>\n",
       "      <td>...</td>\n",
       "      <td>...</td>\n",
       "      <td>...</td>\n",
       "      <td>...</td>\n",
       "      <td>...</td>\n",
       "      <td>...</td>\n",
       "      <td>...</td>\n",
       "      <td>...</td>\n",
       "      <td>...</td>\n",
       "      <td>...</td>\n",
       "      <td>...</td>\n",
       "      <td>...</td>\n",
       "      <td>...</td>\n",
       "      <td>...</td>\n",
       "      <td>...</td>\n",
       "    </tr>\n",
       "    <tr>\n",
       "      <th>995</th>\n",
       "      <td>2015</td>\n",
       "      <td>9</td>\n",
       "      <td>9</td>\n",
       "      <td>3</td>\n",
       "      <td>AA</td>\n",
       "      <td>47</td>\n",
       "      <td>N3LYAA</td>\n",
       "      <td>PDX</td>\n",
       "      <td>ORD</td>\n",
       "      <td>1312</td>\n",
       "      <td>...</td>\n",
       "      <td>1853.0</td>\n",
       "      <td>-18.0</td>\n",
       "      <td>0</td>\n",
       "      <td>0</td>\n",
       "      <td>NaN</td>\n",
       "      <td>NaN</td>\n",
       "      <td>NaN</td>\n",
       "      <td>NaN</td>\n",
       "      <td>NaN</td>\n",
       "      <td>NaN</td>\n",
       "    </tr>\n",
       "    <tr>\n",
       "      <th>996</th>\n",
       "      <td>2015</td>\n",
       "      <td>9</td>\n",
       "      <td>9</td>\n",
       "      <td>3</td>\n",
       "      <td>DL</td>\n",
       "      <td>2389</td>\n",
       "      <td>N3736C</td>\n",
       "      <td>SLC</td>\n",
       "      <td>PDX</td>\n",
       "      <td>1659</td>\n",
       "      <td>...</td>\n",
       "      <td>1741.0</td>\n",
       "      <td>-4.0</td>\n",
       "      <td>0</td>\n",
       "      <td>0</td>\n",
       "      <td>NaN</td>\n",
       "      <td>NaN</td>\n",
       "      <td>NaN</td>\n",
       "      <td>NaN</td>\n",
       "      <td>NaN</td>\n",
       "      <td>NaN</td>\n",
       "    </tr>\n",
       "    <tr>\n",
       "      <th>997</th>\n",
       "      <td>2015</td>\n",
       "      <td>9</td>\n",
       "      <td>9</td>\n",
       "      <td>3</td>\n",
       "      <td>EV</td>\n",
       "      <td>4584</td>\n",
       "      <td>N12563</td>\n",
       "      <td>ICT</td>\n",
       "      <td>IAH</td>\n",
       "      <td>1513</td>\n",
       "      <td>...</td>\n",
       "      <td>1648.0</td>\n",
       "      <td>-12.0</td>\n",
       "      <td>0</td>\n",
       "      <td>0</td>\n",
       "      <td>NaN</td>\n",
       "      <td>NaN</td>\n",
       "      <td>NaN</td>\n",
       "      <td>NaN</td>\n",
       "      <td>NaN</td>\n",
       "      <td>NaN</td>\n",
       "    </tr>\n",
       "    <tr>\n",
       "      <th>998</th>\n",
       "      <td>2015</td>\n",
       "      <td>9</td>\n",
       "      <td>9</td>\n",
       "      <td>3</td>\n",
       "      <td>OO</td>\n",
       "      <td>5322</td>\n",
       "      <td>N909SW</td>\n",
       "      <td>ORD</td>\n",
       "      <td>FWA</td>\n",
       "      <td>1910</td>\n",
       "      <td>...</td>\n",
       "      <td>2128.0</td>\n",
       "      <td>22.0</td>\n",
       "      <td>0</td>\n",
       "      <td>0</td>\n",
       "      <td>NaN</td>\n",
       "      <td>19.0</td>\n",
       "      <td>0.0</td>\n",
       "      <td>0.0</td>\n",
       "      <td>3.0</td>\n",
       "      <td>0.0</td>\n",
       "    </tr>\n",
       "    <tr>\n",
       "      <th>999</th>\n",
       "      <td>2015</td>\n",
       "      <td>9</td>\n",
       "      <td>9</td>\n",
       "      <td>3</td>\n",
       "      <td>OO</td>\n",
       "      <td>6311</td>\n",
       "      <td>N702BR</td>\n",
       "      <td>LAX</td>\n",
       "      <td>PSP</td>\n",
       "      <td>2235</td>\n",
       "      <td>...</td>\n",
       "      <td>2330.0</td>\n",
       "      <td>2.0</td>\n",
       "      <td>0</td>\n",
       "      <td>0</td>\n",
       "      <td>NaN</td>\n",
       "      <td>NaN</td>\n",
       "      <td>NaN</td>\n",
       "      <td>NaN</td>\n",
       "      <td>NaN</td>\n",
       "      <td>NaN</td>\n",
       "    </tr>\n",
       "  </tbody>\n",
       "</table>\n",
       "<p>1000 rows × 31 columns</p>\n",
       "</div>"
      ],
      "text/plain": [
       "     YEAR  MONTH  DAY  DAY_OF_WEEK AIRLINE  FLIGHT_NUMBER TAIL_NUMBER  \\\n",
       "0    2015      1    1            4      B6            469      N183JB   \n",
       "1    2015      1    1            4      MQ           2853      N906MQ   \n",
       "2    2015      1   10            6      DL           1631      N710TW   \n",
       "3    2015      1   10            6      MQ           3072      N856MQ   \n",
       "4    2015      1   10            6      MQ           3222      N902MQ   \n",
       "..    ...    ...  ...          ...     ...            ...         ...   \n",
       "995  2015      9    9            3      AA             47      N3LYAA   \n",
       "996  2015      9    9            3      DL           2389      N3736C   \n",
       "997  2015      9    9            3      EV           4584      N12563   \n",
       "998  2015      9    9            3      OO           5322      N909SW   \n",
       "999  2015      9    9            3      OO           6311      N702BR   \n",
       "\n",
       "    ORIGIN_AIRPORT DESTINATION_AIRPORT  SCHEDULED_DEPARTURE  ...  \\\n",
       "0              BOS                 FLL                 1915  ...   \n",
       "1              GSO                 DFW                  730  ...   \n",
       "2              SLC                 LAX                 1500  ...   \n",
       "3              COU                 DFW                 1437  ...   \n",
       "4              MSN                 DFW                 1112  ...   \n",
       "..             ...                 ...                  ...  ...   \n",
       "995            PDX                 ORD                 1312  ...   \n",
       "996            SLC                 PDX                 1659  ...   \n",
       "997            ICT                 IAH                 1513  ...   \n",
       "998            ORD                 FWA                 1910  ...   \n",
       "999            LAX                 PSP                 2235  ...   \n",
       "\n",
       "     ARRIVAL_TIME  ARRIVAL_DELAY  DIVERTED  CANCELLED  CANCELLATION_REASON  \\\n",
       "0          2230.0          -17.0         0          0                  NaN   \n",
       "1             NaN            NaN         0          1                    B   \n",
       "2          1553.0           -2.0         0          0                  NaN   \n",
       "3          1643.0           18.0         0          0                  NaN   \n",
       "4          1339.0          -11.0         0          0                  NaN   \n",
       "..            ...            ...       ...        ...                  ...   \n",
       "995        1853.0          -18.0         0          0                  NaN   \n",
       "996        1741.0           -4.0         0          0                  NaN   \n",
       "997        1648.0          -12.0         0          0                  NaN   \n",
       "998        2128.0           22.0         0          0                  NaN   \n",
       "999        2330.0            2.0         0          0                  NaN   \n",
       "\n",
       "     AIR_SYSTEM_DELAY  SECURITY_DELAY  AIRLINE_DELAY  LATE_AIRCRAFT_DELAY  \\\n",
       "0                 NaN             NaN            NaN                  NaN   \n",
       "1                 NaN             NaN            NaN                  NaN   \n",
       "2                 NaN             NaN            NaN                  NaN   \n",
       "3                 8.0             0.0            0.0                 10.0   \n",
       "4                 NaN             NaN            NaN                  NaN   \n",
       "..                ...             ...            ...                  ...   \n",
       "995               NaN             NaN            NaN                  NaN   \n",
       "996               NaN             NaN            NaN                  NaN   \n",
       "997               NaN             NaN            NaN                  NaN   \n",
       "998              19.0             0.0            0.0                  3.0   \n",
       "999               NaN             NaN            NaN                  NaN   \n",
       "\n",
       "     WEATHER_DELAY  \n",
       "0              NaN  \n",
       "1              NaN  \n",
       "2              NaN  \n",
       "3              0.0  \n",
       "4              NaN  \n",
       "..             ...  \n",
       "995            NaN  \n",
       "996            NaN  \n",
       "997            NaN  \n",
       "998            0.0  \n",
       "999            NaN  \n",
       "\n",
       "[1000 rows x 31 columns]"
      ]
     },
     "execution_count": 3,
     "metadata": {},
     "output_type": "execute_result"
    }
   ],
   "source": [
    "flights = pd.read_csv('flights_small.csv')\n",
    "flights"
   ]
  },
  {
   "cell_type": "markdown",
   "metadata": {},
   "source": [
    "### Number of Flights: Bar Plot\n",
    "\n",
    "Last time, you took this data and used Leather to make a columns chart showing the total number of flights from each airline. Let's do the same thing with [Seaborn](https://seaborn.pydata.org/generated/seaborn.barplot.html#seaborn.barplot) (but this time, it's called a `barplot`)."
   ]
  },
  {
   "cell_type": "code",
   "execution_count": 8,
   "metadata": {},
   "outputs": [
    {
     "data": {
      "text/plain": [
       "AIRLINE\n",
       "AA    125\n",
       "AS     29\n",
       "B6     38\n",
       "DL    161\n",
       "EV    105\n",
       "F9     23\n",
       "HA     12\n",
       "MQ     46\n",
       "NK     21\n",
       "OO    114\n",
       "UA     78\n",
       "US     37\n",
       "VX      7\n",
       "WN    204\n",
       "Name: FLIGHT_NUMBER, dtype: int64"
      ]
     },
     "execution_count": 8,
     "metadata": {},
     "output_type": "execute_result"
    }
   ],
   "source": [
    "# Group data by airline, and count up total flights per group\n",
    "airlines = flights.groupby('AIRLINE')\n",
    "counts = airlines['FLIGHT_NUMBER'].count()\n",
    "counts"
   ]
  },
  {
   "cell_type": "code",
   "execution_count": 11,
   "metadata": {},
   "outputs": [
    {
     "data": {
      "text/plain": [
       "<matplotlib.axes._subplots.AxesSubplot at 0x7f847e7547c0>"
      ]
     },
     "execution_count": 11,
     "metadata": {},
     "output_type": "execute_result"
    },
    {
     "data": {
      "image/png": "[encoded data removed]",
      "text/plain": [
       "<Figure size 432x288 with 1 Axes>"
      ]
     },
     "metadata": {
      "needs_background": "light"
     },
     "output_type": "display_data"
    }
   ],
   "source": [
    "# Turn this data into a bar plot, using the index as the categories (x-axis) and the values as the y-axis\n",
    "sns.barplot(x=counts.index, y=counts)"
   ]
  },
  {
   "cell_type": "markdown",
   "metadata": {},
   "source": [
    "### Average Delay: Box-and-Whisker Plot\n",
    "\n",
    "Now, let's compare the average delay for each airline. One of the best ways to do this is using a [box-and-whisker plot](https://datavizcatalogue.com/methods/box_plot.html). [Seaborn](https://seaborn.pydata.org/generated/seaborn.boxplot.html#seaborn.boxplot) calls this a `boxplot`."
   ]
  },
  {
   "cell_type": "code",
   "execution_count": 14,
   "metadata": {},
   "outputs": [
    {
     "data": {
      "text/plain": [
       "<matplotlib.axes._subplots.AxesSubplot at 0x7f847f389850>"
      ]
     },
     "execution_count": 14,
     "metadata": {},
     "output_type": "execute_result"
    },
    {
     "data": {
      "image/png": "[encoded data removed]",
      "text/plain": [
       "<Figure size 432x288 with 1 Axes>"
      ]
     },
     "metadata": {
      "needs_background": "light"
     },
     "output_type": "display_data"
    }
   ],
   "source": [
    "# Turn the data into a box plot, using the airlines as y-axis categories and the delays as the x-axis\n",
    "sns.boxplot(x=flights['ARRIVAL_DELAY'], y=flights['AIRLINE'])"
   ]
  },
  {
   "cell_type": "markdown",
   "metadata": {},
   "source": [
    "Note that this boxplot does not require the use of GroupBy. Seaborn is smart enough to figure out to group all of the airlines together simply by the fact that we specified the `AIRLINE` column as the y-axis.\n",
    "\n",
    "In addition to the default box plot, we can specify several optional parameters. Here's a version where we remove the outliers."
   ]
  },
  {
   "cell_type": "code",
   "execution_count": 15,
   "metadata": {},
   "outputs": [
    {
     "data": {
      "text/plain": [
       "<matplotlib.axes._subplots.AxesSubplot at 0x7f847f5c6f40>"
      ]
     },
     "execution_count": 15,
     "metadata": {},
     "output_type": "execute_result"
    },
    {
     "data": {
      "image/png": "[encoded data removed]",
      "text/plain": [
       "<Figure size 432x288 with 1 Axes>"
      ]
     },
     "metadata": {
      "needs_background": "light"
     },
     "output_type": "display_data"
    }
   ],
   "source": [
    "# Same thing, but don't display outliers\n",
    "sns.boxplot(x=flights['ARRIVAL_DELAY'], y=flights['AIRLINE'], showfliers=False)"
   ]
  },
  {
   "cell_type": "markdown",
   "metadata": {},
   "source": [
    "Here's a version where we remove the outliers and sort the airlines alphabetically."
   ]
  },
  {
   "cell_type": "code",
   "execution_count": 27,
   "metadata": {
    "scrolled": true
   },
   "outputs": [
    {
     "data": {
      "text/plain": [
       "<matplotlib.axes._subplots.AxesSubplot at 0x7f847e75e040>"
      ]
     },
     "execution_count": 27,
     "metadata": {},
     "output_type": "execute_result"
    },
    {
     "data": {
      "image/png": "[encoded data removed]",
      "text/plain": [
       "<Figure size 432x288 with 1 Axes>"
      ]
     },
     "metadata": {
      "needs_background": "light"
     },
     "output_type": "display_data"
    }
   ],
   "source": [
    "# Same thing, but don't display outliers AND sort the airlines\n",
    "sns.boxplot(x=flights['ARRIVAL_DELAY'], y=flights['AIRLINE'], showfliers=False, order=airlines.groups.keys())"
   ]
  },
  {
   "cell_type": "code",
   "execution_count": null,
   "metadata": {},
   "outputs": [],
   "source": []
  }
 ],
 "metadata": {
  "kernelspec": {
   "display_name": "Python 3",
   "language": "python",
   "name": "python3"
  },
  "language_info": {
   "codemirror_mode": {
    "name": "ipython",
    "version": 3
   },
   "file_extension": ".py",
   "mimetype": "text/x-python",
   "name": "python",
   "nbconvert_exporter": "python",
   "pygments_lexer": "ipython3",
   "version": "3.8.3"
  }
 },
 "nbformat": 4,
 "nbformat_minor": 4
}
