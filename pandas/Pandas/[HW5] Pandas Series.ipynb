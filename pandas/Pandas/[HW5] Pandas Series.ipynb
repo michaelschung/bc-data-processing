{
 "cells": [
  {
   "cell_type": "markdown",
   "metadata": {},
   "source": [
    "# HW 5: Pandas Series"
   ]
  },
  {
   "cell_type": "code",
   "execution_count": null,
   "metadata": {},
   "outputs": [],
   "source": [
    "import pandas as pd"
   ]
  },
  {
   "cell_type": "markdown",
   "metadata": {},
   "source": [
    "## Basic Series Operations"
   ]
  },
  {
   "cell_type": "markdown",
   "metadata": {},
   "source": [
    "### 1) Constructing a Series\n",
    "\n",
    "You are provided with two lists below, containing data on all of the 2019 Tony Award winning productions. Construct a series out of the `n_awards` list, using the `shows` list as index labels. Print the resulting series."
   ]
  },
  {
   "cell_type": "code",
   "execution_count": null,
   "metadata": {},
   "outputs": [],
   "source": [
    "shows = ['Hadestown', 'Ain\\'t Too Proud', 'Tootsie', 'The Ferryman',\n",
    "         'To Kill a Mockingbird', 'Oklahoma!', 'Ink', 'Network', 'Choir Boy',\n",
    "         'The Cher Show', 'The Boys in the Band', ' Waverly Gallery']\n",
    "\n",
    "n_awards = [8, 1, 2, 4, 1, 2, 2, 1, 1, 2, 1, 1]\n",
    "\n",
    "# Write your code for #1 here.\n"
   ]
  },
  {
   "cell_type": "markdown",
   "metadata": {},
   "source": [
    "### 2) Querying a Series\n",
    "\n",
    "Using your series from Problem 1, make queries to answer each question in the code blocks below. Each query should take only one line of code."
   ]
  },
  {
   "cell_type": "code",
   "execution_count": null,
   "metadata": {},
   "outputs": [],
   "source": [
    "# Query 1: How many Tony awards did Hadestown win?"
   ]
  },
  {
   "cell_type": "code",
   "execution_count": null,
   "metadata": {},
   "outputs": [],
   "source": [
    "# Query 2: How many Tonys did Oklahoma! win?"
   ]
  },
  {
   "cell_type": "markdown",
   "metadata": {},
   "source": [
    "### 3) More Queries\n",
    "\n",
    "In the code cell below, you are given a series containing data on all of the 2019 Tony awards for musicals."
   ]
  },
  {
   "cell_type": "code",
   "execution_count": null,
   "metadata": {},
   "outputs": [],
   "source": [
    "musical_awards = pd.Series(['Best Musical',\n",
    "                            'Best Revival',\n",
    "                            'Best Performance by Leading Actor',\n",
    "                            'Best Performance by Leading Actress',\n",
    "                            'Best Performance by Featured Actor',\n",
    "                            'Best Performance by Featured Actress',\n",
    "                            'Best Direction',\n",
    "                            'Best Book of a Musical',\n",
    "                            'Best Original Score',\n",
    "                            'Best Scenic Design',\n",
    "                            'Best Costume Design',\n",
    "                            'Best Lighting Design',\n",
    "                            'Best Sound Design',\n",
    "                            'Best Orchestrations'],\n",
    "                       index=['Hadestown',\n",
    "                              'Oklahoma!',\n",
    "                              'Tootsie',\n",
    "                              'The Cher Show',\n",
    "                              'Hadestown',\n",
    "                              'Oklahoma!',\n",
    "                              'Hadestown',\n",
    "                              'Tootsie',\n",
    "                              'Hadestown',\n",
    "                              'Hadestown',\n",
    "                              'The Cher Show',\n",
    "                              'Hadestown',\n",
    "                              'Hadestown',\n",
    "                              'Hadestown'])\n",
    "\n",
    "musical_awards"
   ]
  },
  {
   "cell_type": "markdown",
   "metadata": {},
   "source": [
    "Write queries to answer the questions in the code blocks below."
   ]
  },
  {
   "cell_type": "code",
   "execution_count": null,
   "metadata": {},
   "outputs": [],
   "source": [
    "# Query 1: Which categories did Hadestown win?"
   ]
  },
  {
   "cell_type": "code",
   "execution_count": null,
   "metadata": {},
   "outputs": [],
   "source": [
    "# Query 2: Which categories did Tootsie win?"
   ]
  },
  {
   "cell_type": "code",
   "execution_count": null,
   "metadata": {},
   "outputs": [],
   "source": [
    "# Query 3: What are the first 5 categories (along with the winners of each)\n",
    "# as listed in the series?"
   ]
  }
 ],
 "metadata": {
  "kernelspec": {
   "display_name": "Python 3",
   "language": "python",
   "name": "python3"
  },
  "language_info": {
   "codemirror_mode": {
    "name": "ipython",
    "version": 3
   },
   "file_extension": ".py",
   "mimetype": "text/x-python",
   "name": "python",
   "nbconvert_exporter": "python",
   "pygments_lexer": "ipython3",
   "version": "3.8.3"
  }
 },
 "nbformat": 4,
 "nbformat_minor": 4
}
