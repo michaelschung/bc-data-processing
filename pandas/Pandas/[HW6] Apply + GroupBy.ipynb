{
 "cells": [
  {
   "cell_type": "code",
   "execution_count": 1,
   "metadata": {},
   "outputs": [],
   "source": [
    "import pandas as pd"
   ]
  },
  {
   "cell_type": "markdown",
   "metadata": {},
   "source": [
    "# Sales Data\n",
    "\n",
    "In this assignment, we'll be working with data from a fictitious sales division. Take a look at the data below."
   ]
  },
  {
   "cell_type": "code",
   "execution_count": 2,
   "metadata": {},
   "outputs": [
    {
     "data": {
      "text/html": [
       "<div>\n",
       "<style scoped>\n",
       "    .dataframe tbody tr th:only-of-type {\n",
       "        vertical-align: middle;\n",
       "    }\n",
       "\n",
       "    .dataframe tbody tr th {\n",
       "        vertical-align: top;\n",
       "    }\n",
       "\n",
       "    .dataframe thead th {\n",
       "        text-align: right;\n",
       "    }\n",
       "</style>\n",
       "<table border=\"1\" class=\"dataframe\">\n",
       "  <thead>\n",
       "    <tr style=\"text-align: right;\">\n",
       "      <th></th>\n",
       "      <th>Order Id</th>\n",
       "      <th>Company Id</th>\n",
       "      <th>Company Name</th>\n",
       "      <th>Date</th>\n",
       "      <th>Val</th>\n",
       "      <th>Sale</th>\n",
       "      <th>Sales Rep</th>\n",
       "      <th>Sales Rep Id</th>\n",
       "    </tr>\n",
       "  </thead>\n",
       "  <tbody>\n",
       "    <tr>\n",
       "      <th>0</th>\n",
       "      <td>HZSXLI1IS9RGABZW</td>\n",
       "      <td>D0AUXPP07H6AVSGD</td>\n",
       "      <td>Melancholy Social-Role</td>\n",
       "      <td>2017-10-13</td>\n",
       "      <td>6952</td>\n",
       "      <td>0</td>\n",
       "      <td>William Taylor</td>\n",
       "      <td>ZTZA0ZLYZR85PTUJ</td>\n",
       "    </tr>\n",
       "    <tr>\n",
       "      <th>1</th>\n",
       "      <td>582WPS3OW8T6YT0R</td>\n",
       "      <td>D0AUXPP07H6AVSGD</td>\n",
       "      <td>Melancholy Social-Role</td>\n",
       "      <td>2017-09-02</td>\n",
       "      <td>7930</td>\n",
       "      <td>0</td>\n",
       "      <td>William Taylor</td>\n",
       "      <td>ZTZA0ZLYZR85PTUJ</td>\n",
       "    </tr>\n",
       "    <tr>\n",
       "      <th>2</th>\n",
       "      <td>KRF65MQZBOYG4Y9T</td>\n",
       "      <td>D0AUXPP07H6AVSGD</td>\n",
       "      <td>Melancholy Social-Role</td>\n",
       "      <td>2016-12-21</td>\n",
       "      <td>5538</td>\n",
       "      <td>1</td>\n",
       "      <td>William Taylor</td>\n",
       "      <td>ZTZA0ZLYZR85PTUJ</td>\n",
       "    </tr>\n",
       "    <tr>\n",
       "      <th>3</th>\n",
       "      <td>N3EDZ5V1WGSWW828</td>\n",
       "      <td>D0AUXPP07H6AVSGD</td>\n",
       "      <td>Melancholy Social-Role</td>\n",
       "      <td>2018-06-03</td>\n",
       "      <td>1113</td>\n",
       "      <td>0</td>\n",
       "      <td>William Taylor</td>\n",
       "      <td>ZTZA0ZLYZR85PTUJ</td>\n",
       "    </tr>\n",
       "    <tr>\n",
       "      <th>4</th>\n",
       "      <td>QXBC8COXEXGFSPLP</td>\n",
       "      <td>D0AUXPP07H6AVSGD</td>\n",
       "      <td>Melancholy Social-Role</td>\n",
       "      <td>2014-07-26</td>\n",
       "      <td>4596</td>\n",
       "      <td>0</td>\n",
       "      <td>William Taylor</td>\n",
       "      <td>ZTZA0ZLYZR85PTUJ</td>\n",
       "    </tr>\n",
       "    <tr>\n",
       "      <th>...</th>\n",
       "      <td>...</td>\n",
       "      <td>...</td>\n",
       "      <td>...</td>\n",
       "      <td>...</td>\n",
       "      <td>...</td>\n",
       "      <td>...</td>\n",
       "      <td>...</td>\n",
       "      <td>...</td>\n",
       "    </tr>\n",
       "    <tr>\n",
       "      <th>99995</th>\n",
       "      <td>HKZFX556ZQRZJZWR</td>\n",
       "      <td>APH243SK72T90MPS</td>\n",
       "      <td>Trade-Preparatory Quarterbacks</td>\n",
       "      <td>2017-11-06</td>\n",
       "      <td>7516</td>\n",
       "      <td>0</td>\n",
       "      <td>Ida Woodward</td>\n",
       "      <td>LF3CPWWZKSNB1AXI</td>\n",
       "    </tr>\n",
       "    <tr>\n",
       "      <th>99996</th>\n",
       "      <td>962CSDMAJ49E0CRK</td>\n",
       "      <td>APH243SK72T90MPS</td>\n",
       "      <td>Trade-Preparatory Quarterbacks</td>\n",
       "      <td>2018-08-02</td>\n",
       "      <td>442</td>\n",
       "      <td>1</td>\n",
       "      <td>Ida Woodward</td>\n",
       "      <td>LF3CPWWZKSNB1AXI</td>\n",
       "    </tr>\n",
       "    <tr>\n",
       "      <th>99997</th>\n",
       "      <td>ZW7RO9TLL6EVVJEC</td>\n",
       "      <td>APH243SK72T90MPS</td>\n",
       "      <td>Trade-Preparatory Quarterbacks</td>\n",
       "      <td>2014-11-02</td>\n",
       "      <td>8544</td>\n",
       "      <td>0</td>\n",
       "      <td>Ida Woodward</td>\n",
       "      <td>LF3CPWWZKSNB1AXI</td>\n",
       "    </tr>\n",
       "    <tr>\n",
       "      <th>99998</th>\n",
       "      <td>LNKGIWMZ9RT49IE9</td>\n",
       "      <td>APH243SK72T90MPS</td>\n",
       "      <td>Trade-Preparatory Quarterbacks</td>\n",
       "      <td>2017-04-01</td>\n",
       "      <td>6650</td>\n",
       "      <td>0</td>\n",
       "      <td>Ida Woodward</td>\n",
       "      <td>LF3CPWWZKSNB1AXI</td>\n",
       "    </tr>\n",
       "    <tr>\n",
       "      <th>99999</th>\n",
       "      <td>X9Y21H4JWX6OGC2Z</td>\n",
       "      <td>APH243SK72T90MPS</td>\n",
       "      <td>Trade-Preparatory Quarterbacks</td>\n",
       "      <td>2016-07-27</td>\n",
       "      <td>953</td>\n",
       "      <td>0</td>\n",
       "      <td>Ida Woodward</td>\n",
       "      <td>LF3CPWWZKSNB1AXI</td>\n",
       "    </tr>\n",
       "  </tbody>\n",
       "</table>\n",
       "<p>100000 rows × 8 columns</p>\n",
       "</div>"
      ],
      "text/plain": [
       "               Order Id        Company Id                    Company Name  \\\n",
       "0      HZSXLI1IS9RGABZW  D0AUXPP07H6AVSGD          Melancholy Social-Role   \n",
       "1      582WPS3OW8T6YT0R  D0AUXPP07H6AVSGD          Melancholy Social-Role   \n",
       "2      KRF65MQZBOYG4Y9T  D0AUXPP07H6AVSGD          Melancholy Social-Role   \n",
       "3      N3EDZ5V1WGSWW828  D0AUXPP07H6AVSGD          Melancholy Social-Role   \n",
       "4      QXBC8COXEXGFSPLP  D0AUXPP07H6AVSGD          Melancholy Social-Role   \n",
       "...                 ...               ...                             ...   \n",
       "99995  HKZFX556ZQRZJZWR  APH243SK72T90MPS  Trade-Preparatory Quarterbacks   \n",
       "99996  962CSDMAJ49E0CRK  APH243SK72T90MPS  Trade-Preparatory Quarterbacks   \n",
       "99997  ZW7RO9TLL6EVVJEC  APH243SK72T90MPS  Trade-Preparatory Quarterbacks   \n",
       "99998  LNKGIWMZ9RT49IE9  APH243SK72T90MPS  Trade-Preparatory Quarterbacks   \n",
       "99999  X9Y21H4JWX6OGC2Z  APH243SK72T90MPS  Trade-Preparatory Quarterbacks   \n",
       "\n",
       "             Date   Val  Sale       Sales Rep      Sales Rep Id  \n",
       "0      2017-10-13  6952     0  William Taylor  ZTZA0ZLYZR85PTUJ  \n",
       "1      2017-09-02  7930     0  William Taylor  ZTZA0ZLYZR85PTUJ  \n",
       "2      2016-12-21  5538     1  William Taylor  ZTZA0ZLYZR85PTUJ  \n",
       "3      2018-06-03  1113     0  William Taylor  ZTZA0ZLYZR85PTUJ  \n",
       "4      2014-07-26  4596     0  William Taylor  ZTZA0ZLYZR85PTUJ  \n",
       "...           ...   ...   ...             ...               ...  \n",
       "99995  2017-11-06  7516     0    Ida Woodward  LF3CPWWZKSNB1AXI  \n",
       "99996  2018-08-02   442     1    Ida Woodward  LF3CPWWZKSNB1AXI  \n",
       "99997  2014-11-02  8544     0    Ida Woodward  LF3CPWWZKSNB1AXI  \n",
       "99998  2017-04-01  6650     0    Ida Woodward  LF3CPWWZKSNB1AXI  \n",
       "99999  2016-07-27   953     0    Ida Woodward  LF3CPWWZKSNB1AXI  \n",
       "\n",
       "[100000 rows x 8 columns]"
      ]
     },
     "execution_count": 2,
     "metadata": {},
     "output_type": "execute_result"
    }
   ],
   "source": [
    "sales = pd.read_csv('sales.csv')\n",
    "sales"
   ]
  },
  {
   "cell_type": "markdown",
   "metadata": {},
   "source": [
    "### Important definitions:\n",
    "\n",
    "- A sales **_lead_** refers to the data that identifies a potential buyer of a product or service.\n",
    "- If a deal **_closes_**, that means that it resulted in a purchase; in other words, a _closed_ deal is a successful one.\n",
    "\n",
    "Each row of this data represents a single lead, and includes information on – among other things – the sales rep involved (`Sales Rep`), the name of the company that the deal might close with (`Company Name`), the value of the deal in USD (`Val`), the date of the lead (`Date`), and whether or not the deal closed (`Sale`).\n",
    "\n",
    "Use this data to answer the following questions.\n",
    "\n",
    "### _Tips for solving these problems_\n",
    "\n",
    "_The primary objective of this assignment is for you to learn the power of GroupBy objects. I recommend that for each problem, you stop at intermediate points during the solving process to simply print out what you have up to that point._\n",
    "\n",
    "_For example, in #1 below, start by grouping the data by company; then, before moving on, check out your GroupBy object by printing out one or more of the groups._\n",
    "\n",
    "_Next, move on to finding the size of each group – this is easier than you may think it is! The whole point of a GroupBy object is to make it easier to operate on multiple \"sub-DataFrames\" at a time. If you can figure out how to find the size of a single DataFrame, you can pretty much expect it to work the same for a group of sub-DataFrames. Most functions that work for DataFrames simply get broadcast on a group-by-group basis when you apply them to a GroupBy object. If you're not sure whether your applied function worked or not, print your results and manually run them by your intuitions and expectations._\n",
    "\n",
    "_Moving on in the problem, you'll have to look up how to sort groups in descending order – this part should be more straightforward than the previous steps. After that, all you need to do is display the first ten rows!_"
   ]
  },
  {
   "cell_type": "markdown",
   "metadata": {},
   "source": [
    "# 1) Most Leads\n",
    "\n",
    "Which companies had the highest number of leads?\n",
    "\n",
    "List out the names of the top 10, along with their lead counts, in descending order (highest count first). If there are any ties, then the order between them does not matter.\n",
    "\n",
    "_Hint: group the data by company, find the size of each group, sort the groups in descending order, and grab the first ten rows using the `head()` function. You'll need to search up how to sort in descending order, but that part should be pretty straightforward._"
   ]
  },
  {
   "cell_type": "code",
   "execution_count": 15,
   "metadata": {},
   "outputs": [
    {
     "data": {
      "text/plain": [
       "Company Name\n",
       "80Th Scorecard            41\n",
       "Contemporary Gardenia     39\n",
       "Shrill Co-Op              39\n",
       "Smashed-Out Intercept     39\n",
       "Cohnfidunt Beckman        37\n",
       "Geometric Abbot           37\n",
       "Accurate Kaplan           36\n",
       "Mutational Fertilizer     36\n",
       "Now-Famous Outcomes       36\n",
       "Pedimented Bandish        36\n",
       "Presidential Gus          36\n",
       "Two-Fisted Interlining    36\n",
       "Unadjusted Sun            36\n",
       "dtype: int64"
      ]
     },
     "execution_count": 15,
     "metadata": {},
     "output_type": "execute_result"
    }
   ],
   "source": [
    "# Type your Problem 1 code here\n",
    "companies = sales.groupby('Company Name')\n",
    "# companies.size().sort_values(ascending=False).head(10)\n",
    "companies.size().nlargest(n=10, keep='all')"
   ]
  },
  {
   "cell_type": "markdown",
   "metadata": {},
   "source": [
    "# 2) Most Closures\n",
    "\n",
    "Which companies were the most frequent buyers? In other words, which companies had the most closures?\n",
    "\n",
    "List out the names of the top 10, along with their closure counts, in descending order (highest count first). If there are any ties, then the order between them does not matter.\n",
    "\n",
    "_Hint: query for all closed leads, group by company, compute the size of each group, sort in descending order, and grab the first ten rows._"
   ]
  },
  {
   "cell_type": "code",
   "execution_count": 19,
   "metadata": {},
   "outputs": [
    {
     "data": {
      "text/plain": [
       "Company Name\n",
       "Canny Pompousness                     16\n",
       "Particularistic-Seeming Frog-Haiku    14\n",
       "Eighty-Fifth Aviv                     13\n",
       "Minor Targets                         11\n",
       "Sickly Phosphate                      11\n",
       "Approachable Sturch                   10\n",
       "Faceless Misgivings                   10\n",
       "Gullible Referral                     10\n",
       "Hydrostatic Amazement                 10\n",
       "Life-Death Bucer                      10\n",
       "Loose-Jointed Editors                 10\n",
       "Now-Misplaced Saviour                 10\n",
       "Oleophilic Intestines                 10\n",
       "Out-Of-Bounds Pacers                  10\n",
       "Rental Manual                         10\n",
       "Shrill Co-Op                          10\n",
       "Stiff Clothes                         10\n",
       "Surreptitious Owi                     10\n",
       "Three-Night Hens'                     10\n",
       "Unchallenged Coachman                 10\n",
       "Ungodly Commentary                    10\n",
       "Unreasoning Thills                    10\n",
       "Well-Armed Horse-Trail                10\n",
       "dtype: int64"
      ]
     },
     "execution_count": 19,
     "metadata": {},
     "output_type": "execute_result"
    }
   ],
   "source": [
    "# Type your Problem 2 code here\n",
    "closed_leads = sales[sales['Sale'] == 1]\n",
    "company_closures = closed_leads.groupby('Company Name')\n",
    "company_closures.size().nlargest(n=10, keep='all')"
   ]
  },
  {
   "cell_type": "markdown",
   "metadata": {},
   "source": [
    "# 3) Most Successful\n",
    "\n",
    "Which companies were the most successful ventures? For the purposes of this question, let \"success\" refer to the ratio of closures to leads. A company with a higher closure-to-lead ratio is a more successful venture.\n",
    "\n",
    "List out the names of the top 10, along with their success ratios, in descending order (highest ratio first). If there are any ties, then the order between them does not matter.\n",
    "\n",
    "_Hint: divide #2 by #1, sort in descending order, and grab the first ten rows._"
   ]
  },
  {
   "cell_type": "code",
   "execution_count": null,
   "metadata": {},
   "outputs": [],
   "source": [
    "# Type your Problem 3 code here"
   ]
  },
  {
   "cell_type": "markdown",
   "metadata": {},
   "source": [
    "# 4) Totals\n",
    "\n",
    "What is the total number of deals that this fictitious company has managed to close? What is the total profit from those deals?\n",
    "\n",
    "_Hint: query for all closed leads, and apply the `sum` function to the appropriate rows to find the total number of deals and their total profit._"
   ]
  },
  {
   "cell_type": "code",
   "execution_count": null,
   "metadata": {},
   "outputs": [],
   "source": [
    "# Type your Problem 4 code here"
   ]
  }
 ],
 "metadata": {
  "kernelspec": {
   "display_name": "Python 3",
   "language": "python",
   "name": "python3"
  },
  "language_info": {
   "codemirror_mode": {
    "name": "ipython",
    "version": 3
   },
   "file_extension": ".py",
   "mimetype": "text/x-python",
   "name": "python",
   "nbconvert_exporter": "python",
   "pygments_lexer": "ipython3",
   "version": "3.8.3"
  }
 },
 "nbformat": 4,
 "nbformat_minor": 4
}
