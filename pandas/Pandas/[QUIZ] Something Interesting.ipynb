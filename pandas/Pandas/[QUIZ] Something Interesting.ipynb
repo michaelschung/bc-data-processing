{
 "cells": [
  {
   "cell_type": "code",
   "execution_count": null,
   "metadata": {},
   "outputs": [],
   "source": [
    "import pandas as pd"
   ]
  },
  {
   "cell_type": "markdown",
   "metadata": {},
   "source": [
    "# Instructions\n",
    "\n",
    "1. Head back to the [data sets page](https://github.com/michaelschung/bc-data-processing/tree/master/datasets), and pick one data set that you find particularly interesting.\n",
    "2. Download the file and use Pandas to load that data set. Before moving on, make sure that it downloaded as a `.csv` file! Check the assignment posting on Classroom if you're having issues.\n",
    "3. Explore the data by querying the DataFrame. Use this document to record your explorations according to the specifications below.\n",
    "\n",
    "_Note: There are tons of free data sets out there for you to explore, and in the future you'll be able to use any that you like. For this assignment, however, pick one of the data sets that I've provided for you._\n",
    "\n",
    "---\n",
    "\n",
    "### Recording Explorations\n",
    "\n",
    "Make at least three _thoughtful queries_ into the DataFrame. A thoughtful query consists of:\n",
    "\n",
    "- A concrete question (in English) that you're trying to answer\n",
    "- The query itself (in Python, using Pandas)\n",
    "- 2-3 sentences (in English) that use the query results to answer the initial question\n",
    "\n",
    "_Note: these instructions are intentionally vague. It's up to you to take this as seriously as you want, but I strongly encourage you to dig deep and learn something from the data you choose to look at. If you think you've asked all possible interesting questions, ask one more._"
   ]
  },
  {
   "cell_type": "markdown",
   "metadata": {},
   "source": [
    "# Your \"Thoughtful Queries\""
   ]
  },
  {
   "cell_type": "code",
   "execution_count": null,
   "metadata": {},
   "outputs": [],
   "source": [
    "# Load your CSV file here, and preview the first 10-15 rows"
   ]
  },
  {
   "cell_type": "markdown",
   "metadata": {},
   "source": [
    "## Thoughtful Query #1\n",
    "\n",
    "Question: _(edit this cell to record your question)_"
   ]
  },
  {
   "cell_type": "code",
   "execution_count": null,
   "metadata": {},
   "outputs": [],
   "source": [
    "# Query 1 here"
   ]
  },
  {
   "cell_type": "markdown",
   "metadata": {},
   "source": [
    "Insight: _(edit this cell to record your insight)_"
   ]
  },
  {
   "cell_type": "markdown",
   "metadata": {},
   "source": [
    "## Thoughtful Query #2\n",
    "\n",
    "Question: _(edit this cell to record your question)_"
   ]
  },
  {
   "cell_type": "code",
   "execution_count": null,
   "metadata": {},
   "outputs": [],
   "source": [
    "# Query 2 here"
   ]
  },
  {
   "cell_type": "markdown",
   "metadata": {},
   "source": [
    "Insight: _(edit this cell to record your insight)_"
   ]
  },
  {
   "cell_type": "markdown",
   "metadata": {},
   "source": [
    "## Thoughtful Query #3\n",
    "\n",
    "Question: _(edit this cell to record your question)_"
   ]
  },
  {
   "cell_type": "code",
   "execution_count": null,
   "metadata": {},
   "outputs": [],
   "source": [
    "# Query 3 here"
   ]
  },
  {
   "cell_type": "markdown",
   "metadata": {},
   "source": [
    "Insight: _(edit this cell to record your insight)_"
   ]
  }
 ],
 "metadata": {
  "kernelspec": {
   "display_name": "Python 3",
   "language": "python",
   "name": "python3"
  },
  "language_info": {
   "codemirror_mode": {
    "name": "ipython",
    "version": 3
   },
   "file_extension": ".py",
   "mimetype": "text/x-python",
   "name": "python",
   "nbconvert_exporter": "python",
   "pygments_lexer": "ipython3",
   "version": "3.8.3"
  }
 },
 "nbformat": 4,
 "nbformat_minor": 4
}
