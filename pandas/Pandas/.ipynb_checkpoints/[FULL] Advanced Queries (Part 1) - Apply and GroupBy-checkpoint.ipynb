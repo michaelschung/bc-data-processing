{
 "cells": [
  {
   "cell_type": "code",
   "execution_count": null,
   "metadata": {},
   "outputs": [],
   "source": [
    "import pandas as pd"
   ]
  },
  {
   "cell_type": "markdown",
   "metadata": {},
   "source": [
    "# Advanced Queries (Part 1): Apply and GroupBy\n",
    "\n",
    "In today's class, we'll be learning how to use some powerful functions that allow us to make more complex queries.\n",
    "\n",
    "To learn these functions, we'll be using the following data set describing a stock of camping equipment."
   ]
  },
  {
   "cell_type": "code",
   "execution_count": null,
   "metadata": {},
   "outputs": [],
   "source": [
    "camping_df = pd.read_csv('camping.csv')\n",
    "camping_df"
   ]
  },
  {
   "cell_type": "markdown",
   "metadata": {},
   "source": [
    "## `apply()`\n",
    "\n",
    "Our first function is `apply()`, which allows us to _apply_ a function (through broadcasting) to one or more columns of a DataFrame."
   ]
  },
  {
   "cell_type": "code",
   "execution_count": null,
   "metadata": {},
   "outputs": [],
   "source": [
    "# Apply the sum function to a single column\n",
    "camping_df['Quantity'].apply('sum')"
   ]
  },
  {
   "cell_type": "code",
   "execution_count": null,
   "metadata": {},
   "outputs": [],
   "source": [
    "# Apply the sum function to the entire DataFrame\n",
    "camping_df.apply('sum')"
   ]
  },
  {
   "cell_type": "markdown",
   "metadata": {},
   "source": [
    "We can query for specific columns first, and then apply a function to that subset of the original DataFrame."
   ]
  },
  {
   "cell_type": "code",
   "execution_count": null,
   "metadata": {},
   "outputs": [],
   "source": [
    "camping_df[['Quantity', 'UnitWeight']].apply('sum')"
   ]
  },
  {
   "cell_type": "markdown",
   "metadata": {},
   "source": [
    "You may notice that the above queries tell Pandas to apply a function called `'sum'`, but we never actually defined such a function. This is because Pandas has a number of basic statistics functions available for use; a full list of the available functions can be found [here](https://pandas.pydata.org/pandas-docs/stable/user_guide/basics.html#descriptive-statistics), under the section titled \"Descriptive statistics.\"\n",
    "\n",
    "In addition to the default statistics functions, we can create our own functions and apply them to a DataFrame. The following code creates a method that divides its input by 2, and applies it to all of the numerical columns in the DataFrame."
   ]
  },
  {
   "cell_type": "code",
   "execution_count": null,
   "metadata": {},
   "outputs": [],
   "source": [
    "# Write a method called divide_by_2 that takes a parameter and divides its value divided by 2\n",
    "def divide_by_2(x):\n",
    "    return x / 2\n",
    "\n",
    "# Apply divide_by_2 to the numerical columns\n",
    "camping_df[['Quantity', 'UnitWeight']].apply(divide_by_2)"
   ]
  },
  {
   "cell_type": "markdown",
   "metadata": {},
   "source": [
    "Note that before applying `divide_by_2`, we had to query for just the numerical columns. Without this first step, Pandas would try to apply the function to the `Categories` column as well, which would throw an error because string data cannot be divided."
   ]
  },
  {
   "cell_type": "code",
   "execution_count": null,
   "metadata": {},
   "outputs": [],
   "source": [
    "# ERROR\n",
    "camping_df.apply(divide_by_2)"
   ]
  },
  {
   "cell_type": "markdown",
   "metadata": {},
   "source": [
    "You may notice that this simple application of `apply()` is functionally identical to a broadcasted operation."
   ]
  },
  {
   "cell_type": "code",
   "execution_count": null,
   "metadata": {},
   "outputs": [],
   "source": [
    "camping_df[['Quantity', 'UnitWeight']] / 2"
   ]
  },
  {
   "cell_type": "markdown",
   "metadata": {},
   "source": [
    "Given that we can accomplish the same thing by broadcasting, it may seem silly to have `apply()` at all. But we keep it because once an operation becomes more complex than just a simple division operation, it very quickly gets messy. Thus, it's better to separate out the function that we want to broadcast, and then use it on our data with `apply()`.\n",
    "\n",
    "Here's an example. We apply the `pct` function to the `Quantity` and `Weight` columns; for each column, it divides each value in the column by the sum of the entire column, and then multiplies the result by 100. In other words, it returns the _percentage_ of a particular value in relation to its entire column."
   ]
  },
  {
   "cell_type": "code",
   "execution_count": null,
   "metadata": {},
   "outputs": [],
   "source": [
    "# Write a method called pct that divides a column by the sum of the column, and multiplies by 100\n",
    "def pct(x):\n",
    "    return x / sum(x) * 100\n",
    "\n",
    "# Apply pct to the numerical columns\n",
    "camping_df[['Quantity', 'UnitWeight']].apply(pct)"
   ]
  },
  {
   "cell_type": "markdown",
   "metadata": {},
   "source": [
    "The broadcasting equivalent of this function is significantly more messy."
   ]
  },
  {
   "cell_type": "code",
   "execution_count": null,
   "metadata": {},
   "outputs": [],
   "source": [
    "camping_df[['Quantity', 'UnitWeight']] / camping_df[['Quantity', 'UnitWeight']].sum() * 100"
   ]
  },
  {
   "cell_type": "markdown",
   "metadata": {},
   "source": [
    "So `apply` helps us to keep things cleaner when broadcasting complex functions. But even more importantly, the idea of _applying_ functions is very fundamental to Pandas, to the extent that it is the underlying concept upon which several other functions are built.\n",
    "\n",
    "---"
   ]
  },
  {
   "cell_type": "markdown",
   "metadata": {},
   "source": [
    "## `groupby()`\n",
    "\n",
    "The `groupby` function is not built on top of `apply`, but it is almost just as fundamental so we will cover it next. This function is used to split a DataFrame into various sub-DataFrames, according to a specified \"group by\" column.\n",
    "\n",
    "The following line of code splits the camping data according to which `Category` each row falls into."
   ]
  },
  {
   "cell_type": "code",
   "execution_count": null,
   "metadata": {},
   "outputs": [],
   "source": [
    "camping_df.groupby('Category')"
   ]
  },
  {
   "cell_type": "markdown",
   "metadata": {},
   "source": [
    "The result of a `groupby` query is what we call a `DataFrameGroupBy` object, which is useless to look at by itself (as we see above). But such an object comes with a whole bunch of extra functionality that makes it super useful.\n",
    "\n",
    "First, we have the `groups` attribute, which lists out each group according to the indexes of its corresponding rows."
   ]
  },
  {
   "cell_type": "code",
   "execution_count": null,
   "metadata": {},
   "outputs": [],
   "source": [
    "# Store the DataFrameGroupBy object in a variable\n",
    "categories = camping_df.groupby('Category')\n",
    "# Ask for a listing of each group\n",
    "categories.groups"
   ]
  },
  {
   "cell_type": "markdown",
   "metadata": {},
   "source": [
    "Once we know what the groups are, we can use the `get_group` function to request a specific group. Note that the group is returned as its own DataFrame, which means that you can more or less think of a DataFrameGroupBy object as a list of small DataFrames, each of which is a subset of the original."
   ]
  },
  {
   "cell_type": "code",
   "execution_count": null,
   "metadata": {},
   "outputs": [],
   "source": [
    "categories.get_group('Health')"
   ]
  },
  {
   "cell_type": "markdown",
   "metadata": {},
   "source": [
    "We can ask for the size of each group using the `size` function. Pretty straightforward."
   ]
  },
  {
   "cell_type": "code",
   "execution_count": null,
   "metadata": {},
   "outputs": [],
   "source": [
    "categories.size()"
   ]
  },
  {
   "cell_type": "markdown",
   "metadata": {},
   "source": [
    "We can loop through a DataFrameGroupBy object, pulling out the name and sub-DataFrame for each group in the list."
   ]
  },
  {
   "cell_type": "code",
   "execution_count": null,
   "metadata": {},
   "outputs": [],
   "source": [
    "for name, group in categories:\n",
    "    print(name)\n",
    "    print(group)\n",
    "    print('-' * 51)   # Separators between groups, just for clarity"
   ]
  },
  {
   "cell_type": "markdown",
   "metadata": {},
   "source": [
    "Suppose we still want to group by `Category`, but we only care about the `Weight` column of each item. We can query the DataFrameGroupBy object for `Weight`, and then loop through that instead."
   ]
  },
  {
   "cell_type": "code",
   "execution_count": null,
   "metadata": {},
   "outputs": [],
   "source": [
    "weights = categories['UnitWeight']\n",
    "for name, group in weights:\n",
    "    print(name)\n",
    "    print(group)\n",
    "    print('-'*28)"
   ]
  },
  {
   "cell_type": "markdown",
   "metadata": {},
   "source": [
    "So to summarize, `groupby` allows us to split a DataFrame into a DataFrameGroupBy object, which is essentially a list of sub-DataFrames."
   ]
  }
 ],
 "metadata": {
  "kernelspec": {
   "display_name": "Python 3",
   "language": "python",
   "name": "python3"
  },
  "language_info": {
   "codemirror_mode": {
    "name": "ipython",
    "version": 3
   },
   "file_extension": ".py",
   "mimetype": "text/x-python",
   "name": "python",
   "nbconvert_exporter": "python",
   "pygments_lexer": "ipython3",
   "version": "3.8.3"
  }
 },
 "nbformat": 4,
 "nbformat_minor": 4
}
