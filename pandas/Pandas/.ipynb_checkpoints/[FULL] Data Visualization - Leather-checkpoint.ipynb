{
 "cells": [
  {
   "cell_type": "code",
   "execution_count": 2,
   "metadata": {},
   "outputs": [],
   "source": [
    "import pandas as pd\n",
    "import numpy as np\n",
    "import random\n",
    "import leather"
   ]
  },
  {
   "cell_type": "markdown",
   "metadata": {},
   "source": [
    "# Visualizing data with Leather\n",
    "\n",
    "We've done all sorts of work with data, and now it's time to learn how to make visuals. We'll be using a library called [Leather](https://leather.readthedocs.io/en/0.3.3/index.html), which streamlines the process of creating simple but pretty graphs. I recommend you take some time to poke through the documentation, but spend time particularly on these two pages:\n",
    "\n",
    "- [API](https://leather.readthedocs.io/en/0.3.3/api.html): details on the requirements for each available function\n",
    "- [Examples](https://leather.readthedocs.io/en/0.3.3/examples.html): mini programs demonstrating various basic charts\n",
    "\n",
    "Before diving into details, let's look at a quick example of what Leather can do."
   ]
  },
  {
   "cell_type": "code",
   "execution_count": 2,
   "metadata": {},
   "outputs": [
    {
     "data": {
      "image/svg+xml": [
       "<svg xmlns=\"http://www.w3.org/2000/svg\" width=\"800\" height=\"600\" version=\"1.1\"><g><rect x=\"0\" y=\"0\" width=\"800\" height=\"600\" fill=\"#f9f9f9\"/><g transform=\"translate(40 40)\"><g transform=\"translate(32 0)\"><text x=\"0\" y=\"0\" fill=\"#333\" font-family=\"Monaco\" font-size=\"16\">Colorized dots</text></g><g transform=\"translate(0 20)\"><g transform=\"translate(32 0)\"><g class=\"axis bottom\"><g class=\"tick\"><line x1=\"229.3333333333333333333333333\" y1=\"0\" x2=\"229.3333333333333333333333333\" y2=\"482.0\" stroke=\"#eee\" stroke-width=\"1\"/><text x=\"229.3333333333333333333333333\" y=\"486.0\" dy=\"1em\" fill=\"#9c9c9c\" text-anchor=\"middle\" font-family=\"Monaco\">100</text></g><g class=\"tick\"><line x1=\"458.6666666666666666666666667\" y1=\"0\" x2=\"458.6666666666666666666666667\" y2=\"482.0\" stroke=\"#eee\" stroke-width=\"1\"/><text x=\"458.6666666666666666666666667\" y=\"486.0\" dy=\"1em\" fill=\"#9c9c9c\" text-anchor=\"middle\" font-family=\"Monaco\">200</text></g><g class=\"tick\"><line x1=\"688\" y1=\"0\" x2=\"688\" y2=\"482.0\" stroke=\"#eee\" stroke-width=\"1\"/><text x=\"688\" y=\"486.0\" dy=\"1em\" fill=\"#9c9c9c\" text-anchor=\"middle\" font-family=\"Monaco\">300</text></g><g class=\"tick\"><line x1=\"0\" y1=\"0\" x2=\"0\" y2=\"482.0\" stroke=\"#a8a8a8\" stroke-width=\"1\"/><text x=\"0\" y=\"486.0\" dy=\"1em\" fill=\"#9c9c9c\" text-anchor=\"middle\" font-family=\"Monaco\">0</text></g></g><g class=\"axis left\"><g class=\"tick\"><line x1=\"-4\" y1=\"318.6666666666666666666666667\" x2=\"688.0\" y2=\"318.6666666666666666666666667\" stroke=\"#eee\" stroke-width=\"1\"/><text x=\"-8\" y=\"318.6666666666666666666666667\" dy=\"0.32em\" fill=\"#9c9c9c\" text-anchor=\"end\" font-family=\"Monaco\">100</text></g><g class=\"tick\"><line x1=\"-4\" y1=\"159.3333333333333333333333333\" x2=\"688.0\" y2=\"159.3333333333333333333333333\" stroke=\"#eee\" stroke-width=\"1\"/><text x=\"-8\" y=\"159.3333333333333333333333333\" dy=\"0.32em\" fill=\"#9c9c9c\" text-anchor=\"end\" font-family=\"Monaco\">200</text></g><g class=\"tick\"><line x1=\"-4\" y1=\"0\" x2=\"688.0\" y2=\"0\" stroke=\"#eee\" stroke-width=\"1\"/><text x=\"-8\" y=\"0\" dy=\"0.32em\" fill=\"#9c9c9c\" text-anchor=\"end\" font-family=\"Monaco\">300</text></g><g class=\"tick\"><line x1=\"-4\" y1=\"478\" x2=\"688.0\" y2=\"478\" stroke=\"#a8a8a8\" stroke-width=\"1\"/><text x=\"-8\" y=\"478\" dy=\"0.32em\" fill=\"#9c9c9c\" text-anchor=\"end\" font-family=\"Monaco\">0</text></g></g><g><g class=\"series dots\"><circle cx=\"334.8266666666666666666666667\" cy=\"366.4666666666666666666666667\" r=\"3\" fill=\"rgb(146, 70, 150)\"/><circle cx=\"307.3066666666666666666666667\" cy=\"364.8733333333333333333333333\" r=\"3\" fill=\"rgb(134, 71, 150)\"/><circle cx=\"282.08\" cy=\"270.8666666666666666666666667\" r=\"3\" fill=\"rgb(123, 130, 150)\"/><circle cx=\"467.84\" cy=\"415.86\" r=\"3\" fill=\"rgb(204, 39, 150)\"/><circle cx=\"463.2533333333333333333333333\" cy=\"420.64\" r=\"3\" fill=\"rgb(202, 36, 150)\"/><circle cx=\"188.0533333333333333333333333\" cy=\"250.1533333333333333333333333\" r=\"3\" fill=\"rgb(82, 143, 150)\"/><circle cx=\"249.9733333333333333333333333\" cy=\"358.50\" r=\"3\" fill=\"rgb(109, 75, 150)\"/><circle cx=\"341.7066666666666666666666667\" cy=\"415.86\" r=\"3\" fill=\"rgb(149, 39, 150)\"/><circle cx=\"91.73333333333333333333333331\" cy=\"92.4133333333333333333333333\" r=\"3\" fill=\"rgb(40, 242, 150)\"/><circle cx=\"350.88\" cy=\"454.10\" r=\"3\" fill=\"rgb(153, 15, 150)\"/><circle cx=\"460.96\" cy=\"329.82\" r=\"3\" fill=\"rgb(201, 93, 150)\"/><circle cx=\"477.0133333333333333333333333\" cy=\"326.6333333333333333333333333\" r=\"3\" fill=\"rgb(208, 95, 150)\"/><circle cx=\"568.7466666666666666666666667\" cy=\"344.16\" r=\"3\" fill=\"rgb(248, 84, 150)\"/><circle cx=\"13.76\" cy=\"401.52\" r=\"3\" fill=\"rgb(6, 48, 150)\"/><circle cx=\"532.0533333333333333333333333\" cy=\"323.4466666666666666666666667\" r=\"3\" fill=\"rgb(232, 97, 150)\"/><circle cx=\"181.1733333333333333333333333\" cy=\"148.18\" r=\"3\" fill=\"rgb(79, 207, 150)\"/><circle cx=\"233.92\" cy=\"232.6266666666666666666666667\" r=\"3\" fill=\"rgb(102, 154, 150)\"/><circle cx=\"371.52\" cy=\"152.96\" r=\"3\" fill=\"rgb(162, 204, 150)\"/><circle cx=\"548.1066666666666666666666667\" cy=\"371.2466666666666666666666667\" r=\"3\" fill=\"rgb(239, 67, 150)\"/><circle cx=\"488.48\" cy=\"333.0066666666666666666666667\" r=\"3\" fill=\"rgb(213, 91, 150)\"/><circle cx=\"474.72\" cy=\"385.5866666666666666666666667\" r=\"3\" fill=\"rgb(207, 58, 150)\"/><circle cx=\"330.24\" cy=\"264.4933333333333333333333333\" r=\"3\" fill=\"rgb(144, 134, 150)\"/><circle cx=\"474.72\" cy=\"101.9733333333333333333333333\" r=\"3\" fill=\"rgb(207, 236, 150)\"/><circle cx=\"327.9466666666666666666666667\" cy=\"173.6733333333333333333333333\" r=\"3\" fill=\"rgb(143, 191, 150)\"/><circle cx=\"389.8666666666666666666666667\" cy=\"254.9333333333333333333333333\" r=\"3\" fill=\"rgb(170, 140, 150)\"/><circle cx=\"554.9866666666666666666666667\" cy=\"294.7666666666666666666666667\" r=\"3\" fill=\"rgb(242, 115, 150)\"/><circle cx=\"126.1333333333333333333333333\" cy=\"133.84\" r=\"3\" fill=\"rgb(55, 216, 150)\"/><circle cx=\"332.5333333333333333333333333\" cy=\"299.5466666666666666666666667\" r=\"3\" fill=\"rgb(145, 112, 150)\"/><circle cx=\"305.0133333333333333333333333\" cy=\"339.38\" r=\"3\" fill=\"rgb(133, 87, 150)\"/><circle cx=\"116.96\" cy=\"194.3866666666666666666666667\" r=\"3\" fill=\"rgb(51, 178, 150)\"/><circle cx=\"371.52\" cy=\"162.52\" r=\"3\" fill=\"rgb(162, 198, 150)\"/><circle cx=\"256.8533333333333333333333333\" cy=\"419.0466666666666666666666667\" r=\"3\" fill=\"rgb(112, 37, 150)\"/><circle cx=\"444.9066666666666666666666667\" cy=\"178.4533333333333333333333333\" r=\"3\" fill=\"rgb(194, 188, 150)\"/><circle cx=\"167.4133333333333333333333333\" cy=\"447.7266666666666666666666667\" r=\"3\" fill=\"rgb(73, 19, 150)\"/><circle cx=\"481.6\" cy=\"379.2133333333333333333333333\" r=\"3\" fill=\"rgb(210, 62, 150)\"/><circle cx=\"493.0666666666666666666666667\" cy=\"463.66\" r=\"3\" fill=\"rgb(215, 9, 150)\"/><circle cx=\"557.28\" cy=\"258.12\" r=\"3\" fill=\"rgb(243, 138, 150)\"/><circle cx=\"266.0266666666666666666666667\" cy=\"468.44\" r=\"3\" fill=\"rgb(116, 6, 150)\"/><circle cx=\"497.6533333333333333333333333\" cy=\"457.2866666666666666666666667\" r=\"3\" fill=\"rgb(217, 13, 150)\"/><circle cx=\"373.8133333333333333333333333\" cy=\"474.8133333333333333333333333\" r=\"3\" fill=\"rgb(163, 2, 150)\"/><circle cx=\"302.72\" cy=\"301.14\" r=\"3\" fill=\"rgb(132, 111, 150)\"/><circle cx=\"238.5066666666666666666666667\" cy=\"144.9933333333333333333333333\" r=\"3\" fill=\"rgb(104, 209, 150)\"/><circle cx=\"566.4533333333333333333333333\" cy=\"446.1333333333333333333333333\" r=\"3\" fill=\"rgb(247, 20, 150)\"/><circle cx=\"133.0133333333333333333333333\" cy=\"407.8933333333333333333333333\" r=\"3\" fill=\"rgb(58, 44, 150)\"/><circle cx=\"399.04\" cy=\"398.3333333333333333333333333\" r=\"3\" fill=\"rgb(174, 50, 150)\"/><circle cx=\"199.52\" cy=\"253.34\" r=\"3\" fill=\"rgb(87, 141, 150)\"/><circle cx=\"13.76\" cy=\"248.56\" r=\"3\" fill=\"rgb(6, 144, 150)\"/><circle cx=\"502.24\" cy=\"103.5666666666666666666666667\" r=\"3\" fill=\"rgb(219, 235, 150)\"/><circle cx=\"4.586666666666666666666666667\" cy=\"186.42\" r=\"3\" fill=\"rgb(2, 183, 150)\"/><circle cx=\"194.9333333333333333333333333\" cy=\"420.64\" r=\"3\" fill=\"rgb(85, 36, 150)\"/><circle cx=\"309.60\" cy=\"224.66\" r=\"3\" fill=\"rgb(135, 159, 150)\"/><circle cx=\"309.60\" cy=\"423.8266666666666666666666667\" r=\"3\" fill=\"rgb(135, 34, 150)\"/><circle cx=\"18.34666666666666666666666667\" cy=\"243.78\" r=\"3\" fill=\"rgb(8, 147, 150)\"/><circle cx=\"426.56\" cy=\"266.0866666666666666666666667\" r=\"3\" fill=\"rgb(186, 133, 150)\"/><circle cx=\"25.22666666666666666666666667\" cy=\"191.2\" r=\"3\" fill=\"rgb(11, 180, 150)\"/><circle cx=\"243.0933333333333333333333333\" cy=\"466.8466666666666666666666667\" r=\"3\" fill=\"rgb(106, 7, 150)\"/><circle cx=\"316.48\" cy=\"138.62\" r=\"3\" fill=\"rgb(138, 213, 150)\"/><circle cx=\"68.8\" cy=\"361.6866666666666666666666667\" r=\"3\" fill=\"rgb(30, 73, 150)\"/><circle cx=\"506.8266666666666666666666667\" cy=\"465.2533333333333333333333333\" r=\"3\" fill=\"rgb(221, 8, 150)\"/><circle cx=\"410.5066666666666666666666667\" cy=\"157.74\" r=\"3\" fill=\"rgb(179, 201, 150)\"/><circle cx=\"38.98666666666666666666666667\" cy=\"391.96\" r=\"3\" fill=\"rgb(17, 54, 150)\"/><circle cx=\"259.1466666666666666666666667\" cy=\"422.2333333333333333333333333\" r=\"3\" fill=\"rgb(113, 35, 150)\"/><circle cx=\"146.7733333333333333333333333\" cy=\"245.3733333333333333333333333\" r=\"3\" fill=\"rgb(64, 146, 150)\"/><circle cx=\"135.3066666666666666666666667\" cy=\"84.4466666666666666666666667\" r=\"3\" fill=\"rgb(59, 247, 150)\"/><circle cx=\"114.6666666666666666666666667\" cy=\"310.70\" r=\"3\" fill=\"rgb(50, 105, 150)\"/><circle cx=\"32.10666666666666666666666667\" cy=\"237.4066666666666666666666667\" r=\"3\" fill=\"rgb(14, 151, 150)\"/><circle cx=\"360.0533333333333333333333333\" cy=\"404.7066666666666666666666667\" r=\"3\" fill=\"rgb(157, 46, 150)\"/><circle cx=\"73.38666666666666666666666669\" cy=\"396.74\" r=\"3\" fill=\"rgb(32, 51, 150)\"/><circle cx=\"55.04\" cy=\"149.7733333333333333333333333\" r=\"3\" fill=\"rgb(24, 206, 150)\"/><circle cx=\"513.7066666666666666666666667\" cy=\"210.32\" r=\"3\" fill=\"rgb(224, 168, 150)\"/><circle cx=\"71.09333333333333333333333331\" cy=\"180.0466666666666666666666667\" r=\"3\" fill=\"rgb(31, 187, 150)\"/><circle cx=\"6.88\" cy=\"84.4466666666666666666666667\" r=\"3\" fill=\"rgb(3, 247, 150)\"/><circle cx=\"309.60\" cy=\"262.90\" r=\"3\" fill=\"rgb(135, 135, 150)\"/><circle cx=\"252.2666666666666666666666667\" cy=\"388.7733333333333333333333333\" r=\"3\" fill=\"rgb(110, 56, 150)\"/><circle cx=\"201.8133333333333333333333333\" cy=\"289.9866666666666666666666667\" r=\"3\" fill=\"rgb(88, 118, 150)\"/><circle cx=\"238.5066666666666666666666667\" cy=\"329.82\" r=\"3\" fill=\"rgb(104, 93, 150)\"/><circle cx=\"366.9333333333333333333333333\" cy=\"390.3666666666666666666666667\" r=\"3\" fill=\"rgb(160, 55, 150)\"/><circle cx=\"231.6266666666666666666666667\" cy=\"288.3933333333333333333333333\" r=\"3\" fill=\"rgb(101, 119, 150)\"/><circle cx=\"392.16\" cy=\"203.9466666666666666666666667\" r=\"3\" fill=\"rgb(171, 172, 150)\"/><circle cx=\"339.4133333333333333333333333\" cy=\"275.6466666666666666666666667\" r=\"3\" fill=\"rgb(148, 127, 150)\"/><circle cx=\"353.1733333333333333333333333\" cy=\"191.2\" r=\"3\" fill=\"rgb(154, 180, 150)\"/><circle cx=\"158.24\" cy=\"344.16\" r=\"3\" fill=\"rgb(69, 84, 150)\"/><circle cx=\"233.92\" cy=\"385.5866666666666666666666667\" r=\"3\" fill=\"rgb(102, 58, 150)\"/><circle cx=\"366.9333333333333333333333333\" cy=\"329.82\" r=\"3\" fill=\"rgb(160, 93, 150)\"/><circle cx=\"538.9333333333333333333333333\" cy=\"356.9066666666666666666666667\" r=\"3\" fill=\"rgb(235, 76, 150)\"/><circle cx=\"373.8133333333333333333333333\" cy=\"356.9066666666666666666666667\" r=\"3\" fill=\"rgb(163, 76, 150)\"/><circle cx=\"80.26666666666666666666666669\" cy=\"243.78\" r=\"3\" fill=\"rgb(35, 147, 150)\"/><circle cx=\"534.3466666666666666666666667\" cy=\"113.1266666666666666666666667\" r=\"3\" fill=\"rgb(233, 229, 150)\"/><circle cx=\"389.8666666666666666666666667\" cy=\"103.5666666666666666666666667\" r=\"3\" fill=\"rgb(170, 235, 150)\"/><circle cx=\"454.08\" cy=\"304.3266666666666666666666667\" r=\"3\" fill=\"rgb(198, 109, 150)\"/><circle cx=\"376.1066666666666666666666667\" cy=\"398.3333333333333333333333333\" r=\"3\" fill=\"rgb(164, 50, 150)\"/><circle cx=\"509.12\" cy=\"133.84\" r=\"3\" fill=\"rgb(222, 216, 150)\"/><circle cx=\"573.3333333333333333333333333\" cy=\"407.8933333333333333333333333\" r=\"3\" fill=\"rgb(250, 44, 150)\"/><circle cx=\"55.04\" cy=\"119.50\" r=\"3\" fill=\"rgb(24, 225, 150)\"/><circle cx=\"302.72\" cy=\"79.6666666666666666666666667\" r=\"3\" fill=\"rgb(132, 250, 150)\"/><circle cx=\"451.7866666666666666666666667\" cy=\"259.7133333333333333333333333\" r=\"3\" fill=\"rgb(197, 137, 150)\"/><circle cx=\"412.8\" cy=\"243.78\" r=\"3\" fill=\"rgb(180, 147, 150)\"/><circle cx=\"357.76\" cy=\"184.8266666666666666666666667\" r=\"3\" fill=\"rgb(156, 184, 150)\"/><circle cx=\"410.5066666666666666666666667\" cy=\"157.74\" r=\"3\" fill=\"rgb(179, 201, 150)\"/><circle cx=\"190.3466666666666666666666667\" cy=\"285.2066666666666666666666667\" r=\"3\" fill=\"rgb(83, 121, 150)\"/></g></g></g></g></g></g></svg>"
      ],
      "text/plain": [
       "<IPython.core.display.SVG object>"
      ]
     },
     "execution_count": 2,
     "metadata": {},
     "output_type": "execute_result"
    }
   ],
   "source": [
    "# ===Example from Leather docs===\n",
    "\n",
    "# Create 100 sets of random coordinates (0-250, 0-250)\n",
    "ex_data = [(random.randint(0, 250), random.randint(0, 250)) for i in range(100)]\n",
    "\n",
    "# Method to convert coordinates into colors\n",
    "def colorizer(d):\n",
    "    return 'rgb(%i, %i, %i)' % (d.x, d.y, 150)\n",
    "\n",
    "# Create chart with given title\n",
    "chart = leather.Chart('Colorized dots')\n",
    "# Add dots to the chart\n",
    "chart.add_dots(ex_data, fill_color=colorizer)\n",
    "# Export the chart\n",
    "chart.to_svg()"
   ]
  },
  {
   "cell_type": "markdown",
   "metadata": {},
   "source": [
    "# Back to basics\n",
    "\n",
    "## Numerical data\n",
    "\n",
    "First, let's look at what we can do with purely numerical data. Let's say we have the following list of data points, given as a list of tuples.\n",
    "\n",
    "_Note: a **tuple** is a simple collection of values that are held together as one._"
   ]
  },
  {
   "cell_type": "code",
   "execution_count": 3,
   "metadata": {},
   "outputs": [],
   "source": [
    "num_data = [\n",
    "  (0, 0),\n",
    "  (1, 1),\n",
    "  (2, 4),\n",
    "  (3, 1),\n",
    "  (4, 2)\n",
    "]"
   ]
  },
  {
   "cell_type": "markdown",
   "metadata": {},
   "source": [
    "We can make a couple of different types of graphs with this data.\n",
    "\n",
    "### Dot chart"
   ]
  },
  {
   "cell_type": "code",
   "execution_count": 5,
   "metadata": {},
   "outputs": [
    {
     "data": {
      "image/svg+xml": [
       "<svg xmlns=\"http://www.w3.org/2000/svg\" width=\"800\" height=\"600\" version=\"1.1\"><g><rect x=\"0\" y=\"0\" width=\"800\" height=\"600\" fill=\"#f9f9f9\"/><g transform=\"translate(40 40)\"><g transform=\"translate(16 0)\"><text x=\"0\" y=\"0\" fill=\"#333\" font-family=\"Monaco\" font-size=\"16\">Simple dots</text></g><g transform=\"translate(0 20)\"><g transform=\"translate(16 0)\"><g class=\"axis bottom\"><g class=\"tick\"><line x1=\"176.00\" y1=\"0\" x2=\"176.00\" y2=\"482.0\" stroke=\"#eee\" stroke-width=\"1\"/><text x=\"176.00\" y=\"486.0\" dy=\"1em\" fill=\"#9c9c9c\" text-anchor=\"middle\" font-family=\"Monaco\">1</text></g><g class=\"tick\"><line x1=\"352.0\" y1=\"0\" x2=\"352.0\" y2=\"482.0\" stroke=\"#eee\" stroke-width=\"1\"/><text x=\"352.0\" y=\"486.0\" dy=\"1em\" fill=\"#9c9c9c\" text-anchor=\"middle\" font-family=\"Monaco\">2</text></g><g class=\"tick\"><line x1=\"528.00\" y1=\"0\" x2=\"528.00\" y2=\"482.0\" stroke=\"#eee\" stroke-width=\"1\"/><text x=\"528.00\" y=\"486.0\" dy=\"1em\" fill=\"#9c9c9c\" text-anchor=\"middle\" font-family=\"Monaco\">3</text></g><g class=\"tick\"><line x1=\"704\" y1=\"0\" x2=\"704\" y2=\"482.0\" stroke=\"#eee\" stroke-width=\"1\"/><text x=\"704\" y=\"486.0\" dy=\"1em\" fill=\"#9c9c9c\" text-anchor=\"middle\" font-family=\"Monaco\">4</text></g><g class=\"tick\"><line x1=\"0\" y1=\"0\" x2=\"0\" y2=\"482.0\" stroke=\"#a8a8a8\" stroke-width=\"1\"/><text x=\"0\" y=\"486.0\" dy=\"1em\" fill=\"#9c9c9c\" text-anchor=\"middle\" font-family=\"Monaco\">0</text></g></g><g class=\"axis left\"><g class=\"tick\"><line x1=\"-4\" y1=\"358.50\" x2=\"704.0\" y2=\"358.50\" stroke=\"#eee\" stroke-width=\"1\"/><text x=\"-8\" y=\"358.50\" dy=\"0.32em\" fill=\"#9c9c9c\" text-anchor=\"end\" font-family=\"Monaco\">1</text></g><g class=\"tick\"><line x1=\"-4\" y1=\"239.0\" x2=\"704.0\" y2=\"239.0\" stroke=\"#eee\" stroke-width=\"1\"/><text x=\"-8\" y=\"239.0\" dy=\"0.32em\" fill=\"#9c9c9c\" text-anchor=\"end\" font-family=\"Monaco\">2</text></g><g class=\"tick\"><line x1=\"-4\" y1=\"119.50\" x2=\"704.0\" y2=\"119.50\" stroke=\"#eee\" stroke-width=\"1\"/><text x=\"-8\" y=\"119.50\" dy=\"0.32em\" fill=\"#9c9c9c\" text-anchor=\"end\" font-family=\"Monaco\">3</text></g><g class=\"tick\"><line x1=\"-4\" y1=\"0\" x2=\"704.0\" y2=\"0\" stroke=\"#eee\" stroke-width=\"1\"/><text x=\"-8\" y=\"0\" dy=\"0.32em\" fill=\"#9c9c9c\" text-anchor=\"end\" font-family=\"Monaco\">4</text></g><g class=\"tick\"><line x1=\"-4\" y1=\"478\" x2=\"704.0\" y2=\"478\" stroke=\"#a8a8a8\" stroke-width=\"1\"/><text x=\"-8\" y=\"478\" dy=\"0.32em\" fill=\"#9c9c9c\" text-anchor=\"end\" font-family=\"Monaco\">0</text></g></g><g><g class=\"series dots\"><circle cx=\"0\" cy=\"478\" r=\"5\" fill=\"#e41a1c\"/><circle cx=\"176.00\" cy=\"358.50\" r=\"5\" fill=\"#e41a1c\"/><circle cx=\"352.0\" cy=\"0\" r=\"5\" fill=\"#e41a1c\"/><circle cx=\"528.00\" cy=\"358.50\" r=\"5\" fill=\"#e41a1c\"/><circle cx=\"704\" cy=\"239.0\" r=\"5\" fill=\"#e41a1c\"/></g></g></g></g></g></g></svg>"
      ],
      "text/plain": [
       "<IPython.core.display.SVG object>"
      ]
     },
     "execution_count": 5,
     "metadata": {},
     "output_type": "execute_result"
    }
   ],
   "source": [
    "dot_chart = leather.Chart('Simple dots')\n",
    "dot_chart.add_dots(num_data, radius=5)\n",
    "dot_chart.to_svg()"
   ]
  },
  {
   "cell_type": "markdown",
   "metadata": {},
   "source": [
    "### Line chart"
   ]
  },
  {
   "cell_type": "code",
   "execution_count": 5,
   "metadata": {},
   "outputs": [
    {
     "data": {
      "image/svg+xml": [
       "<svg xmlns=\"http://www.w3.org/2000/svg\" width=\"800\" height=\"600\" version=\"1.1\"><g><rect x=\"0\" y=\"0\" width=\"800\" height=\"600\" fill=\"#f9f9f9\"/><g transform=\"translate(40 40)\"><g transform=\"translate(16 0)\"><text x=\"0\" y=\"0\" fill=\"#333\" font-family=\"Monaco\" font-size=\"16\">Simple line</text></g><g transform=\"translate(0 20)\"><g transform=\"translate(16 0)\"><g class=\"axis bottom\"><g class=\"tick\"><line x1=\"176.00\" y1=\"0\" x2=\"176.00\" y2=\"482.0\" stroke=\"#eee\" stroke-width=\"1\"/><text x=\"176.00\" y=\"486.0\" dy=\"1em\" fill=\"#9c9c9c\" text-anchor=\"middle\" font-family=\"Monaco\">1</text></g><g class=\"tick\"><line x1=\"352.0\" y1=\"0\" x2=\"352.0\" y2=\"482.0\" stroke=\"#eee\" stroke-width=\"1\"/><text x=\"352.0\" y=\"486.0\" dy=\"1em\" fill=\"#9c9c9c\" text-anchor=\"middle\" font-family=\"Monaco\">2</text></g><g class=\"tick\"><line x1=\"528.00\" y1=\"0\" x2=\"528.00\" y2=\"482.0\" stroke=\"#eee\" stroke-width=\"1\"/><text x=\"528.00\" y=\"486.0\" dy=\"1em\" fill=\"#9c9c9c\" text-anchor=\"middle\" font-family=\"Monaco\">3</text></g><g class=\"tick\"><line x1=\"704\" y1=\"0\" x2=\"704\" y2=\"482.0\" stroke=\"#eee\" stroke-width=\"1\"/><text x=\"704\" y=\"486.0\" dy=\"1em\" fill=\"#9c9c9c\" text-anchor=\"middle\" font-family=\"Monaco\">4</text></g><g class=\"tick\"><line x1=\"0\" y1=\"0\" x2=\"0\" y2=\"482.0\" stroke=\"#a8a8a8\" stroke-width=\"1\"/><text x=\"0\" y=\"486.0\" dy=\"1em\" fill=\"#9c9c9c\" text-anchor=\"middle\" font-family=\"Monaco\">0</text></g></g><g class=\"axis left\"><g class=\"tick\"><line x1=\"-4\" y1=\"358.50\" x2=\"704.0\" y2=\"358.50\" stroke=\"#eee\" stroke-width=\"1\"/><text x=\"-8\" y=\"358.50\" dy=\"0.32em\" fill=\"#9c9c9c\" text-anchor=\"end\" font-family=\"Monaco\">1</text></g><g class=\"tick\"><line x1=\"-4\" y1=\"239.0\" x2=\"704.0\" y2=\"239.0\" stroke=\"#eee\" stroke-width=\"1\"/><text x=\"-8\" y=\"239.0\" dy=\"0.32em\" fill=\"#9c9c9c\" text-anchor=\"end\" font-family=\"Monaco\">2</text></g><g class=\"tick\"><line x1=\"-4\" y1=\"119.50\" x2=\"704.0\" y2=\"119.50\" stroke=\"#eee\" stroke-width=\"1\"/><text x=\"-8\" y=\"119.50\" dy=\"0.32em\" fill=\"#9c9c9c\" text-anchor=\"end\" font-family=\"Monaco\">3</text></g><g class=\"tick\"><line x1=\"-4\" y1=\"0\" x2=\"704.0\" y2=\"0\" stroke=\"#eee\" stroke-width=\"1\"/><text x=\"-8\" y=\"0\" dy=\"0.32em\" fill=\"#9c9c9c\" text-anchor=\"end\" font-family=\"Monaco\">4</text></g><g class=\"tick\"><line x1=\"-4\" y1=\"478\" x2=\"704.0\" y2=\"478\" stroke=\"#a8a8a8\" stroke-width=\"1\"/><text x=\"-8\" y=\"478\" dy=\"0.32em\" fill=\"#9c9c9c\" text-anchor=\"end\" font-family=\"Monaco\">0</text></g></g><g><g class=\"series lines\"><path stroke=\"#e41a1c\" fill=\"none\" stroke-width=\"5\" d=\"M 0 478 L 176.00 358.50 L 352.0 0 L 528.00 358.50 L 704 239.0\"/></g></g></g></g></g></g></svg>"
      ],
      "text/plain": [
       "<IPython.core.display.SVG object>"
      ]
     },
     "execution_count": 5,
     "metadata": {},
     "output_type": "execute_result"
    }
   ],
   "source": [
    "line_chart = leather.Chart('Simple line')\n",
    "line_chart.add_line(num_data, width=5)\n",
    "line_chart.to_svg()"
   ]
  },
  {
   "cell_type": "markdown",
   "metadata": {},
   "source": [
    "## Labeled data\n",
    "\n",
    "But what if we have data that looks more like one of these?"
   ]
  },
  {
   "cell_type": "code",
   "execution_count": 6,
   "metadata": {},
   "outputs": [],
   "source": [
    "labeled_data_col = [\n",
    "  ('apple', 4),\n",
    "  ('banana', 8),\n",
    "  ('kiwi', 5),\n",
    "  ('pineapple', 6),\n",
    "  ('rambutan', 7)\n",
    "]\n",
    "\n",
    "labeled_data_col2 = [\n",
    "  ('apple2', 7),\n",
    "  ('banana2', 3),\n",
    "  ('kiwi2', 5),\n",
    "  ('pineapple2', 2),\n",
    "  ('rambutan2', 8)\n",
    "]\n",
    "\n",
    "labeled_data_bar = [\n",
    "  (4, 'apple'),\n",
    "  (8, 'banana'),\n",
    "  (5, 'kiwi'),\n",
    "  (6, 'pineapple'),\n",
    "  (7, 'rambutan')\n",
    "]"
   ]
  },
  {
   "cell_type": "markdown",
   "metadata": {},
   "source": [
    "We can use either a column chart or a bar chart, depending on the order of the axes.\n",
    "\n",
    "### Column chart"
   ]
  },
  {
   "cell_type": "code",
   "execution_count": 7,
   "metadata": {},
   "outputs": [
    {
     "data": {
      "image/svg+xml": [
       "<svg xmlns=\"http://www.w3.org/2000/svg\" width=\"800\" height=\"600\" version=\"1.1\"><g><rect x=\"0\" y=\"0\" width=\"800\" height=\"600\" fill=\"#f9f9f9\"/><g transform=\"translate(40 40)\"><g transform=\"translate(16 0)\"><text x=\"0\" y=\"0\" fill=\"#333\" font-family=\"Monaco\" font-size=\"16\">Simple columns</text></g><g transform=\"translate(0 20)\"><g transform=\"translate(16 0)\"><g class=\"axis bottom\"><g class=\"tick\"><line x1=\"70.4\" y1=\"0\" x2=\"70.4\" y2=\"482.0\" stroke=\"#eee\" stroke-width=\"1\"/><text x=\"70.4\" y=\"486.0\" dy=\"1em\" fill=\"#9c9c9c\" text-anchor=\"middle\" font-family=\"Monaco\">apple</text></g><g class=\"tick\"><line x1=\"211.2\" y1=\"0\" x2=\"211.2\" y2=\"482.0\" stroke=\"#eee\" stroke-width=\"1\"/><text x=\"211.2\" y=\"486.0\" dy=\"1em\" fill=\"#9c9c9c\" text-anchor=\"middle\" font-family=\"Monaco\">banana</text></g><g class=\"tick\"><line x1=\"352.0\" y1=\"0\" x2=\"352.0\" y2=\"482.0\" stroke=\"#eee\" stroke-width=\"1\"/><text x=\"352.0\" y=\"486.0\" dy=\"1em\" fill=\"#9c9c9c\" text-anchor=\"middle\" font-family=\"Monaco\">kiwi</text></g><g class=\"tick\"><line x1=\"492.8\" y1=\"0\" x2=\"492.8\" y2=\"482.0\" stroke=\"#eee\" stroke-width=\"1\"/><text x=\"492.8\" y=\"486.0\" dy=\"1em\" fill=\"#9c9c9c\" text-anchor=\"middle\" font-family=\"Monaco\">pineapple</text></g><g class=\"tick\"><line x1=\"633.6\" y1=\"0\" x2=\"633.6\" y2=\"482.0\" stroke=\"#eee\" stroke-width=\"1\"/><text x=\"633.6\" y=\"486.0\" dy=\"1em\" fill=\"#9c9c9c\" text-anchor=\"middle\" font-family=\"Monaco\">rambutan</text></g></g><g class=\"axis left\"><g class=\"tick\"><line x1=\"-4\" y1=\"358.50\" x2=\"704.0\" y2=\"358.50\" stroke=\"#eee\" stroke-width=\"1\"/><text x=\"-8\" y=\"358.50\" dy=\"0.32em\" fill=\"#9c9c9c\" text-anchor=\"end\" font-family=\"Monaco\">2</text></g><g class=\"tick\"><line x1=\"-4\" y1=\"239.0\" x2=\"704.0\" y2=\"239.0\" stroke=\"#eee\" stroke-width=\"1\"/><text x=\"-8\" y=\"239.0\" dy=\"0.32em\" fill=\"#9c9c9c\" text-anchor=\"end\" font-family=\"Monaco\">4</text></g><g class=\"tick\"><line x1=\"-4\" y1=\"119.50\" x2=\"704.0\" y2=\"119.50\" stroke=\"#eee\" stroke-width=\"1\"/><text x=\"-8\" y=\"119.50\" dy=\"0.32em\" fill=\"#9c9c9c\" text-anchor=\"end\" font-family=\"Monaco\">6</text></g><g class=\"tick\"><line x1=\"-4\" y1=\"0\" x2=\"704.0\" y2=\"0\" stroke=\"#eee\" stroke-width=\"1\"/><text x=\"-8\" y=\"0\" dy=\"0.32em\" fill=\"#9c9c9c\" text-anchor=\"end\" font-family=\"Monaco\">8</text></g><g class=\"tick\"><line x1=\"-4\" y1=\"478\" x2=\"704.0\" y2=\"478\" stroke=\"#a8a8a8\" stroke-width=\"1\"/><text x=\"-8\" y=\"478\" dy=\"0.32em\" fill=\"#9c9c9c\" text-anchor=\"end\" font-family=\"Monaco\">0</text></g></g><g><g class=\"series columns\"><rect x=\"7.04\" y=\"239.0\" width=\"126.72\" height=\"239.0\" fill=\"#e41a1c\"/><rect x=\"147.84\" y=\"0\" width=\"126.72\" height=\"478\" fill=\"#e41a1c\"/><rect x=\"288.64\" y=\"179.250\" width=\"126.72\" height=\"298.750\" fill=\"#e41a1c\"/><rect x=\"429.44\" y=\"119.50\" width=\"126.72\" height=\"358.50\" fill=\"#e41a1c\"/><rect x=\"570.24\" y=\"59.750\" width=\"126.72\" height=\"418.250\" fill=\"#e41a1c\"/></g></g></g></g></g></g></svg>"
      ],
      "text/plain": [
       "<IPython.core.display.SVG object>"
      ]
     },
     "execution_count": 7,
     "metadata": {},
     "output_type": "execute_result"
    }
   ],
   "source": [
    "col_chart = leather.Chart('Simple columns')\n",
    "col_chart.add_columns(labeled_data_col)\n",
    "col_chart.to_svg()"
   ]
  },
  {
   "cell_type": "markdown",
   "metadata": {},
   "source": [
    "### Bar chart"
   ]
  },
  {
   "cell_type": "code",
   "execution_count": 8,
   "metadata": {},
   "outputs": [
    {
     "data": {
      "image/svg+xml": [
       "<svg xmlns=\"http://www.w3.org/2000/svg\" width=\"800\" height=\"600\" version=\"1.1\"><g><rect x=\"0\" y=\"0\" width=\"800\" height=\"600\" fill=\"#f9f9f9\"/><g transform=\"translate(40 40)\"><g transform=\"translate(80 0)\"><text x=\"0\" y=\"0\" fill=\"#333\" font-family=\"Monaco\" font-size=\"16\">Simple bars</text></g><g transform=\"translate(0 20)\"><g transform=\"translate(80 0)\"><g class=\"axis bottom\"><g class=\"tick\"><line x1=\"160.00\" y1=\"0\" x2=\"160.00\" y2=\"482.0\" stroke=\"#eee\" stroke-width=\"1\"/><text x=\"160.00\" y=\"486.0\" dy=\"1em\" fill=\"#9c9c9c\" text-anchor=\"middle\" font-family=\"Monaco\">2</text></g><g class=\"tick\"><line x1=\"320.0\" y1=\"0\" x2=\"320.0\" y2=\"482.0\" stroke=\"#eee\" stroke-width=\"1\"/><text x=\"320.0\" y=\"486.0\" dy=\"1em\" fill=\"#9c9c9c\" text-anchor=\"middle\" font-family=\"Monaco\">4</text></g><g class=\"tick\"><line x1=\"480.00\" y1=\"0\" x2=\"480.00\" y2=\"482.0\" stroke=\"#eee\" stroke-width=\"1\"/><text x=\"480.00\" y=\"486.0\" dy=\"1em\" fill=\"#9c9c9c\" text-anchor=\"middle\" font-family=\"Monaco\">6</text></g><g class=\"tick\"><line x1=\"640\" y1=\"0\" x2=\"640\" y2=\"482.0\" stroke=\"#eee\" stroke-width=\"1\"/><text x=\"640\" y=\"486.0\" dy=\"1em\" fill=\"#9c9c9c\" text-anchor=\"middle\" font-family=\"Monaco\">8</text></g><g class=\"tick\"><line x1=\"0\" y1=\"0\" x2=\"0\" y2=\"482.0\" stroke=\"#a8a8a8\" stroke-width=\"1\"/><text x=\"0\" y=\"486.0\" dy=\"1em\" fill=\"#9c9c9c\" text-anchor=\"middle\" font-family=\"Monaco\">0</text></g></g><g class=\"axis left\"><g class=\"tick\"><line x1=\"-4\" y1=\"430.2\" x2=\"640.0\" y2=\"430.2\" stroke=\"#eee\" stroke-width=\"1\"/><text x=\"-8\" y=\"430.2\" dy=\"0.32em\" fill=\"#9c9c9c\" text-anchor=\"end\" font-family=\"Monaco\">rambutan</text></g><g class=\"tick\"><line x1=\"-4\" y1=\"334.6\" x2=\"640.0\" y2=\"334.6\" stroke=\"#eee\" stroke-width=\"1\"/><text x=\"-8\" y=\"334.6\" dy=\"0.32em\" fill=\"#9c9c9c\" text-anchor=\"end\" font-family=\"Monaco\">pineapple</text></g><g class=\"tick\"><line x1=\"-4\" y1=\"239.0\" x2=\"640.0\" y2=\"239.0\" stroke=\"#eee\" stroke-width=\"1\"/><text x=\"-8\" y=\"239.0\" dy=\"0.32em\" fill=\"#9c9c9c\" text-anchor=\"end\" font-family=\"Monaco\">kiwi</text></g><g class=\"tick\"><line x1=\"-4\" y1=\"143.4\" x2=\"640.0\" y2=\"143.4\" stroke=\"#eee\" stroke-width=\"1\"/><text x=\"-8\" y=\"143.4\" dy=\"0.32em\" fill=\"#9c9c9c\" text-anchor=\"end\" font-family=\"Monaco\">banana</text></g><g class=\"tick\"><line x1=\"-4\" y1=\"47.8\" x2=\"640.0\" y2=\"47.8\" stroke=\"#eee\" stroke-width=\"1\"/><text x=\"-8\" y=\"47.8\" dy=\"0.32em\" fill=\"#9c9c9c\" text-anchor=\"end\" font-family=\"Monaco\">apple</text></g></g><g><g class=\"series bars\"><rect x=\"0\" y=\"387.18\" width=\"560.000\" height=\"86.04\" fill=\"#e41a1c\"/><rect x=\"0\" y=\"291.58\" width=\"480.00\" height=\"86.04\" fill=\"#e41a1c\"/><rect x=\"0\" y=\"195.98\" width=\"400.000\" height=\"86.04\" fill=\"#e41a1c\"/><rect x=\"0\" y=\"100.38\" width=\"640\" height=\"86.04\" fill=\"#e41a1c\"/><rect x=\"0\" y=\"4.78\" width=\"320.0\" height=\"86.04\" fill=\"#e41a1c\"/></g></g></g></g></g></g></svg>"
      ],
      "text/plain": [
       "<IPython.core.display.SVG object>"
      ]
     },
     "execution_count": 8,
     "metadata": {},
     "output_type": "execute_result"
    }
   ],
   "source": [
    "bar_chart = leather.Chart('Simple bars')\n",
    "bar_chart.add_bars(labeled_data_bar)\n",
    "bar_chart.to_svg()"
   ]
  },
  {
   "cell_type": "markdown",
   "metadata": {},
   "source": [
    "## Multiple sets of data points on one chart\n",
    "\n",
    "Of course, it's important to be able to plot two or more sets of data points on one chart. To see how that's done, let's first create a second set of numerical data points."
   ]
  },
  {
   "cell_type": "code",
   "execution_count": 7,
   "metadata": {},
   "outputs": [],
   "source": [
    "num_data2 = [\n",
    "  (0, 3),\n",
    "  (1, 1),\n",
    "  (2, 1),\n",
    "  (3, 0),\n",
    "  (4, 4)\n",
    "]"
   ]
  },
  {
   "cell_type": "markdown",
   "metadata": {},
   "source": [
    "Then, it's as simple as adding each set of points separately. Extra parameters included just to show what other (optional) features are available."
   ]
  },
  {
   "cell_type": "code",
   "execution_count": 17,
   "metadata": {},
   "outputs": [
    {
     "data": {
      "image/svg+xml": [
       "<svg xmlns=\"http://www.w3.org/2000/svg\" width=\"800\" height=\"600\" version=\"1.1\"><g><rect x=\"0\" y=\"0\" width=\"800\" height=\"600\" fill=\"#f9f9f9\"/><g transform=\"translate(40 40)\"><g transform=\"translate(16 0)\"><text x=\"0\" y=\"0\" fill=\"#333\" font-family=\"Monaco\" font-size=\"16\">Multiple lines</text><g transform=\"translate(0 20)\"><g transform=\"translate(0 0)\"><rect x=\"0\" y=\"-10\" width=\"10\" height=\"10\" fill=\"red\"/><text x=\"14\" y=\"0\" fill=\"#666\" font-family=\"Monaco\" font-size=\"14\">First</text></g><g transform=\"translate(86 0)\"><rect x=\"0\" y=\"-10\" width=\"10\" height=\"10\" fill=\"blue\"/><text x=\"14\" y=\"0\" fill=\"#666\" font-family=\"Monaco\" font-size=\"14\">Second</text></g></g></g><g transform=\"translate(0 38)\"><g transform=\"translate(16 0)\"><g class=\"axis bottom\"><g class=\"tick\"><line x1=\"176.00\" y1=\"0\" x2=\"176.00\" y2=\"464.0\" stroke=\"#eee\" stroke-width=\"1\"/><text x=\"176.00\" y=\"468.0\" dy=\"1em\" fill=\"#9c9c9c\" text-anchor=\"middle\" font-family=\"Monaco\">1</text></g><g class=\"tick\"><line x1=\"352.0\" y1=\"0\" x2=\"352.0\" y2=\"464.0\" stroke=\"#eee\" stroke-width=\"1\"/><text x=\"352.0\" y=\"468.0\" dy=\"1em\" fill=\"#9c9c9c\" text-anchor=\"middle\" font-family=\"Monaco\">2</text></g><g class=\"tick\"><line x1=\"528.00\" y1=\"0\" x2=\"528.00\" y2=\"464.0\" stroke=\"#eee\" stroke-width=\"1\"/><text x=\"528.00\" y=\"468.0\" dy=\"1em\" fill=\"#9c9c9c\" text-anchor=\"middle\" font-family=\"Monaco\">3</text></g><g class=\"tick\"><line x1=\"704\" y1=\"0\" x2=\"704\" y2=\"464.0\" stroke=\"#eee\" stroke-width=\"1\"/><text x=\"704\" y=\"468.0\" dy=\"1em\" fill=\"#9c9c9c\" text-anchor=\"middle\" font-family=\"Monaco\">4</text></g><g class=\"tick\"><line x1=\"0\" y1=\"0\" x2=\"0\" y2=\"464.0\" stroke=\"#a8a8a8\" stroke-width=\"1\"/><text x=\"0\" y=\"468.0\" dy=\"1em\" fill=\"#9c9c9c\" text-anchor=\"middle\" font-family=\"Monaco\">0</text></g></g><g class=\"axis left\"><g class=\"tick\"><line x1=\"-4\" y1=\"345.00\" x2=\"704.0\" y2=\"345.00\" stroke=\"#eee\" stroke-width=\"1\"/><text x=\"-8\" y=\"345.00\" dy=\"0.32em\" fill=\"#9c9c9c\" text-anchor=\"end\" font-family=\"Monaco\">1</text></g><g class=\"tick\"><line x1=\"-4\" y1=\"230.0\" x2=\"704.0\" y2=\"230.0\" stroke=\"#eee\" stroke-width=\"1\"/><text x=\"-8\" y=\"230.0\" dy=\"0.32em\" fill=\"#9c9c9c\" text-anchor=\"end\" font-family=\"Monaco\">2</text></g><g class=\"tick\"><line x1=\"-4\" y1=\"115.00\" x2=\"704.0\" y2=\"115.00\" stroke=\"#eee\" stroke-width=\"1\"/><text x=\"-8\" y=\"115.00\" dy=\"0.32em\" fill=\"#9c9c9c\" text-anchor=\"end\" font-family=\"Monaco\">3</text></g><g class=\"tick\"><line x1=\"-4\" y1=\"0\" x2=\"704.0\" y2=\"0\" stroke=\"#eee\" stroke-width=\"1\"/><text x=\"-8\" y=\"0\" dy=\"0.32em\" fill=\"#9c9c9c\" text-anchor=\"end\" font-family=\"Monaco\">4</text></g><g class=\"tick\"><line x1=\"-4\" y1=\"460\" x2=\"704.0\" y2=\"460\" stroke=\"#a8a8a8\" stroke-width=\"1\"/><text x=\"-8\" y=\"460\" dy=\"0.32em\" fill=\"#9c9c9c\" text-anchor=\"end\" font-family=\"Monaco\">0</text></g></g><g><g class=\"series lines\"><path stroke=\"red\" fill=\"none\" stroke-width=\"5\" d=\"M 0 460 L 176.00 345.00 L 352.0 0 L 528.00 345.00 L 704 230.0\"/></g><g class=\"series lines\"><path stroke=\"blue\" fill=\"none\" stroke-width=\"5\" d=\"M 0 115.00 L 176.00 345.00 L 352.0 345.00 L 528.00 460 L 704 0\"/></g></g></g></g></g></g></svg>"
      ],
      "text/plain": [
       "<IPython.core.display.SVG object>"
      ]
     },
     "execution_count": 17,
     "metadata": {},
     "output_type": "execute_result"
    }
   ],
   "source": [
    "multi_line = leather.Chart('Multiple lines')\n",
    "multi_line.add_line(num_data, name='First', width=5, stroke_color='red')\n",
    "multi_line.add_line(num_data2, name='Second', width=5, stroke_color='blue')\n",
    "multi_line.to_svg()"
   ]
  },
  {
   "cell_type": "markdown",
   "metadata": {},
   "source": [
    "# From Pandas to Leather\n",
    "\n",
    "Now the big question is: how do we turn our Pandas data, which is stuck in Series and DataFrames, into visualizations with Leather?\n",
    "\n",
    "It turns out that it's pretty straightforward, as long as you know how your data is formatted!"
   ]
  },
  {
   "cell_type": "markdown",
   "metadata": {},
   "source": [
    "## Example 1: Olympics\n",
    "\n",
    "Here's a basic example, using the olympics data from way back. The goal is to make a column chart of the total number of gold medals won by the first 10 countries in the table."
   ]
  },
  {
   "cell_type": "code",
   "execution_count": 11,
   "metadata": {},
   "outputs": [
    {
     "data": {
      "text/html": [
       "<div>\n",
       "<style scoped>\n",
       "    .dataframe tbody tr th:only-of-type {\n",
       "        vertical-align: middle;\n",
       "    }\n",
       "\n",
       "    .dataframe tbody tr th {\n",
       "        vertical-align: top;\n",
       "    }\n",
       "\n",
       "    .dataframe thead th {\n",
       "        text-align: right;\n",
       "    }\n",
       "</style>\n",
       "<table border=\"1\" class=\"dataframe\">\n",
       "  <thead>\n",
       "    <tr style=\"text-align: right;\">\n",
       "      <th></th>\n",
       "      <th>#Summer</th>\n",
       "      <th>sGold</th>\n",
       "      <th>sSilver</th>\n",
       "      <th>sBronze</th>\n",
       "      <th>sTotal</th>\n",
       "      <th>#Winter</th>\n",
       "      <th>wGold</th>\n",
       "      <th>wSilver</th>\n",
       "      <th>wBronze</th>\n",
       "      <th>wTotal</th>\n",
       "      <th>#Games</th>\n",
       "      <th>Gold</th>\n",
       "      <th>Silver</th>\n",
       "      <th>Bronze</th>\n",
       "      <th>Total</th>\n",
       "    </tr>\n",
       "  </thead>\n",
       "  <tbody>\n",
       "    <tr>\n",
       "      <th>Afghanistan (AFG)</th>\n",
       "      <td>13</td>\n",
       "      <td>0</td>\n",
       "      <td>0</td>\n",
       "      <td>2</td>\n",
       "      <td>2</td>\n",
       "      <td>0</td>\n",
       "      <td>0</td>\n",
       "      <td>0</td>\n",
       "      <td>0</td>\n",
       "      <td>0</td>\n",
       "      <td>13</td>\n",
       "      <td>0</td>\n",
       "      <td>0</td>\n",
       "      <td>2</td>\n",
       "      <td>2</td>\n",
       "    </tr>\n",
       "    <tr>\n",
       "      <th>Algeria (ALG)</th>\n",
       "      <td>12</td>\n",
       "      <td>5</td>\n",
       "      <td>2</td>\n",
       "      <td>8</td>\n",
       "      <td>15</td>\n",
       "      <td>3</td>\n",
       "      <td>0</td>\n",
       "      <td>0</td>\n",
       "      <td>0</td>\n",
       "      <td>0</td>\n",
       "      <td>15</td>\n",
       "      <td>5</td>\n",
       "      <td>2</td>\n",
       "      <td>8</td>\n",
       "      <td>15</td>\n",
       "    </tr>\n",
       "    <tr>\n",
       "      <th>Argentina (ARG)</th>\n",
       "      <td>23</td>\n",
       "      <td>18</td>\n",
       "      <td>24</td>\n",
       "      <td>28</td>\n",
       "      <td>70</td>\n",
       "      <td>18</td>\n",
       "      <td>0</td>\n",
       "      <td>0</td>\n",
       "      <td>0</td>\n",
       "      <td>0</td>\n",
       "      <td>41</td>\n",
       "      <td>18</td>\n",
       "      <td>24</td>\n",
       "      <td>28</td>\n",
       "      <td>70</td>\n",
       "    </tr>\n",
       "    <tr>\n",
       "      <th>Armenia (ARM)</th>\n",
       "      <td>5</td>\n",
       "      <td>1</td>\n",
       "      <td>2</td>\n",
       "      <td>9</td>\n",
       "      <td>12</td>\n",
       "      <td>6</td>\n",
       "      <td>0</td>\n",
       "      <td>0</td>\n",
       "      <td>0</td>\n",
       "      <td>0</td>\n",
       "      <td>11</td>\n",
       "      <td>1</td>\n",
       "      <td>2</td>\n",
       "      <td>9</td>\n",
       "      <td>12</td>\n",
       "    </tr>\n",
       "    <tr>\n",
       "      <th>Australasia (ANZ) [ANZ]</th>\n",
       "      <td>2</td>\n",
       "      <td>3</td>\n",
       "      <td>4</td>\n",
       "      <td>5</td>\n",
       "      <td>12</td>\n",
       "      <td>0</td>\n",
       "      <td>0</td>\n",
       "      <td>0</td>\n",
       "      <td>0</td>\n",
       "      <td>0</td>\n",
       "      <td>2</td>\n",
       "      <td>3</td>\n",
       "      <td>4</td>\n",
       "      <td>5</td>\n",
       "      <td>12</td>\n",
       "    </tr>\n",
       "    <tr>\n",
       "      <th>...</th>\n",
       "      <td>...</td>\n",
       "      <td>...</td>\n",
       "      <td>...</td>\n",
       "      <td>...</td>\n",
       "      <td>...</td>\n",
       "      <td>...</td>\n",
       "      <td>...</td>\n",
       "      <td>...</td>\n",
       "      <td>...</td>\n",
       "      <td>...</td>\n",
       "      <td>...</td>\n",
       "      <td>...</td>\n",
       "      <td>...</td>\n",
       "      <td>...</td>\n",
       "      <td>...</td>\n",
       "    </tr>\n",
       "    <tr>\n",
       "      <th>Independent Olympic Participants (IOP) [IOP]</th>\n",
       "      <td>1</td>\n",
       "      <td>0</td>\n",
       "      <td>1</td>\n",
       "      <td>2</td>\n",
       "      <td>3</td>\n",
       "      <td>0</td>\n",
       "      <td>0</td>\n",
       "      <td>0</td>\n",
       "      <td>0</td>\n",
       "      <td>0</td>\n",
       "      <td>1</td>\n",
       "      <td>0</td>\n",
       "      <td>1</td>\n",
       "      <td>2</td>\n",
       "      <td>3</td>\n",
       "    </tr>\n",
       "    <tr>\n",
       "      <th>Zambia (ZAM) [ZAM]</th>\n",
       "      <td>12</td>\n",
       "      <td>0</td>\n",
       "      <td>1</td>\n",
       "      <td>1</td>\n",
       "      <td>2</td>\n",
       "      <td>0</td>\n",
       "      <td>0</td>\n",
       "      <td>0</td>\n",
       "      <td>0</td>\n",
       "      <td>0</td>\n",
       "      <td>12</td>\n",
       "      <td>0</td>\n",
       "      <td>1</td>\n",
       "      <td>1</td>\n",
       "      <td>2</td>\n",
       "    </tr>\n",
       "    <tr>\n",
       "      <th>Zimbabwe (ZIM) [ZIM]</th>\n",
       "      <td>12</td>\n",
       "      <td>3</td>\n",
       "      <td>4</td>\n",
       "      <td>1</td>\n",
       "      <td>8</td>\n",
       "      <td>1</td>\n",
       "      <td>0</td>\n",
       "      <td>0</td>\n",
       "      <td>0</td>\n",
       "      <td>0</td>\n",
       "      <td>13</td>\n",
       "      <td>3</td>\n",
       "      <td>4</td>\n",
       "      <td>1</td>\n",
       "      <td>8</td>\n",
       "    </tr>\n",
       "    <tr>\n",
       "      <th>Mixed team (ZZX) [ZZX]</th>\n",
       "      <td>3</td>\n",
       "      <td>8</td>\n",
       "      <td>5</td>\n",
       "      <td>4</td>\n",
       "      <td>17</td>\n",
       "      <td>0</td>\n",
       "      <td>0</td>\n",
       "      <td>0</td>\n",
       "      <td>0</td>\n",
       "      <td>0</td>\n",
       "      <td>3</td>\n",
       "      <td>8</td>\n",
       "      <td>5</td>\n",
       "      <td>4</td>\n",
       "      <td>17</td>\n",
       "    </tr>\n",
       "    <tr>\n",
       "      <th>Totals</th>\n",
       "      <td>27</td>\n",
       "      <td>4809</td>\n",
       "      <td>4775</td>\n",
       "      <td>5130</td>\n",
       "      <td>14714</td>\n",
       "      <td>22</td>\n",
       "      <td>959</td>\n",
       "      <td>958</td>\n",
       "      <td>948</td>\n",
       "      <td>2865</td>\n",
       "      <td>49</td>\n",
       "      <td>5768</td>\n",
       "      <td>5733</td>\n",
       "      <td>6078</td>\n",
       "      <td>17579</td>\n",
       "    </tr>\n",
       "  </tbody>\n",
       "</table>\n",
       "<p>147 rows × 15 columns</p>\n",
       "</div>"
      ],
      "text/plain": [
       "                                              #Summer  sGold  sSilver  \\\n",
       "Afghanistan (AFG)                                  13      0        0   \n",
       "Algeria (ALG)                                      12      5        2   \n",
       "Argentina (ARG)                                    23     18       24   \n",
       "Armenia (ARM)                                       5      1        2   \n",
       "Australasia (ANZ) [ANZ]                             2      3        4   \n",
       "...                                               ...    ...      ...   \n",
       "Independent Olympic Participants (IOP) [IOP]        1      0        1   \n",
       "Zambia (ZAM) [ZAM]                                 12      0        1   \n",
       "Zimbabwe (ZIM) [ZIM]                               12      3        4   \n",
       "Mixed team (ZZX) [ZZX]                              3      8        5   \n",
       "Totals                                             27   4809     4775   \n",
       "\n",
       "                                              sBronze  sTotal  #Winter  wGold  \\\n",
       "Afghanistan (AFG)                                   2       2        0      0   \n",
       "Algeria (ALG)                                       8      15        3      0   \n",
       "Argentina (ARG)                                    28      70       18      0   \n",
       "Armenia (ARM)                                       9      12        6      0   \n",
       "Australasia (ANZ) [ANZ]                             5      12        0      0   \n",
       "...                                               ...     ...      ...    ...   \n",
       "Independent Olympic Participants (IOP) [IOP]        2       3        0      0   \n",
       "Zambia (ZAM) [ZAM]                                  1       2        0      0   \n",
       "Zimbabwe (ZIM) [ZIM]                                1       8        1      0   \n",
       "Mixed team (ZZX) [ZZX]                              4      17        0      0   \n",
       "Totals                                           5130   14714       22    959   \n",
       "\n",
       "                                              wSilver  wBronze  wTotal  \\\n",
       "Afghanistan (AFG)                                   0        0       0   \n",
       "Algeria (ALG)                                       0        0       0   \n",
       "Argentina (ARG)                                     0        0       0   \n",
       "Armenia (ARM)                                       0        0       0   \n",
       "Australasia (ANZ) [ANZ]                             0        0       0   \n",
       "...                                               ...      ...     ...   \n",
       "Independent Olympic Participants (IOP) [IOP]        0        0       0   \n",
       "Zambia (ZAM) [ZAM]                                  0        0       0   \n",
       "Zimbabwe (ZIM) [ZIM]                                0        0       0   \n",
       "Mixed team (ZZX) [ZZX]                              0        0       0   \n",
       "Totals                                            958      948    2865   \n",
       "\n",
       "                                              #Games  Gold  Silver  Bronze  \\\n",
       "Afghanistan (AFG)                                 13     0       0       2   \n",
       "Algeria (ALG)                                     15     5       2       8   \n",
       "Argentina (ARG)                                   41    18      24      28   \n",
       "Armenia (ARM)                                     11     1       2       9   \n",
       "Australasia (ANZ) [ANZ]                            2     3       4       5   \n",
       "...                                              ...   ...     ...     ...   \n",
       "Independent Olympic Participants (IOP) [IOP]       1     0       1       2   \n",
       "Zambia (ZAM) [ZAM]                                12     0       1       1   \n",
       "Zimbabwe (ZIM) [ZIM]                              13     3       4       1   \n",
       "Mixed team (ZZX) [ZZX]                             3     8       5       4   \n",
       "Totals                                            49  5768    5733    6078   \n",
       "\n",
       "                                              Total  \n",
       "Afghanistan (AFG)                                 2  \n",
       "Algeria (ALG)                                    15  \n",
       "Argentina (ARG)                                  70  \n",
       "Armenia (ARM)                                    12  \n",
       "Australasia (ANZ) [ANZ]                          12  \n",
       "...                                             ...  \n",
       "Independent Olympic Participants (IOP) [IOP]      3  \n",
       "Zambia (ZAM) [ZAM]                                2  \n",
       "Zimbabwe (ZIM) [ZIM]                              8  \n",
       "Mixed team (ZZX) [ZZX]                           17  \n",
       "Totals                                        17579  \n",
       "\n",
       "[147 rows x 15 columns]"
      ]
     },
     "execution_count": 11,
     "metadata": {},
     "output_type": "execute_result"
    }
   ],
   "source": [
    "olympics_url = 'https://raw.githubusercontent.com/michaelschung/bc-data-processing/master/datasets/olympics-clean.csv'\n",
    "\n",
    "olympics = pd.read_csv(olympics_url, index_col=0)\n",
    "olympics"
   ]
  },
  {
   "cell_type": "code",
   "execution_count": 12,
   "metadata": {},
   "outputs": [
    {
     "data": {
      "text/plain": [
       "Afghanistan (AFG)              0\n",
       "Algeria (ALG)                  5\n",
       "Argentina (ARG)               18\n",
       "Armenia (ARM)                  1\n",
       "Australasia (ANZ) [ANZ]        3\n",
       "Australia (AUS) [AUS] [Z]    144\n",
       "Austria (AUT)                 77\n",
       "Azerbaijan (AZE)               6\n",
       "Bahamas (BAH)                  5\n",
       "Bahrain (BRN)                  0\n",
       "Name: Gold, dtype: int64"
      ]
     },
     "execution_count": 12,
     "metadata": {},
     "output_type": "execute_result"
    }
   ],
   "source": [
    "# Get the total gold medal counts for the first 10 countries\n",
    "first_10 = olympics.iloc[:10]\n",
    "total_gold = first_10['Gold']\n",
    "total_gold"
   ]
  },
  {
   "cell_type": "markdown",
   "metadata": {},
   "source": [
    "So now we have the data that we want to graph, stored in the variable `total_gold`. The problem is, it's stored in a Pandas Series, which is not directly compatible with Leather. So before we can add our data to a Leather chart, we must convert it to a list of tuples."
   ]
  },
  {
   "cell_type": "code",
   "execution_count": 13,
   "metadata": {},
   "outputs": [
    {
     "data": {
      "text/plain": [
       "[('Afghanistan\\xa0(AFG)', 0),\n",
       " ('Algeria\\xa0(ALG)', 5),\n",
       " ('Argentina\\xa0(ARG)', 18),\n",
       " ('Armenia\\xa0(ARM)', 1),\n",
       " ('Australasia\\xa0(ANZ) [ANZ]', 3),\n",
       " ('Australia\\xa0(AUS) [AUS] [Z]', 144),\n",
       " ('Austria\\xa0(AUT)', 77),\n",
       " ('Azerbaijan\\xa0(AZE)', 6),\n",
       " ('Bahamas\\xa0(BAH)', 5),\n",
       " ('Bahrain\\xa0(BRN)', 0)]"
      ]
     },
     "execution_count": 13,
     "metadata": {},
     "output_type": "execute_result"
    }
   ],
   "source": [
    "olymp_data = list(zip(total_gold.index, total_gold))\n",
    "olymp_data"
   ]
  },
  {
   "cell_type": "markdown",
   "metadata": {},
   "source": [
    "In the code above, we first use a default Python function called `zip()`, which packages together the collections that are passed into it. The first parameter we pass in is `total_gold.index` – a list of all the country names. The second parameter is `total_gold` itself, which is at its core just a list of numbers. The `zip()` function combines them into tuple pairs.\n",
    "\n",
    "Then, that whole `zip` object is turned into a list, since Leather data must be given as a list of tuples. And with that, our data is ready to use!"
   ]
  },
  {
   "cell_type": "code",
   "execution_count": 14,
   "metadata": {},
   "outputs": [
    {
     "data": {
      "image/svg+xml": [
       "<svg xmlns=\"http://www.w3.org/2000/svg\" width=\"800\" height=\"600\" version=\"1.1\"><g><rect x=\"0\" y=\"0\" width=\"800\" height=\"600\" fill=\"#f9f9f9\"/><g transform=\"translate(40 40)\"><g transform=\"translate(32 0)\"><text x=\"0\" y=\"0\" fill=\"#333\" font-family=\"Monaco\" font-size=\"16\">First 10 countries total gold comparison</text></g><g transform=\"translate(0 20)\"><g transform=\"translate(32 0)\"><g class=\"axis bottom\"><g class=\"tick\"><line x1=\"34.4\" y1=\"0\" x2=\"34.4\" y2=\"482.0\" stroke=\"#eee\" stroke-width=\"1\"/><text x=\"34.4\" y=\"486.0\" dy=\"1em\" fill=\"#9c9c9c\" text-anchor=\"middle\" font-family=\"Monaco\">Afghanistan (AFG)</text></g><g class=\"tick\"><line x1=\"103.2\" y1=\"0\" x2=\"103.2\" y2=\"482.0\" stroke=\"#eee\" stroke-width=\"1\"/><text x=\"103.2\" y=\"486.0\" dy=\"1em\" fill=\"#9c9c9c\" text-anchor=\"middle\" font-family=\"Monaco\">Algeria (ALG)</text></g><g class=\"tick\"><line x1=\"172.0\" y1=\"0\" x2=\"172.0\" y2=\"482.0\" stroke=\"#eee\" stroke-width=\"1\"/><text x=\"172.0\" y=\"486.0\" dy=\"1em\" fill=\"#9c9c9c\" text-anchor=\"middle\" font-family=\"Monaco\">Argentina (ARG)</text></g><g class=\"tick\"><line x1=\"240.8\" y1=\"0\" x2=\"240.8\" y2=\"482.0\" stroke=\"#eee\" stroke-width=\"1\"/><text x=\"240.8\" y=\"486.0\" dy=\"1em\" fill=\"#9c9c9c\" text-anchor=\"middle\" font-family=\"Monaco\">Armenia (ARM)</text></g><g class=\"tick\"><line x1=\"309.6\" y1=\"0\" x2=\"309.6\" y2=\"482.0\" stroke=\"#eee\" stroke-width=\"1\"/><text x=\"309.6\" y=\"486.0\" dy=\"1em\" fill=\"#9c9c9c\" text-anchor=\"middle\" font-family=\"Monaco\">Australasia (ANZ) [ANZ]</text></g><g class=\"tick\"><line x1=\"378.4\" y1=\"0\" x2=\"378.4\" y2=\"482.0\" stroke=\"#eee\" stroke-width=\"1\"/><text x=\"378.4\" y=\"486.0\" dy=\"1em\" fill=\"#9c9c9c\" text-anchor=\"middle\" font-family=\"Monaco\">Australia (AUS) [AUS] [Z]</text></g><g class=\"tick\"><line x1=\"447.2\" y1=\"0\" x2=\"447.2\" y2=\"482.0\" stroke=\"#eee\" stroke-width=\"1\"/><text x=\"447.2\" y=\"486.0\" dy=\"1em\" fill=\"#9c9c9c\" text-anchor=\"middle\" font-family=\"Monaco\">Austria (AUT)</text></g><g class=\"tick\"><line x1=\"516.0\" y1=\"0\" x2=\"516.0\" y2=\"482.0\" stroke=\"#eee\" stroke-width=\"1\"/><text x=\"516.0\" y=\"486.0\" dy=\"1em\" fill=\"#9c9c9c\" text-anchor=\"middle\" font-family=\"Monaco\">Azerbaijan (AZE)</text></g><g class=\"tick\"><line x1=\"584.8\" y1=\"0\" x2=\"584.8\" y2=\"482.0\" stroke=\"#eee\" stroke-width=\"1\"/><text x=\"584.8\" y=\"486.0\" dy=\"1em\" fill=\"#9c9c9c\" text-anchor=\"middle\" font-family=\"Monaco\">Bahamas (BAH)</text></g><g class=\"tick\"><line x1=\"653.6\" y1=\"0\" x2=\"653.6\" y2=\"482.0\" stroke=\"#eee\" stroke-width=\"1\"/><text x=\"653.6\" y=\"486.0\" dy=\"1em\" fill=\"#9c9c9c\" text-anchor=\"middle\" font-family=\"Monaco\">Bahrain (BRN)</text></g></g><g class=\"axis left\"><g class=\"tick\"><line x1=\"-4\" y1=\"318.6666666666666666666666667\" x2=\"688.0\" y2=\"318.6666666666666666666666667\" stroke=\"#eee\" stroke-width=\"1\"/><text x=\"-8\" y=\"318.6666666666666666666666667\" dy=\"0.32em\" fill=\"#9c9c9c\" text-anchor=\"end\" font-family=\"Monaco\">50</text></g><g class=\"tick\"><line x1=\"-4\" y1=\"159.3333333333333333333333333\" x2=\"688.0\" y2=\"159.3333333333333333333333333\" stroke=\"#eee\" stroke-width=\"1\"/><text x=\"-8\" y=\"159.3333333333333333333333333\" dy=\"0.32em\" fill=\"#9c9c9c\" text-anchor=\"end\" font-family=\"Monaco\">100</text></g><g class=\"tick\"><line x1=\"-4\" y1=\"0\" x2=\"688.0\" y2=\"0\" stroke=\"#eee\" stroke-width=\"1\"/><text x=\"-8\" y=\"0\" dy=\"0.32em\" fill=\"#9c9c9c\" text-anchor=\"end\" font-family=\"Monaco\">150</text></g><g class=\"tick\"><line x1=\"-4\" y1=\"478\" x2=\"688.0\" y2=\"478\" stroke=\"#a8a8a8\" stroke-width=\"1\"/><text x=\"-8\" y=\"478\" dy=\"0.32em\" fill=\"#9c9c9c\" text-anchor=\"end\" font-family=\"Monaco\">0</text></g></g><g><g class=\"series columns\"><rect x=\"3.44\" y=\"478\" width=\"61.92\" height=\"0\" fill=\"#e41a1c\"/><rect x=\"72.24\" y=\"462.0666666666666666666666667\" width=\"61.92\" height=\"15.9333333333333333333333333\" fill=\"#e41a1c\"/><rect x=\"141.04\" y=\"420.64\" width=\"61.92\" height=\"57.36\" fill=\"#e41a1c\"/><rect x=\"209.84\" y=\"474.8133333333333333333333333\" width=\"61.92\" height=\"3.1866666666666666666666667\" fill=\"#e41a1c\"/><rect x=\"278.64\" y=\"468.44\" width=\"61.92\" height=\"9.56\" fill=\"#e41a1c\"/><rect x=\"347.44\" y=\"19.12\" width=\"61.92\" height=\"458.88\" fill=\"#e41a1c\"/><rect x=\"416.24\" y=\"232.6266666666666666666666667\" width=\"61.92\" height=\"245.3733333333333333333333333\" fill=\"#e41a1c\"/><rect x=\"485.04\" y=\"458.88\" width=\"61.92\" height=\"19.12\" fill=\"#e41a1c\"/><rect x=\"553.84\" y=\"462.0666666666666666666666667\" width=\"61.92\" height=\"15.9333333333333333333333333\" fill=\"#e41a1c\"/><rect x=\"622.64\" y=\"478\" width=\"61.92\" height=\"0\" fill=\"#e41a1c\"/></g></g></g></g></g></g></svg>"
      ],
      "text/plain": [
       "<IPython.core.display.SVG object>"
      ]
     },
     "execution_count": 14,
     "metadata": {},
     "output_type": "execute_result"
    }
   ],
   "source": [
    "olymp_chart = leather.Chart('First 10 countries total gold comparison')\n",
    "olymp_chart.add_columns(olymp_data)\n",
    "olymp_chart.to_svg()"
   ]
  },
  {
   "cell_type": "markdown",
   "metadata": {},
   "source": [
    "Note that Leather does not take care of the spacing in the x-axis labels. This is one limitation of the library; it's not a big deal, but just make sure that you're aware of it as you create visualizations!"
   ]
  },
  {
   "cell_type": "markdown",
   "metadata": {},
   "source": [
    "## Example 2: Zoo animals\n",
    "\n",
    "Now, let's throw it back even further, to the very first DataFrame we worked with: zoo animals and their water needs.\n",
    "\n",
    "Create a chart that shows the total water needs for each animal species. For example, the water need for elephants is a total of 1650, which we get by adding up the water need of each of the three elephants."
   ]
  },
  {
   "cell_type": "code",
   "execution_count": 15,
   "metadata": {},
   "outputs": [
    {
     "data": {
      "text/html": [
       "<div>\n",
       "<style scoped>\n",
       "    .dataframe tbody tr th:only-of-type {\n",
       "        vertical-align: middle;\n",
       "    }\n",
       "\n",
       "    .dataframe tbody tr th {\n",
       "        vertical-align: top;\n",
       "    }\n",
       "\n",
       "    .dataframe thead th {\n",
       "        text-align: right;\n",
       "    }\n",
       "</style>\n",
       "<table border=\"1\" class=\"dataframe\">\n",
       "  <thead>\n",
       "    <tr style=\"text-align: right;\">\n",
       "      <th></th>\n",
       "      <th>animal</th>\n",
       "      <th>uniq_id</th>\n",
       "      <th>water_need</th>\n",
       "    </tr>\n",
       "  </thead>\n",
       "  <tbody>\n",
       "    <tr>\n",
       "      <th>0</th>\n",
       "      <td>elephant</td>\n",
       "      <td>1001</td>\n",
       "      <td>500</td>\n",
       "    </tr>\n",
       "    <tr>\n",
       "      <th>1</th>\n",
       "      <td>elephant</td>\n",
       "      <td>1002</td>\n",
       "      <td>600</td>\n",
       "    </tr>\n",
       "    <tr>\n",
       "      <th>2</th>\n",
       "      <td>elephant</td>\n",
       "      <td>1003</td>\n",
       "      <td>550</td>\n",
       "    </tr>\n",
       "    <tr>\n",
       "      <th>3</th>\n",
       "      <td>tiger</td>\n",
       "      <td>1004</td>\n",
       "      <td>300</td>\n",
       "    </tr>\n",
       "    <tr>\n",
       "      <th>4</th>\n",
       "      <td>tiger</td>\n",
       "      <td>1005</td>\n",
       "      <td>320</td>\n",
       "    </tr>\n",
       "    <tr>\n",
       "      <th>5</th>\n",
       "      <td>tiger</td>\n",
       "      <td>1006</td>\n",
       "      <td>330</td>\n",
       "    </tr>\n",
       "    <tr>\n",
       "      <th>6</th>\n",
       "      <td>tiger</td>\n",
       "      <td>1007</td>\n",
       "      <td>290</td>\n",
       "    </tr>\n",
       "    <tr>\n",
       "      <th>7</th>\n",
       "      <td>tiger</td>\n",
       "      <td>1008</td>\n",
       "      <td>310</td>\n",
       "    </tr>\n",
       "    <tr>\n",
       "      <th>8</th>\n",
       "      <td>zebra</td>\n",
       "      <td>1009</td>\n",
       "      <td>200</td>\n",
       "    </tr>\n",
       "    <tr>\n",
       "      <th>9</th>\n",
       "      <td>zebra</td>\n",
       "      <td>1010</td>\n",
       "      <td>220</td>\n",
       "    </tr>\n",
       "    <tr>\n",
       "      <th>10</th>\n",
       "      <td>zebra</td>\n",
       "      <td>1011</td>\n",
       "      <td>240</td>\n",
       "    </tr>\n",
       "    <tr>\n",
       "      <th>11</th>\n",
       "      <td>zebra</td>\n",
       "      <td>1012</td>\n",
       "      <td>230</td>\n",
       "    </tr>\n",
       "    <tr>\n",
       "      <th>12</th>\n",
       "      <td>zebra</td>\n",
       "      <td>1013</td>\n",
       "      <td>220</td>\n",
       "    </tr>\n",
       "    <tr>\n",
       "      <th>13</th>\n",
       "      <td>zebra</td>\n",
       "      <td>1014</td>\n",
       "      <td>100</td>\n",
       "    </tr>\n",
       "    <tr>\n",
       "      <th>14</th>\n",
       "      <td>zebra</td>\n",
       "      <td>1015</td>\n",
       "      <td>80</td>\n",
       "    </tr>\n",
       "    <tr>\n",
       "      <th>15</th>\n",
       "      <td>lion</td>\n",
       "      <td>1016</td>\n",
       "      <td>420</td>\n",
       "    </tr>\n",
       "    <tr>\n",
       "      <th>16</th>\n",
       "      <td>lion</td>\n",
       "      <td>1017</td>\n",
       "      <td>600</td>\n",
       "    </tr>\n",
       "    <tr>\n",
       "      <th>17</th>\n",
       "      <td>lion</td>\n",
       "      <td>1018</td>\n",
       "      <td>500</td>\n",
       "    </tr>\n",
       "    <tr>\n",
       "      <th>18</th>\n",
       "      <td>lion</td>\n",
       "      <td>1019</td>\n",
       "      <td>390</td>\n",
       "    </tr>\n",
       "    <tr>\n",
       "      <th>19</th>\n",
       "      <td>kangaroo</td>\n",
       "      <td>1020</td>\n",
       "      <td>410</td>\n",
       "    </tr>\n",
       "    <tr>\n",
       "      <th>20</th>\n",
       "      <td>kangaroo</td>\n",
       "      <td>1021</td>\n",
       "      <td>430</td>\n",
       "    </tr>\n",
       "    <tr>\n",
       "      <th>21</th>\n",
       "      <td>kangaroo</td>\n",
       "      <td>1022</td>\n",
       "      <td>410</td>\n",
       "    </tr>\n",
       "  </tbody>\n",
       "</table>\n",
       "</div>"
      ],
      "text/plain": [
       "      animal  uniq_id  water_need\n",
       "0   elephant     1001         500\n",
       "1   elephant     1002         600\n",
       "2   elephant     1003         550\n",
       "3      tiger     1004         300\n",
       "4      tiger     1005         320\n",
       "5      tiger     1006         330\n",
       "6      tiger     1007         290\n",
       "7      tiger     1008         310\n",
       "8      zebra     1009         200\n",
       "9      zebra     1010         220\n",
       "10     zebra     1011         240\n",
       "11     zebra     1012         230\n",
       "12     zebra     1013         220\n",
       "13     zebra     1014         100\n",
       "14     zebra     1015          80\n",
       "15      lion     1016         420\n",
       "16      lion     1017         600\n",
       "17      lion     1018         500\n",
       "18      lion     1019         390\n",
       "19  kangaroo     1020         410\n",
       "20  kangaroo     1021         430\n",
       "21  kangaroo     1022         410"
      ]
     },
     "execution_count": 15,
     "metadata": {},
     "output_type": "execute_result"
    }
   ],
   "source": [
    "zoo_url = 'https://raw.githubusercontent.com/michaelschung/bc-data-processing/master/datasets/zoo.csv'\n",
    "\n",
    "zoo = pd.read_csv(zoo_url)\n",
    "zoo"
   ]
  },
  {
   "cell_type": "code",
   "execution_count": 16,
   "metadata": {},
   "outputs": [
    {
     "data": {
      "text/plain": [
       "animal\n",
       "elephant    1650\n",
       "kangaroo    1250\n",
       "lion        1910\n",
       "tiger       1550\n",
       "zebra       1290\n",
       "Name: water_need, dtype: int64"
      ]
     },
     "execution_count": 16,
     "metadata": {},
     "output_type": "execute_result"
    }
   ],
   "source": [
    "# Get the total water need per species\n",
    "total_water = zoo.groupby('animal')['water_need'].sum()\n",
    "total_water"
   ]
  },
  {
   "cell_type": "code",
   "execution_count": 17,
   "metadata": {},
   "outputs": [
    {
     "data": {
      "text/plain": [
       "[('elephant', 1650),\n",
       " ('kangaroo', 1250),\n",
       " ('lion', 1910),\n",
       " ('tiger', 1550),\n",
       " ('zebra', 1290)]"
      ]
     },
     "execution_count": 17,
     "metadata": {},
     "output_type": "execute_result"
    }
   ],
   "source": [
    "# Convert Series into list of tuples\n",
    "total_water_data = list(zip(total_water.index, total_water))\n",
    "total_water_data"
   ]
  },
  {
   "cell_type": "code",
   "execution_count": 18,
   "metadata": {},
   "outputs": [
    {
     "data": {
      "image/svg+xml": [
       "<svg xmlns=\"http://www.w3.org/2000/svg\" width=\"800\" height=\"600\" version=\"1.1\"><g><rect x=\"0\" y=\"0\" width=\"800\" height=\"600\" fill=\"#f9f9f9\"/><g transform=\"translate(40 40)\"><g transform=\"translate(40 0)\"><text x=\"0\" y=\"0\" fill=\"#333\" font-family=\"Monaco\" font-size=\"16\">Total water need by species</text></g><g transform=\"translate(0 20)\"><g transform=\"translate(40 0)\"><g class=\"axis bottom\"><g class=\"tick\"><line x1=\"68\" y1=\"0\" x2=\"68\" y2=\"482.0\" stroke=\"#eee\" stroke-width=\"1\"/><text x=\"68\" y=\"486.0\" dy=\"1em\" fill=\"#9c9c9c\" text-anchor=\"middle\" font-family=\"Monaco\">elephant</text></g><g class=\"tick\"><line x1=\"204\" y1=\"0\" x2=\"204\" y2=\"482.0\" stroke=\"#eee\" stroke-width=\"1\"/><text x=\"204\" y=\"486.0\" dy=\"1em\" fill=\"#9c9c9c\" text-anchor=\"middle\" font-family=\"Monaco\">kangaroo</text></g><g class=\"tick\"><line x1=\"340\" y1=\"0\" x2=\"340\" y2=\"482.0\" stroke=\"#eee\" stroke-width=\"1\"/><text x=\"340\" y=\"486.0\" dy=\"1em\" fill=\"#9c9c9c\" text-anchor=\"middle\" font-family=\"Monaco\">lion</text></g><g class=\"tick\"><line x1=\"476\" y1=\"0\" x2=\"476\" y2=\"482.0\" stroke=\"#eee\" stroke-width=\"1\"/><text x=\"476\" y=\"486.0\" dy=\"1em\" fill=\"#9c9c9c\" text-anchor=\"middle\" font-family=\"Monaco\">tiger</text></g><g class=\"tick\"><line x1=\"612\" y1=\"0\" x2=\"612\" y2=\"482.0\" stroke=\"#eee\" stroke-width=\"1\"/><text x=\"612\" y=\"486.0\" dy=\"1em\" fill=\"#9c9c9c\" text-anchor=\"middle\" font-family=\"Monaco\">zebra</text></g></g><g class=\"axis left\"><g class=\"tick\"><line x1=\"-4\" y1=\"358.50\" x2=\"680.0\" y2=\"358.50\" stroke=\"#eee\" stroke-width=\"1\"/><text x=\"-8\" y=\"358.50\" dy=\"0.32em\" fill=\"#9c9c9c\" text-anchor=\"end\" font-family=\"Monaco\">500</text></g><g class=\"tick\"><line x1=\"-4\" y1=\"239.0\" x2=\"680.0\" y2=\"239.0\" stroke=\"#eee\" stroke-width=\"1\"/><text x=\"-8\" y=\"239.0\" dy=\"0.32em\" fill=\"#9c9c9c\" text-anchor=\"end\" font-family=\"Monaco\">1000</text></g><g class=\"tick\"><line x1=\"-4\" y1=\"119.50\" x2=\"680.0\" y2=\"119.50\" stroke=\"#eee\" stroke-width=\"1\"/><text x=\"-8\" y=\"119.50\" dy=\"0.32em\" fill=\"#9c9c9c\" text-anchor=\"end\" font-family=\"Monaco\">1500</text></g><g class=\"tick\"><line x1=\"-4\" y1=\"0\" x2=\"680.0\" y2=\"0\" stroke=\"#eee\" stroke-width=\"1\"/><text x=\"-8\" y=\"0\" dy=\"0.32em\" fill=\"#9c9c9c\" text-anchor=\"end\" font-family=\"Monaco\">2000</text></g><g class=\"tick\"><line x1=\"-4\" y1=\"478\" x2=\"680.0\" y2=\"478\" stroke=\"#a8a8a8\" stroke-width=\"1\"/><text x=\"-8\" y=\"478\" dy=\"0.32em\" fill=\"#9c9c9c\" text-anchor=\"end\" font-family=\"Monaco\">0</text></g></g><g><g class=\"series columns\"><rect x=\"6.8\" y=\"83.650\" width=\"122.4\" height=\"394.350\" fill=\"#e41a1c\"/><rect x=\"142.8\" y=\"179.250\" width=\"122.4\" height=\"298.750\" fill=\"#e41a1c\"/><rect x=\"278.8\" y=\"21.510\" width=\"122.4\" height=\"456.490\" fill=\"#e41a1c\"/><rect x=\"414.8\" y=\"107.550\" width=\"122.4\" height=\"370.450\" fill=\"#e41a1c\"/><rect x=\"550.8\" y=\"169.690\" width=\"122.4\" height=\"308.310\" fill=\"#e41a1c\"/></g></g></g></g></g></g></svg>"
      ],
      "text/plain": [
       "<IPython.core.display.SVG object>"
      ]
     },
     "execution_count": 18,
     "metadata": {},
     "output_type": "execute_result"
    }
   ],
   "source": [
    "# Plot the data in a Leather columns chart\n",
    "total_water_chart = leather.Chart('Total water need by species')\n",
    "total_water_chart.add_columns(total_water_data)\n",
    "total_water_chart.to_svg()"
   ]
  },
  {
   "cell_type": "markdown",
   "metadata": {},
   "source": [
    "## Exercise 1: Average water need by species\n",
    "\n",
    "It's your turn! Create a column chart that displays the average water need per species of animal. For example, the average water need for elephants is 550, which we get by dividing the total elephant water need by the number of elephants."
   ]
  },
  {
   "cell_type": "code",
   "execution_count": 19,
   "metadata": {},
   "outputs": [],
   "source": [
    "# Your code here\n",
    "avg_water = zoo.groupby('animal')['water_need'].mean()"
   ]
  },
  {
   "cell_type": "code",
   "execution_count": 20,
   "metadata": {},
   "outputs": [
    {
     "data": {
      "text/plain": [
       "[('elephant', 550.0),\n",
       " ('kangaroo', 416.6666666666667),\n",
       " ('lion', 477.5),\n",
       " ('tiger', 310.0),\n",
       " ('zebra', 184.28571428571428)]"
      ]
     },
     "execution_count": 20,
     "metadata": {},
     "output_type": "execute_result"
    }
   ],
   "source": [
    "avg_water_data = list(zip(avg_water.index, avg_water))\n",
    "avg_water_data"
   ]
  },
  {
   "cell_type": "code",
   "execution_count": 21,
   "metadata": {},
   "outputs": [
    {
     "data": {
      "image/svg+xml": [
       "<svg xmlns=\"http://www.w3.org/2000/svg\" width=\"800\" height=\"600\" version=\"1.1\"><g><rect x=\"0\" y=\"0\" width=\"800\" height=\"600\" fill=\"#f9f9f9\"/><g transform=\"translate(40 40)\"><g transform=\"translate(32 0)\"><text x=\"0\" y=\"0\" fill=\"#333\" font-family=\"Monaco\" font-size=\"16\">Average water need by species</text></g><g transform=\"translate(0 20)\"><g transform=\"translate(32 0)\"><g class=\"axis bottom\"><g class=\"tick\"><line x1=\"68.8\" y1=\"0\" x2=\"68.8\" y2=\"482.0\" stroke=\"#eee\" stroke-width=\"1\"/><text x=\"68.8\" y=\"486.0\" dy=\"1em\" fill=\"#9c9c9c\" text-anchor=\"middle\" font-family=\"Monaco\">elephant</text></g><g class=\"tick\"><line x1=\"206.4\" y1=\"0\" x2=\"206.4\" y2=\"482.0\" stroke=\"#eee\" stroke-width=\"1\"/><text x=\"206.4\" y=\"486.0\" dy=\"1em\" fill=\"#9c9c9c\" text-anchor=\"middle\" font-family=\"Monaco\">kangaroo</text></g><g class=\"tick\"><line x1=\"344.0\" y1=\"0\" x2=\"344.0\" y2=\"482.0\" stroke=\"#eee\" stroke-width=\"1\"/><text x=\"344.0\" y=\"486.0\" dy=\"1em\" fill=\"#9c9c9c\" text-anchor=\"middle\" font-family=\"Monaco\">lion</text></g><g class=\"tick\"><line x1=\"481.6\" y1=\"0\" x2=\"481.6\" y2=\"482.0\" stroke=\"#eee\" stroke-width=\"1\"/><text x=\"481.6\" y=\"486.0\" dy=\"1em\" fill=\"#9c9c9c\" text-anchor=\"middle\" font-family=\"Monaco\">tiger</text></g><g class=\"tick\"><line x1=\"619.2\" y1=\"0\" x2=\"619.2\" y2=\"482.0\" stroke=\"#eee\" stroke-width=\"1\"/><text x=\"619.2\" y=\"486.0\" dy=\"1em\" fill=\"#9c9c9c\" text-anchor=\"middle\" font-family=\"Monaco\">zebra</text></g></g><g class=\"axis left\"><g class=\"tick\"><line x1=\"-4\" y1=\"318.6666666666666666666666667\" x2=\"688.0\" y2=\"318.6666666666666666666666667\" stroke=\"#eee\" stroke-width=\"1\"/><text x=\"-8\" y=\"318.6666666666666666666666667\" dy=\"0.32em\" fill=\"#9c9c9c\" text-anchor=\"end\" font-family=\"Monaco\">200</text></g><g class=\"tick\"><line x1=\"-4\" y1=\"159.3333333333333333333333333\" x2=\"688.0\" y2=\"159.3333333333333333333333333\" stroke=\"#eee\" stroke-width=\"1\"/><text x=\"-8\" y=\"159.3333333333333333333333333\" dy=\"0.32em\" fill=\"#9c9c9c\" text-anchor=\"end\" font-family=\"Monaco\">400</text></g><g class=\"tick\"><line x1=\"-4\" y1=\"0\" x2=\"688.0\" y2=\"0\" stroke=\"#eee\" stroke-width=\"1\"/><text x=\"-8\" y=\"0\" dy=\"0.32em\" fill=\"#9c9c9c\" text-anchor=\"end\" font-family=\"Monaco\">600</text></g><g class=\"tick\"><line x1=\"-4\" y1=\"478\" x2=\"688.0\" y2=\"478\" stroke=\"#a8a8a8\" stroke-width=\"1\"/><text x=\"-8\" y=\"478\" dy=\"0.32em\" fill=\"#9c9c9c\" text-anchor=\"end\" font-family=\"Monaco\">0</text></g></g><g><g class=\"series columns\"><rect x=\"6.88\" y=\"39.8333333333333333333333333\" width=\"123.84\" height=\"438.1666666666666666666666667\" fill=\"#e41a1c\"/><rect x=\"144.48\" y=\"146.0555555555555404604698803\" width=\"123.84\" height=\"331.9444444444444595395301197\" fill=\"#e41a1c\"/><rect x=\"282.08\" y=\"97.5916666666666666666666667\" width=\"123.84\" height=\"380.4083333333333333333333333\" fill=\"#e41a1c\"/><rect x=\"419.68\" y=\"231.0333333333333333333333333\" width=\"123.84\" height=\"246.9666666666666666666666667\" fill=\"#e41a1c\"/><rect x=\"557.28\" y=\"331.1857142857142921836081466\" width=\"123.84\" height=\"146.8142857142857078163918534\" fill=\"#e41a1c\"/></g></g></g></g></g></g></svg>"
      ],
      "text/plain": [
       "<IPython.core.display.SVG object>"
      ]
     },
     "execution_count": 21,
     "metadata": {},
     "output_type": "execute_result"
    }
   ],
   "source": [
    "avg_water_chart = leather.Chart('Average water need by species')\n",
    "avg_water_chart.add_columns(avg_water_data)\n",
    "avg_water_chart.to_svg()"
   ]
  },
  {
   "cell_type": "markdown",
   "metadata": {},
   "source": [
    "## Exercise 2: Number of flights per airline\n",
    "\n",
    "For this problem, we return to our flights data from earlier in the semester."
   ]
  },
  {
   "cell_type": "code",
   "execution_count": 22,
   "metadata": {},
   "outputs": [
    {
     "data": {
      "text/html": [
       "<div>\n",
       "<style scoped>\n",
       "    .dataframe tbody tr th:only-of-type {\n",
       "        vertical-align: middle;\n",
       "    }\n",
       "\n",
       "    .dataframe tbody tr th {\n",
       "        vertical-align: top;\n",
       "    }\n",
       "\n",
       "    .dataframe thead th {\n",
       "        text-align: right;\n",
       "    }\n",
       "</style>\n",
       "<table border=\"1\" class=\"dataframe\">\n",
       "  <thead>\n",
       "    <tr style=\"text-align: right;\">\n",
       "      <th></th>\n",
       "      <th>YEAR</th>\n",
       "      <th>MONTH</th>\n",
       "      <th>DAY</th>\n",
       "      <th>DAY_OF_WEEK</th>\n",
       "      <th>AIRLINE</th>\n",
       "      <th>FLIGHT_NUMBER</th>\n",
       "      <th>TAIL_NUMBER</th>\n",
       "      <th>ORIGIN_AIRPORT</th>\n",
       "      <th>DESTINATION_AIRPORT</th>\n",
       "      <th>SCHEDULED_DEPARTURE</th>\n",
       "      <th>...</th>\n",
       "      <th>ARRIVAL_TIME</th>\n",
       "      <th>ARRIVAL_DELAY</th>\n",
       "      <th>DIVERTED</th>\n",
       "      <th>CANCELLED</th>\n",
       "      <th>CANCELLATION_REASON</th>\n",
       "      <th>AIR_SYSTEM_DELAY</th>\n",
       "      <th>SECURITY_DELAY</th>\n",
       "      <th>AIRLINE_DELAY</th>\n",
       "      <th>LATE_AIRCRAFT_DELAY</th>\n",
       "      <th>WEATHER_DELAY</th>\n",
       "    </tr>\n",
       "  </thead>\n",
       "  <tbody>\n",
       "    <tr>\n",
       "      <th>0</th>\n",
       "      <td>2015</td>\n",
       "      <td>1</td>\n",
       "      <td>1</td>\n",
       "      <td>4</td>\n",
       "      <td>B6</td>\n",
       "      <td>469</td>\n",
       "      <td>N183JB</td>\n",
       "      <td>BOS</td>\n",
       "      <td>FLL</td>\n",
       "      <td>1915</td>\n",
       "      <td>...</td>\n",
       "      <td>2230.0</td>\n",
       "      <td>-17.0</td>\n",
       "      <td>0</td>\n",
       "      <td>0</td>\n",
       "      <td>NaN</td>\n",
       "      <td>NaN</td>\n",
       "      <td>NaN</td>\n",
       "      <td>NaN</td>\n",
       "      <td>NaN</td>\n",
       "      <td>NaN</td>\n",
       "    </tr>\n",
       "    <tr>\n",
       "      <th>1</th>\n",
       "      <td>2015</td>\n",
       "      <td>1</td>\n",
       "      <td>1</td>\n",
       "      <td>4</td>\n",
       "      <td>MQ</td>\n",
       "      <td>2853</td>\n",
       "      <td>N906MQ</td>\n",
       "      <td>GSO</td>\n",
       "      <td>DFW</td>\n",
       "      <td>730</td>\n",
       "      <td>...</td>\n",
       "      <td>NaN</td>\n",
       "      <td>NaN</td>\n",
       "      <td>0</td>\n",
       "      <td>1</td>\n",
       "      <td>B</td>\n",
       "      <td>NaN</td>\n",
       "      <td>NaN</td>\n",
       "      <td>NaN</td>\n",
       "      <td>NaN</td>\n",
       "      <td>NaN</td>\n",
       "    </tr>\n",
       "    <tr>\n",
       "      <th>2</th>\n",
       "      <td>2015</td>\n",
       "      <td>1</td>\n",
       "      <td>10</td>\n",
       "      <td>6</td>\n",
       "      <td>DL</td>\n",
       "      <td>1631</td>\n",
       "      <td>N710TW</td>\n",
       "      <td>SLC</td>\n",
       "      <td>LAX</td>\n",
       "      <td>1500</td>\n",
       "      <td>...</td>\n",
       "      <td>1553.0</td>\n",
       "      <td>-2.0</td>\n",
       "      <td>0</td>\n",
       "      <td>0</td>\n",
       "      <td>NaN</td>\n",
       "      <td>NaN</td>\n",
       "      <td>NaN</td>\n",
       "      <td>NaN</td>\n",
       "      <td>NaN</td>\n",
       "      <td>NaN</td>\n",
       "    </tr>\n",
       "    <tr>\n",
       "      <th>3</th>\n",
       "      <td>2015</td>\n",
       "      <td>1</td>\n",
       "      <td>10</td>\n",
       "      <td>6</td>\n",
       "      <td>MQ</td>\n",
       "      <td>3072</td>\n",
       "      <td>N856MQ</td>\n",
       "      <td>COU</td>\n",
       "      <td>DFW</td>\n",
       "      <td>1437</td>\n",
       "      <td>...</td>\n",
       "      <td>1643.0</td>\n",
       "      <td>18.0</td>\n",
       "      <td>0</td>\n",
       "      <td>0</td>\n",
       "      <td>NaN</td>\n",
       "      <td>8.0</td>\n",
       "      <td>0.0</td>\n",
       "      <td>0.0</td>\n",
       "      <td>10.0</td>\n",
       "      <td>0.0</td>\n",
       "    </tr>\n",
       "    <tr>\n",
       "      <th>4</th>\n",
       "      <td>2015</td>\n",
       "      <td>1</td>\n",
       "      <td>10</td>\n",
       "      <td>6</td>\n",
       "      <td>MQ</td>\n",
       "      <td>3222</td>\n",
       "      <td>N902MQ</td>\n",
       "      <td>MSN</td>\n",
       "      <td>DFW</td>\n",
       "      <td>1112</td>\n",
       "      <td>...</td>\n",
       "      <td>1339.0</td>\n",
       "      <td>-11.0</td>\n",
       "      <td>0</td>\n",
       "      <td>0</td>\n",
       "      <td>NaN</td>\n",
       "      <td>NaN</td>\n",
       "      <td>NaN</td>\n",
       "      <td>NaN</td>\n",
       "      <td>NaN</td>\n",
       "      <td>NaN</td>\n",
       "    </tr>\n",
       "    <tr>\n",
       "      <th>...</th>\n",
       "      <td>...</td>\n",
       "      <td>...</td>\n",
       "      <td>...</td>\n",
       "      <td>...</td>\n",
       "      <td>...</td>\n",
       "      <td>...</td>\n",
       "      <td>...</td>\n",
       "      <td>...</td>\n",
       "      <td>...</td>\n",
       "      <td>...</td>\n",
       "      <td>...</td>\n",
       "      <td>...</td>\n",
       "      <td>...</td>\n",
       "      <td>...</td>\n",
       "      <td>...</td>\n",
       "      <td>...</td>\n",
       "      <td>...</td>\n",
       "      <td>...</td>\n",
       "      <td>...</td>\n",
       "      <td>...</td>\n",
       "      <td>...</td>\n",
       "    </tr>\n",
       "    <tr>\n",
       "      <th>995</th>\n",
       "      <td>2015</td>\n",
       "      <td>9</td>\n",
       "      <td>9</td>\n",
       "      <td>3</td>\n",
       "      <td>AA</td>\n",
       "      <td>47</td>\n",
       "      <td>N3LYAA</td>\n",
       "      <td>PDX</td>\n",
       "      <td>ORD</td>\n",
       "      <td>1312</td>\n",
       "      <td>...</td>\n",
       "      <td>1853.0</td>\n",
       "      <td>-18.0</td>\n",
       "      <td>0</td>\n",
       "      <td>0</td>\n",
       "      <td>NaN</td>\n",
       "      <td>NaN</td>\n",
       "      <td>NaN</td>\n",
       "      <td>NaN</td>\n",
       "      <td>NaN</td>\n",
       "      <td>NaN</td>\n",
       "    </tr>\n",
       "    <tr>\n",
       "      <th>996</th>\n",
       "      <td>2015</td>\n",
       "      <td>9</td>\n",
       "      <td>9</td>\n",
       "      <td>3</td>\n",
       "      <td>DL</td>\n",
       "      <td>2389</td>\n",
       "      <td>N3736C</td>\n",
       "      <td>SLC</td>\n",
       "      <td>PDX</td>\n",
       "      <td>1659</td>\n",
       "      <td>...</td>\n",
       "      <td>1741.0</td>\n",
       "      <td>-4.0</td>\n",
       "      <td>0</td>\n",
       "      <td>0</td>\n",
       "      <td>NaN</td>\n",
       "      <td>NaN</td>\n",
       "      <td>NaN</td>\n",
       "      <td>NaN</td>\n",
       "      <td>NaN</td>\n",
       "      <td>NaN</td>\n",
       "    </tr>\n",
       "    <tr>\n",
       "      <th>997</th>\n",
       "      <td>2015</td>\n",
       "      <td>9</td>\n",
       "      <td>9</td>\n",
       "      <td>3</td>\n",
       "      <td>EV</td>\n",
       "      <td>4584</td>\n",
       "      <td>N12563</td>\n",
       "      <td>ICT</td>\n",
       "      <td>IAH</td>\n",
       "      <td>1513</td>\n",
       "      <td>...</td>\n",
       "      <td>1648.0</td>\n",
       "      <td>-12.0</td>\n",
       "      <td>0</td>\n",
       "      <td>0</td>\n",
       "      <td>NaN</td>\n",
       "      <td>NaN</td>\n",
       "      <td>NaN</td>\n",
       "      <td>NaN</td>\n",
       "      <td>NaN</td>\n",
       "      <td>NaN</td>\n",
       "    </tr>\n",
       "    <tr>\n",
       "      <th>998</th>\n",
       "      <td>2015</td>\n",
       "      <td>9</td>\n",
       "      <td>9</td>\n",
       "      <td>3</td>\n",
       "      <td>OO</td>\n",
       "      <td>5322</td>\n",
       "      <td>N909SW</td>\n",
       "      <td>ORD</td>\n",
       "      <td>FWA</td>\n",
       "      <td>1910</td>\n",
       "      <td>...</td>\n",
       "      <td>2128.0</td>\n",
       "      <td>22.0</td>\n",
       "      <td>0</td>\n",
       "      <td>0</td>\n",
       "      <td>NaN</td>\n",
       "      <td>19.0</td>\n",
       "      <td>0.0</td>\n",
       "      <td>0.0</td>\n",
       "      <td>3.0</td>\n",
       "      <td>0.0</td>\n",
       "    </tr>\n",
       "    <tr>\n",
       "      <th>999</th>\n",
       "      <td>2015</td>\n",
       "      <td>9</td>\n",
       "      <td>9</td>\n",
       "      <td>3</td>\n",
       "      <td>OO</td>\n",
       "      <td>6311</td>\n",
       "      <td>N702BR</td>\n",
       "      <td>LAX</td>\n",
       "      <td>PSP</td>\n",
       "      <td>2235</td>\n",
       "      <td>...</td>\n",
       "      <td>2330.0</td>\n",
       "      <td>2.0</td>\n",
       "      <td>0</td>\n",
       "      <td>0</td>\n",
       "      <td>NaN</td>\n",
       "      <td>NaN</td>\n",
       "      <td>NaN</td>\n",
       "      <td>NaN</td>\n",
       "      <td>NaN</td>\n",
       "      <td>NaN</td>\n",
       "    </tr>\n",
       "  </tbody>\n",
       "</table>\n",
       "<p>1000 rows × 31 columns</p>\n",
       "</div>"
      ],
      "text/plain": [
       "     YEAR  MONTH  DAY  DAY_OF_WEEK AIRLINE  FLIGHT_NUMBER TAIL_NUMBER  \\\n",
       "0    2015      1    1            4      B6            469      N183JB   \n",
       "1    2015      1    1            4      MQ           2853      N906MQ   \n",
       "2    2015      1   10            6      DL           1631      N710TW   \n",
       "3    2015      1   10            6      MQ           3072      N856MQ   \n",
       "4    2015      1   10            6      MQ           3222      N902MQ   \n",
       "..    ...    ...  ...          ...     ...            ...         ...   \n",
       "995  2015      9    9            3      AA             47      N3LYAA   \n",
       "996  2015      9    9            3      DL           2389      N3736C   \n",
       "997  2015      9    9            3      EV           4584      N12563   \n",
       "998  2015      9    9            3      OO           5322      N909SW   \n",
       "999  2015      9    9            3      OO           6311      N702BR   \n",
       "\n",
       "    ORIGIN_AIRPORT DESTINATION_AIRPORT  SCHEDULED_DEPARTURE  ...  \\\n",
       "0              BOS                 FLL                 1915  ...   \n",
       "1              GSO                 DFW                  730  ...   \n",
       "2              SLC                 LAX                 1500  ...   \n",
       "3              COU                 DFW                 1437  ...   \n",
       "4              MSN                 DFW                 1112  ...   \n",
       "..             ...                 ...                  ...  ...   \n",
       "995            PDX                 ORD                 1312  ...   \n",
       "996            SLC                 PDX                 1659  ...   \n",
       "997            ICT                 IAH                 1513  ...   \n",
       "998            ORD                 FWA                 1910  ...   \n",
       "999            LAX                 PSP                 2235  ...   \n",
       "\n",
       "     ARRIVAL_TIME  ARRIVAL_DELAY  DIVERTED  CANCELLED  CANCELLATION_REASON  \\\n",
       "0          2230.0          -17.0         0          0                  NaN   \n",
       "1             NaN            NaN         0          1                    B   \n",
       "2          1553.0           -2.0         0          0                  NaN   \n",
       "3          1643.0           18.0         0          0                  NaN   \n",
       "4          1339.0          -11.0         0          0                  NaN   \n",
       "..            ...            ...       ...        ...                  ...   \n",
       "995        1853.0          -18.0         0          0                  NaN   \n",
       "996        1741.0           -4.0         0          0                  NaN   \n",
       "997        1648.0          -12.0         0          0                  NaN   \n",
       "998        2128.0           22.0         0          0                  NaN   \n",
       "999        2330.0            2.0         0          0                  NaN   \n",
       "\n",
       "     AIR_SYSTEM_DELAY  SECURITY_DELAY  AIRLINE_DELAY  LATE_AIRCRAFT_DELAY  \\\n",
       "0                 NaN             NaN            NaN                  NaN   \n",
       "1                 NaN             NaN            NaN                  NaN   \n",
       "2                 NaN             NaN            NaN                  NaN   \n",
       "3                 8.0             0.0            0.0                 10.0   \n",
       "4                 NaN             NaN            NaN                  NaN   \n",
       "..                ...             ...            ...                  ...   \n",
       "995               NaN             NaN            NaN                  NaN   \n",
       "996               NaN             NaN            NaN                  NaN   \n",
       "997               NaN             NaN            NaN                  NaN   \n",
       "998              19.0             0.0            0.0                  3.0   \n",
       "999               NaN             NaN            NaN                  NaN   \n",
       "\n",
       "     WEATHER_DELAY  \n",
       "0              NaN  \n",
       "1              NaN  \n",
       "2              NaN  \n",
       "3              0.0  \n",
       "4              NaN  \n",
       "..             ...  \n",
       "995            NaN  \n",
       "996            NaN  \n",
       "997            NaN  \n",
       "998            0.0  \n",
       "999            NaN  \n",
       "\n",
       "[1000 rows x 31 columns]"
      ]
     },
     "execution_count": 22,
     "metadata": {},
     "output_type": "execute_result"
    }
   ],
   "source": [
    "flights = pd.read_csv('flights_small.csv')\n",
    "flights"
   ]
  },
  {
   "cell_type": "markdown",
   "metadata": {},
   "source": [
    "Use this data to create a column chart that shows the total number of flights made by each airline."
   ]
  },
  {
   "cell_type": "code",
   "execution_count": 24,
   "metadata": {},
   "outputs": [
    {
     "data": {
      "text/plain": [
       "AIRLINE\n",
       "AA    125\n",
       "AS     29\n",
       "B6     38\n",
       "DL    161\n",
       "EV    105\n",
       "F9     23\n",
       "HA     12\n",
       "MQ     46\n",
       "NK     21\n",
       "OO    114\n",
       "UA     78\n",
       "US     37\n",
       "VX      7\n",
       "WN    204\n",
       "Name: FLIGHT_NUMBER, dtype: int64"
      ]
     },
     "execution_count": 24,
     "metadata": {},
     "output_type": "execute_result"
    }
   ],
   "source": [
    "# Group data by airline, and count up total flights per group\n",
    "counts = flights.groupby('AIRLINE')['FLIGHT_NUMBER'].count()\n",
    "counts"
   ]
  },
  {
   "cell_type": "code",
   "execution_count": 27,
   "metadata": {},
   "outputs": [
    {
     "data": {
      "image/svg+xml": [
       "<svg xmlns=\"http://www.w3.org/2000/svg\" width=\"800\" height=\"600\" version=\"1.1\"><g><rect x=\"0\" y=\"0\" width=\"800\" height=\"600\" fill=\"#f9f9f9\"/><g transform=\"translate(40 40)\"><g transform=\"translate(32 0)\"><text x=\"0\" y=\"0\" fill=\"#333\" font-family=\"Monaco\" font-size=\"16\">Flights per airline</text></g><g transform=\"translate(0 20)\"><g transform=\"translate(32 0)\"><g class=\"axis bottom\"><g class=\"tick\"><line x1=\"24.57142857142857142857142857\" y1=\"0\" x2=\"24.57142857142857142857142857\" y2=\"482.0\" stroke=\"#eee\" stroke-width=\"1\"/><text x=\"24.57142857142857142857142857\" y=\"486.0\" dy=\"1em\" fill=\"#9c9c9c\" text-anchor=\"middle\" font-family=\"Monaco\">AA</text></g><g class=\"tick\"><line x1=\"73.71428571428571428571428571\" y1=\"0\" x2=\"73.71428571428571428571428571\" y2=\"482.0\" stroke=\"#eee\" stroke-width=\"1\"/><text x=\"73.71428571428571428571428571\" y=\"486.0\" dy=\"1em\" fill=\"#9c9c9c\" text-anchor=\"middle\" font-family=\"Monaco\">AS</text></g><g class=\"tick\"><line x1=\"122.8571428571428571428571428\" y1=\"0\" x2=\"122.8571428571428571428571428\" y2=\"482.0\" stroke=\"#eee\" stroke-width=\"1\"/><text x=\"122.8571428571428571428571428\" y=\"486.0\" dy=\"1em\" fill=\"#9c9c9c\" text-anchor=\"middle\" font-family=\"Monaco\">B6</text></g><g class=\"tick\"><line x1=\"172.0000000000000000000000000\" y1=\"0\" x2=\"172.0000000000000000000000000\" y2=\"482.0\" stroke=\"#eee\" stroke-width=\"1\"/><text x=\"172.0000000000000000000000000\" y=\"486.0\" dy=\"1em\" fill=\"#9c9c9c\" text-anchor=\"middle\" font-family=\"Monaco\">DL</text></g><g class=\"tick\"><line x1=\"221.1428571428571428571428572\" y1=\"0\" x2=\"221.1428571428571428571428572\" y2=\"482.0\" stroke=\"#eee\" stroke-width=\"1\"/><text x=\"221.1428571428571428571428572\" y=\"486.0\" dy=\"1em\" fill=\"#9c9c9c\" text-anchor=\"middle\" font-family=\"Monaco\">EV</text></g><g class=\"tick\"><line x1=\"270.2857142857142857142857143\" y1=\"0\" x2=\"270.2857142857142857142857143\" y2=\"482.0\" stroke=\"#eee\" stroke-width=\"1\"/><text x=\"270.2857142857142857142857143\" y=\"486.0\" dy=\"1em\" fill=\"#9c9c9c\" text-anchor=\"middle\" font-family=\"Monaco\">F9</text></g><g class=\"tick\"><line x1=\"319.4285714285714285714285714\" y1=\"0\" x2=\"319.4285714285714285714285714\" y2=\"482.0\" stroke=\"#eee\" stroke-width=\"1\"/><text x=\"319.4285714285714285714285714\" y=\"486.0\" dy=\"1em\" fill=\"#9c9c9c\" text-anchor=\"middle\" font-family=\"Monaco\">HA</text></g><g class=\"tick\"><line x1=\"368.5714285714285714285714286\" y1=\"0\" x2=\"368.5714285714285714285714286\" y2=\"482.0\" stroke=\"#eee\" stroke-width=\"1\"/><text x=\"368.5714285714285714285714286\" y=\"486.0\" dy=\"1em\" fill=\"#9c9c9c\" text-anchor=\"middle\" font-family=\"Monaco\">MQ</text></g><g class=\"tick\"><line x1=\"417.7142857142857142857142857\" y1=\"0\" x2=\"417.7142857142857142857142857\" y2=\"482.0\" stroke=\"#eee\" stroke-width=\"1\"/><text x=\"417.7142857142857142857142857\" y=\"486.0\" dy=\"1em\" fill=\"#9c9c9c\" text-anchor=\"middle\" font-family=\"Monaco\">NK</text></g><g class=\"tick\"><line x1=\"466.8571428571428571428571429\" y1=\"0\" x2=\"466.8571428571428571428571429\" y2=\"482.0\" stroke=\"#eee\" stroke-width=\"1\"/><text x=\"466.8571428571428571428571429\" y=\"486.0\" dy=\"1em\" fill=\"#9c9c9c\" text-anchor=\"middle\" font-family=\"Monaco\">OO</text></g><g class=\"tick\"><line x1=\"516.0000000000000000000000000\" y1=\"0\" x2=\"516.0000000000000000000000000\" y2=\"482.0\" stroke=\"#eee\" stroke-width=\"1\"/><text x=\"516.0000000000000000000000000\" y=\"486.0\" dy=\"1em\" fill=\"#9c9c9c\" text-anchor=\"middle\" font-family=\"Monaco\">UA</text></g><g class=\"tick\"><line x1=\"565.1428571428571428571428571\" y1=\"0\" x2=\"565.1428571428571428571428571\" y2=\"482.0\" stroke=\"#eee\" stroke-width=\"1\"/><text x=\"565.1428571428571428571428571\" y=\"486.0\" dy=\"1em\" fill=\"#9c9c9c\" text-anchor=\"middle\" font-family=\"Monaco\">US</text></g><g class=\"tick\"><line x1=\"614.2857142857142857142857143\" y1=\"0\" x2=\"614.2857142857142857142857143\" y2=\"482.0\" stroke=\"#eee\" stroke-width=\"1\"/><text x=\"614.2857142857142857142857143\" y=\"486.0\" dy=\"1em\" fill=\"#9c9c9c\" text-anchor=\"middle\" font-family=\"Monaco\">VX</text></g><g class=\"tick\"><line x1=\"663.4285714285714285714285714\" y1=\"0\" x2=\"663.4285714285714285714285714\" y2=\"482.0\" stroke=\"#eee\" stroke-width=\"1\"/><text x=\"663.4285714285714285714285714\" y=\"486.0\" dy=\"1em\" fill=\"#9c9c9c\" text-anchor=\"middle\" font-family=\"Monaco\">WN</text></g></g><g class=\"axis left\"><g class=\"tick\"><line x1=\"-4\" y1=\"318.6666666666666666666666667\" x2=\"688.0\" y2=\"318.6666666666666666666666667\" stroke=\"#eee\" stroke-width=\"1\"/><text x=\"-8\" y=\"318.6666666666666666666666667\" dy=\"0.32em\" fill=\"#9c9c9c\" text-anchor=\"end\" font-family=\"Monaco\">100</text></g><g class=\"tick\"><line x1=\"-4\" y1=\"159.3333333333333333333333333\" x2=\"688.0\" y2=\"159.3333333333333333333333333\" stroke=\"#eee\" stroke-width=\"1\"/><text x=\"-8\" y=\"159.3333333333333333333333333\" dy=\"0.32em\" fill=\"#9c9c9c\" text-anchor=\"end\" font-family=\"Monaco\">200</text></g><g class=\"tick\"><line x1=\"-4\" y1=\"0\" x2=\"688.0\" y2=\"0\" stroke=\"#eee\" stroke-width=\"1\"/><text x=\"-8\" y=\"0\" dy=\"0.32em\" fill=\"#9c9c9c\" text-anchor=\"end\" font-family=\"Monaco\">300</text></g><g class=\"tick\"><line x1=\"-4\" y1=\"478\" x2=\"688.0\" y2=\"478\" stroke=\"#a8a8a8\" stroke-width=\"1\"/><text x=\"-8\" y=\"478\" dy=\"0.32em\" fill=\"#9c9c9c\" text-anchor=\"end\" font-family=\"Monaco\">0</text></g></g><g><g class=\"series columns\"><rect x=\"2.457142857142857142857142857\" y=\"278.8333333333333333333333333\" width=\"44.22857142857142857142857142\" height=\"199.1666666666666666666666667\" fill=\"#e41a1c\"/><rect x=\"51.60000000000000000000000000\" y=\"431.7933333333333333333333333\" width=\"44.22857142857142857142857142\" height=\"46.2066666666666666666666667\" fill=\"#e41a1c\"/><rect x=\"100.7428571428571428571428571\" y=\"417.4533333333333333333333333\" width=\"44.2285714285714285714285714\" height=\"60.5466666666666666666666667\" fill=\"#e41a1c\"/><rect x=\"149.8857142857142857142857143\" y=\"221.4733333333333333333333333\" width=\"44.2285714285714285714285714\" height=\"256.5266666666666666666666667\" fill=\"#e41a1c\"/><rect x=\"199.0285714285714285714285715\" y=\"310.70\" width=\"44.2285714285714285714285713\" height=\"167.30\" fill=\"#e41a1c\"/><rect x=\"248.1714285714285714285714286\" y=\"441.3533333333333333333333333\" width=\"44.2285714285714285714285713\" height=\"36.6466666666666666666666667\" fill=\"#e41a1c\"/><rect x=\"297.3142857142857142857142857\" y=\"458.88\" width=\"44.2285714285714285714285714\" height=\"19.12\" fill=\"#e41a1c\"/><rect x=\"346.4571428571428571428571429\" y=\"404.7066666666666666666666667\" width=\"44.2285714285714285714285713\" height=\"73.2933333333333333333333333\" fill=\"#e41a1c\"/><rect x=\"395.6000000000000000000000000\" y=\"444.54\" width=\"44.2285714285714285714285714\" height=\"33.46\" fill=\"#e41a1c\"/><rect x=\"444.7428571428571428571428572\" y=\"296.36\" width=\"44.2285714285714285714285713\" height=\"181.64\" fill=\"#e41a1c\"/><rect x=\"493.8857142857142857142857143\" y=\"353.72\" width=\"44.2285714285714285714285713\" height=\"124.28\" fill=\"#e41a1c\"/><rect x=\"543.0285714285714285714285714\" y=\"419.0466666666666666666666667\" width=\"44.2285714285714285714285714\" height=\"58.9533333333333333333333333\" fill=\"#e41a1c\"/><rect x=\"592.1714285714285714285714286\" y=\"466.8466666666666666666666667\" width=\"44.2285714285714285714285713\" height=\"11.1533333333333333333333333\" fill=\"#e41a1c\"/><rect x=\"641.3142857142857142857142857\" y=\"152.96\" width=\"44.2285714285714285714285714\" height=\"325.04\" fill=\"#e41a1c\"/></g></g></g></g></g></g></svg>"
      ],
      "text/plain": [
       "<IPython.core.display.SVG object>"
      ]
     },
     "execution_count": 27,
     "metadata": {},
     "output_type": "execute_result"
    }
   ],
   "source": [
    "# Convert data to a column chart\n",
    "columns = list(zip(counts.index, counts))\n",
    "counts_chart = leather.Chart('Flights per airline')\n",
    "counts_chart.add_columns(columns)\n",
    "counts_chart.to_svg()"
   ]
  },
  {
   "cell_type": "code",
   "execution_count": null,
   "metadata": {},
   "outputs": [],
   "source": []
  }
 ],
 "metadata": {
  "kernelspec": {
   "display_name": "Python 3",
   "language": "python",
   "name": "python3"
  },
  "language_info": {
   "codemirror_mode": {
    "name": "ipython",
    "version": 3
   },
   "file_extension": ".py",
   "mimetype": "text/x-python",
   "name": "python",
   "nbconvert_exporter": "python",
   "pygments_lexer": "ipython3",
   "version": "3.8.3"
  }
 },
 "nbformat": 4,
 "nbformat_minor": 4
}
