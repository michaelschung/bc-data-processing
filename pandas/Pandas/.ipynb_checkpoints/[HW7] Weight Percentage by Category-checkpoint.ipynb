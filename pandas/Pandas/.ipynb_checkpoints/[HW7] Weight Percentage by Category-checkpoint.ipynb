{
 "cells": [
  {
   "cell_type": "code",
   "execution_count": null,
   "metadata": {},
   "outputs": [],
   "source": [
    "import pandas as pd"
   ]
  },
  {
   "cell_type": "markdown",
   "metadata": {},
   "source": [
    "# Camping Equipment: Weight Percentage by Category\n",
    "\n",
    "For this problem, we'll use the same camping data from class."
   ]
  },
  {
   "cell_type": "code",
   "execution_count": null,
   "metadata": {},
   "outputs": [],
   "source": [
    "camping_df = pd.read_csv('camping.csv')\n",
    "camping_df"
   ]
  },
  {
   "cell_type": "markdown",
   "metadata": {},
   "source": [
    "## Your Task\n",
    "\n",
    "Assume that this DataFrame represents the current inventory of a small equipment supplier. Your task is to add two new columns to this DataFrame.\n",
    "\n",
    "- `CategoryWeight`: Contains the total weight of each category, accounting for quantity. Note that each item within any given category will have the same `CategoryWeight`.\n",
    "- `%CategoryWeight`: For any given item, this column should contain the percentage weight of the item (accounting for quantity) as compared to the `CategoryWeight`.\n",
    "\n",
    "For example, the `Utility` category has a `CategoryWeight` of 65 oz (1 Pack LIner + 0 Stuff Sacks + 4 Trekking Poles). Thus, the `%CategoryWeight` of Trekking Poles should be 98.46% (`Quantity` * `UnitWeight` / `CategoryWeight` * 100)."
   ]
  },
  {
   "cell_type": "markdown",
   "metadata": {},
   "source": [
    "## Tips\n",
    "\n",
    "Break this problem down one step at a time. In order to find the `%CategoryWeight`, you first need to find the `CategoryWeight`.\n",
    "\n",
    "In order to find the `CategoryWeight`, you first need to find the total unit weight for each item (a.k.a. the `UnitWeight` multiplied by the `Quantity`).\n",
    "\n",
    "Thus, start by adding a new column that contains the total unit weight for each item. Then, all you have to do to find the `CategoryWeight` is to sum up all total unit weights by group. (*Hint: look back at the `transform()` method*.)\n",
    "\n",
    "Once you have the `CategoryWeight` column, you can find the `%CategoryWeight` simply by dividing the total unit weight by the `CategoryWeight`.\n",
    "\n",
    "I recommend that you split your code into multiple cells so that it's easier to test each portion."
   ]
  },
  {
   "cell_type": "code",
   "execution_count": null,
   "metadata": {},
   "outputs": [],
   "source": [
    "# Start your code here, but feel free to add as many cells as you need.\n",
    "# Just make sure that the output of your final cell is a display of\n",
    "# the entire DataFrame, including the two new columns."
   ]
  }
 ],
 "metadata": {
  "kernelspec": {
   "display_name": "Python 3",
   "language": "python",
   "name": "python3"
  },
  "language_info": {
   "codemirror_mode": {
    "name": "ipython",
    "version": 3
   },
   "file_extension": ".py",
   "mimetype": "text/x-python",
   "name": "python",
   "nbconvert_exporter": "python",
   "pygments_lexer": "ipython3",
   "version": "3.8.3"
  }
 },
 "nbformat": 4,
 "nbformat_minor": 4
}
