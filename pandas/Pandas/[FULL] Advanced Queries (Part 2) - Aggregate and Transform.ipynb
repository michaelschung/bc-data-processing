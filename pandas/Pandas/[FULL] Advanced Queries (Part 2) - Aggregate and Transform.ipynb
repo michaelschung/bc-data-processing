{
 "cells": [
  {
   "cell_type": "code",
   "execution_count": null,
   "metadata": {},
   "outputs": [],
   "source": [
    "import pandas as pd"
   ]
  },
  {
   "cell_type": "markdown",
   "metadata": {},
   "source": [
    "Last time, we used the following data set describing a stock of camping equipment. We're going to continue using that data today."
   ]
  },
  {
   "cell_type": "code",
   "execution_count": null,
   "metadata": {},
   "outputs": [],
   "source": [
    "camping_df = pd.read_csv('camping.csv')\n",
    "camping_df"
   ]
  },
  {
   "cell_type": "markdown",
   "metadata": {},
   "source": [
    "# Review: Apply and GroupBy\n",
    "\n",
    "## `apply()`\n",
    "\n",
    "First off, `apply()` broadcasts a given function to one or more columns of a DataFrame."
   ]
  },
  {
   "cell_type": "code",
   "execution_count": null,
   "metadata": {},
   "outputs": [],
   "source": [
    "# Apply the sum function to a single column\n",
    "camping_df['Quantity'].apply('sum')"
   ]
  },
  {
   "cell_type": "code",
   "execution_count": null,
   "metadata": {},
   "outputs": [],
   "source": [
    "# Apply the sum function to the entire DataFrame\n",
    "camping_df.apply('sum')"
   ]
  },
  {
   "cell_type": "code",
   "execution_count": null,
   "metadata": {},
   "outputs": [],
   "source": [
    "# Apply the sum function to select rows\n",
    "camping_df[['Quantity', 'UnitWeight']].apply('sum')"
   ]
  },
  {
   "cell_type": "markdown",
   "metadata": {},
   "source": [
    "A full list of the available alternatives to `'sum'` can be found [here](https://pandas.pydata.org/pandas-docs/stable/user_guide/basics.html#descriptive-statistics), under the section titled \"Descriptive statistics.\"\n",
    "\n",
    "We can also create our own functions and apply them to a DataFrame. The following code creates a method that divides its input by 2, and applies it to all of the numerical columns in the DataFrame."
   ]
  },
  {
   "cell_type": "code",
   "execution_count": null,
   "metadata": {},
   "outputs": [],
   "source": [
    "def divide_by_2(x):\n",
    "    return x / 2\n",
    "\n",
    "# Apply divide_by_2 to the numerical columns\n",
    "camping_df[['Quantity', 'UnitWeight']].apply(divide_by_2)"
   ]
  },
  {
   "cell_type": "markdown",
   "metadata": {},
   "source": [
    "Here's another example. We apply the `pct` function to the `Quantity` and `Weight` columns; for each column, it divides each value in the column by the sum of the entire column, and then multiplies the result by 100. In other words, it returns the _percentage_ of a particular value in relation to its entire column."
   ]
  },
  {
   "cell_type": "code",
   "execution_count": null,
   "metadata": {},
   "outputs": [],
   "source": [
    "def pct(x):\n",
    "    return x / sum(x) * 100\n",
    "\n",
    "# Apply pct to the numerical columns\n",
    "camping_df[['Quantity', 'UnitWeight']].apply(pct)"
   ]
  },
  {
   "cell_type": "markdown",
   "metadata": {},
   "source": [
    "(See Advanced Queries Part 1 for a comparison between `apply()` and generalized broadcasting.)"
   ]
  },
  {
   "cell_type": "markdown",
   "metadata": {},
   "source": [
    "---\n",
    "\n",
    "## `groupby()`\n",
    "\n",
    "The `groupby()` function allows us to split a DataFrame into a collection of sub-DataFrames, stored in a DataFrameGroupBy object."
   ]
  },
  {
   "cell_type": "code",
   "execution_count": null,
   "metadata": {},
   "outputs": [],
   "source": [
    "# Store the DataFrameGroupBy object in a variable\n",
    "categories = camping_df.groupby('Category')\n",
    "categories"
   ]
  },
  {
   "cell_type": "markdown",
   "metadata": {},
   "source": [
    "This DataFrameGroupBy object is essentially a dictionary where each key is a particular unique `Category`, and each corresponding value is a DataFrame of all the rows belonging to that particular category.\n",
    "\n",
    "We can use the `groups()` method to get a summary of each Category and the corresponding rows it includes."
   ]
  },
  {
   "cell_type": "code",
   "execution_count": null,
   "metadata": {},
   "outputs": [],
   "source": [
    "# Ask for a listing of each group\n",
    "categories.groups"
   ]
  },
  {
   "cell_type": "markdown",
   "metadata": {},
   "source": [
    "We can retrieve a particular group using the `get_group()` method, passing in the name of the group we want."
   ]
  },
  {
   "cell_type": "code",
   "execution_count": null,
   "metadata": {},
   "outputs": [],
   "source": [
    "categories.get_group('Health')\n",
    "\n",
    "# Technically equivalent to this query:\n",
    "# camping_df[camping_df['Category'] == 'Health']"
   ]
  },
  {
   "cell_type": "markdown",
   "metadata": {},
   "source": [
    "We can also ask for the size of each group using the `size()` method, which returns a Series containing each group name and their corresponding sizes."
   ]
  },
  {
   "cell_type": "code",
   "execution_count": null,
   "metadata": {},
   "outputs": [],
   "source": [
    "categories.size()"
   ]
  },
  {
   "cell_type": "markdown",
   "metadata": {},
   "source": [
    "Perhaps most importantly, we can loop through a DataFrameGroupBy object much like how we would loop through a dictionary."
   ]
  },
  {
   "cell_type": "code",
   "execution_count": null,
   "metadata": {},
   "outputs": [],
   "source": [
    "for name, group in categories:\n",
    "    print(name)\n",
    "    print(group)\n",
    "    print('-'*50)"
   ]
  },
  {
   "cell_type": "markdown",
   "metadata": {},
   "source": [
    "---\n",
    "---\n",
    "\n",
    "# Advanced Queries (Part 2): Aggregate and Transform\n",
    "\n",
    "## `agg()` / `aggregate()`\n",
    "\n",
    "_Note that `agg` and `aggregate` are interchangeable; thus, I will exclusively use `agg` since it's shorter._\n",
    "\n",
    "The `agg` function allows us to apply multiple functions at once. In the example below, we query first for the numerical columns from the camping data, and then aggregate both the `sum` and the `mean` of those two columns."
   ]
  },
  {
   "cell_type": "code",
   "execution_count": null,
   "metadata": {},
   "outputs": [],
   "source": [
    "camping_df[['Quantity', 'UnitWeight']].agg(['sum', 'mean'])"
   ]
  },
  {
   "cell_type": "markdown",
   "metadata": {},
   "source": [
    "The `agg` function is very often combined with `groupby` in order to query for group statistics. In the example below, we first group the data by `Category`, and then we aggregate both the `sum` and `mean` for each group."
   ]
  },
  {
   "cell_type": "code",
   "execution_count": null,
   "metadata": {},
   "outputs": [],
   "source": [
    "categories = camping_df.groupby('Category')\n",
    "categories.agg(['sum', 'mean'])"
   ]
  },
  {
   "cell_type": "markdown",
   "metadata": {},
   "source": [
    "A more complex method of aggregating is to specify specific functions to apply to specific columns. Take a close look at the code below, along with its result."
   ]
  },
  {
   "cell_type": "code",
   "execution_count": null,
   "metadata": {},
   "outputs": [],
   "source": [
    "## Find the sum of the Quantity column, and both sum and mean for UnitWeight\n",
    "categories.agg({'Quantity': 'sum',\n",
    "                'UnitWeight': ['sum', 'mean']})"
   ]
  },
  {
   "cell_type": "markdown",
   "metadata": {},
   "source": [
    "Here, we passed a dictionary to the `agg` function, where the keys specify columns to operate on, and the corresponding values specify which function(s) to apply to the given column.\n",
    "\n",
    "Note that each column can be given either a single function to apply, or a list of functions. In this example, the `Quantity` column was given just the `sum` function, but the `Weight` column was given both `sum` and `mean`.\n",
    "\n",
    "_Once again, a full list of basic statistics functions provided by Pandas can be found [on this page](https://pandas.pydata.org/pandas-docs/stable/user_guide/basics.html#descriptive-statistics), under the section titled \"Descriptive statistics.\"_"
   ]
  },
  {
   "cell_type": "markdown",
   "metadata": {},
   "source": [
    "---\n",
    "\n",
    "## `transform()`\n",
    "\n",
    "Unlike `agg()`, which returns a reduced version of its input, `transform()` returns a DataFrame that's the same size as its input, but edited (i.e. *transformed*) somehow.\n",
    "\n",
    "Here's a use of `transform()` that simply replaces each column value with the sum of its entire group."
   ]
  },
  {
   "cell_type": "code",
   "execution_count": null,
   "metadata": {},
   "outputs": [],
   "source": [
    "categories.transform('sum')"
   ]
  },
  {
   "cell_type": "markdown",
   "metadata": {},
   "source": [
    "Perhaps we don't want to include the `Item` column, since it contains string values. We can omit it by first querying for only the columns that we want."
   ]
  },
  {
   "cell_type": "code",
   "execution_count": null,
   "metadata": {},
   "outputs": [],
   "source": [
    "categories[['Quantity', 'UnitWeight']].transform('sum')"
   ]
  },
  {
   "cell_type": "markdown",
   "metadata": {},
   "source": [
    "As a slightly more useful example, let's apply the `pct` function that we created earlier. The result is a DataFrame that tells us the percentage of quantity and weight that each item plays, _with respect to its group_."
   ]
  },
  {
   "cell_type": "code",
   "execution_count": null,
   "metadata": {},
   "outputs": [],
   "source": [
    "categories[['Quantity', 'UnitWeight']].transform(pct)"
   ]
  },
  {
   "cell_type": "markdown",
   "metadata": {},
   "source": [
    "Of course, these numbers are not particularly helpful unless we can compare them directly to the items that they belong to. So a very common use of `transform()` is to re-assign the results to new columns in the original DataFrame. Let's take the percentage results from the query above and re-assign them to our original `camping_df` as new columns."
   ]
  },
  {
   "cell_type": "code",
   "execution_count": null,
   "metadata": {},
   "outputs": [],
   "source": [
    "camping_df[['%Quantity', '%UnitWeight']] = categories[['Quantity', 'UnitWeight']].transform(pct)\n",
    "camping_df"
   ]
  }
 ],
 "metadata": {
  "kernelspec": {
   "display_name": "Python 3",
   "language": "python",
   "name": "python3"
  },
  "language_info": {
   "codemirror_mode": {
    "name": "ipython",
    "version": 3
   },
   "file_extension": ".py",
   "mimetype": "text/x-python",
   "name": "python",
   "nbconvert_exporter": "python",
   "pygments_lexer": "ipython3",
   "version": "3.8.3"
  }
 },
 "nbformat": 4,
 "nbformat_minor": 4
}
