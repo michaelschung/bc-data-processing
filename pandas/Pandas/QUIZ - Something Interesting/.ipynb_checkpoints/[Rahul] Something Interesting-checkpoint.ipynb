{
 "cells": [
  {
   "cell_type": "code",
   "execution_count": 1,
   "metadata": {},
   "outputs": [],
   "source": [
    "import pandas as pd"
   ]
  },
  {
   "cell_type": "markdown",
   "metadata": {},
   "source": [
    "# Instructions\n",
    "\n",
    "1. Head back to the [data sets page](https://github.com/michaelschung/bc-data-processing/tree/master/datasets), and pick one data set that you find particularly interesting.\n",
    "2. Download the file and use Pandas to load that data set. Before moving on, make sure that it downloaded as a `.csv` file! Check the assignment posting on Classroom if you're having issues.\n",
    "3. Explore the data by querying the DataFrame. Use this document to record your explorations according to the specifications below.\n",
    "\n",
    "_Note: There are tons of free data sets out there for you to explore, and in the future you'll be able to use any that you like. For this assignment, however, pick one of the data sets that I've provided for you._\n",
    "\n",
    "---\n",
    "\n",
    "### Recording Explorations\n",
    "\n",
    "Make at least three _thoughtful queries_ into the DataFrame. A thoughtful query consists of:\n",
    "\n",
    "- A concrete question (in English) that you're trying to answer\n",
    "- The query itself (in Python, using Pandas)\n",
    "- 2-3 sentences (in English) that use the query results to answer the initial question\n",
    "\n",
    "_Note: these instructions are intentionally vague. It's up to you to take this as seriously as you want, but I strongly encourage you to dig deep and learn something from the data you choose to look at. If you think you've asked all possible interesting questions, ask one more._"
   ]
  },
  {
   "cell_type": "markdown",
   "metadata": {},
   "source": [
    "# Your \"Thoughtful Queries\""
   ]
  },
  {
   "cell_type": "code",
   "execution_count": 2,
   "metadata": {},
   "outputs": [
    {
     "data": {
      "text/html": [
       "<div>\n",
       "<style scoped>\n",
       "    .dataframe tbody tr th:only-of-type {\n",
       "        vertical-align: middle;\n",
       "    }\n",
       "\n",
       "    .dataframe tbody tr th {\n",
       "        vertical-align: top;\n",
       "    }\n",
       "\n",
       "    .dataframe thead th {\n",
       "        text-align: right;\n",
       "    }\n",
       "</style>\n",
       "<table border=\"1\" class=\"dataframe\">\n",
       "  <thead>\n",
       "    <tr style=\"text-align: right;\">\n",
       "      <th></th>\n",
       "      <th>current_votes</th>\n",
       "      <th>total_votes</th>\n",
       "      <th>percent</th>\n",
       "    </tr>\n",
       "    <tr>\n",
       "      <th>district</th>\n",
       "      <th></th>\n",
       "      <th></th>\n",
       "      <th></th>\n",
       "    </tr>\n",
       "  </thead>\n",
       "  <tbody>\n",
       "    <tr>\n",
       "      <th>Delaware at large</th>\n",
       "      <td>488270</td>\n",
       "      <td>488270</td>\n",
       "      <td>99</td>\n",
       "    </tr>\n",
       "    <tr>\n",
       "      <th>Florida’s 1st district</th>\n",
       "      <td>438389</td>\n",
       "      <td>468000</td>\n",
       "      <td>94</td>\n",
       "    </tr>\n",
       "    <tr>\n",
       "      <th>Florida’s 2nd district</th>\n",
       "      <td>328203</td>\n",
       "      <td>355000</td>\n",
       "      <td>92</td>\n",
       "    </tr>\n",
       "    <tr>\n",
       "      <th>Florida’s 3rd district</th>\n",
       "      <td>390349</td>\n",
       "      <td>433000</td>\n",
       "      <td>90</td>\n",
       "    </tr>\n",
       "    <tr>\n",
       "      <th>Florida’s 4th district</th>\n",
       "      <td>504915</td>\n",
       "      <td>519000</td>\n",
       "      <td>97</td>\n",
       "    </tr>\n",
       "    <tr>\n",
       "      <th>Florida’s 5th district</th>\n",
       "      <td>336912</td>\n",
       "      <td>384000</td>\n",
       "      <td>88</td>\n",
       "    </tr>\n",
       "    <tr>\n",
       "      <th>Florida’s 6th district</th>\n",
       "      <td>438231</td>\n",
       "      <td>468000</td>\n",
       "      <td>94</td>\n",
       "    </tr>\n",
       "    <tr>\n",
       "      <th>Florida’s 7th district</th>\n",
       "      <td>406331</td>\n",
       "      <td>447000</td>\n",
       "      <td>91</td>\n",
       "    </tr>\n",
       "    <tr>\n",
       "      <th>Florida’s 8th district</th>\n",
       "      <td>459871</td>\n",
       "      <td>495000</td>\n",
       "      <td>93</td>\n",
       "    </tr>\n",
       "    <tr>\n",
       "      <th>Florida’s 9th district</th>\n",
       "      <td>429208</td>\n",
       "      <td>439000</td>\n",
       "      <td>98</td>\n",
       "    </tr>\n",
       "  </tbody>\n",
       "</table>\n",
       "</div>"
      ],
      "text/plain": [
       "                        current_votes  total_votes  percent\n",
       "district                                                   \n",
       "Delaware at large              488270       488270       99\n",
       "Florida’s 1st district         438389       468000       94\n",
       "Florida’s 2nd district         328203       355000       92\n",
       "Florida’s 3rd district         390349       433000       90\n",
       "Florida’s 4th district         504915       519000       97\n",
       "Florida’s 5th district         336912       384000       88\n",
       "Florida’s 6th district         438231       468000       94\n",
       "Florida’s 7th district         406331       447000       91\n",
       "Florida’s 8th district         459871       495000       93\n",
       "Florida’s 9th district         429208       439000       98"
      ]
     },
     "execution_count": 2,
     "metadata": {},
     "output_type": "execute_result"
    }
   ],
   "source": [
    "# Load your CSV file here, and preview the first 10-15 rows\n",
    "data = pd.read_csv('house_state.csv', index_col=0)\n",
    "data.head(10)"
   ]
  },
  {
   "cell_type": "markdown",
   "metadata": {},
   "source": [
    "## Thoughtful Query #1\n",
    "\n",
    "Question: Do the districts with the lowest turnout have something in common, like population or state?"
   ]
  },
  {
   "cell_type": "code",
   "execution_count": 3,
   "metadata": {},
   "outputs": [
    {
     "name": "stdout",
     "output_type": "stream",
     "text": [
      "                              current_votes  total_votes  percent\n",
      "district                                                         \n",
      "Florida’s 25th district                   0            0        0\n",
      "Massachusetts’s 7th district         150204       302000       50\n",
      "New York’s 12th district             194520       338000       58\n",
      "Alabama’s 5th district               122516       310000       40\n",
      "\n",
      "\n",
      "\n",
      "                                current_votes  total_votes  percent\n",
      "district                                                           \n",
      "Massachusetts’s 8th district           261515       383000       68\n",
      "New Jersey’s 8th district              172114       262000       66\n",
      "New York’s 5th district                182481       270000       68\n",
      "New York’s 10th district               175271       289000       61\n",
      "New York’s 16th district               195338       309000       63\n",
      "New York’s 25th district               251039       363000       69\n",
      "North Carolina’s 13th district         314114       455000       69\n"
     ]
    }
   ],
   "source": [
    "# Query 1 here\n",
    "print(data[data['percent'] < 60])\n",
    "print('\\n\\n')\n",
    "print(data[(data['percent'] >= 60) & (data['percent'] < 70)])"
   ]
  },
  {
   "cell_type": "markdown",
   "metadata": {},
   "source": [
    "Insight: Almost all these districts are in the Northeast, with the rest in the Southeast, except for one in Mid-Atlantic North Carolina. However, I don't see a correlation to total voting population, since NJ-8 has 262k voters and NC-13 had 455k: almost twice as many."
   ]
  },
  {
   "cell_type": "markdown",
   "metadata": {},
   "source": [
    "## Thoughtful Query #2\n",
    "\n",
    "Question: Do the *most populous* districts have anything in common, like high turnout, location, or political leaning?"
   ]
  },
  {
   "cell_type": "code",
   "execution_count": 4,
   "metadata": {},
   "outputs": [
    {
     "name": "stdout",
     "output_type": "stream",
     "text": [
      "                               current_votes  total_votes  percent\n",
      "district                                                          \n",
      "Delaware at large                     488270       488270       99\n",
      "Florida’s 4th district                504915       519000       97\n",
      "Florida’s 8th district                459871       495000       93\n",
      "Florida’s 11th district               475023       506000       94\n",
      "Florida’s 16th district               484121       492000       98\n",
      "Florida’s 18th district               449616       475000       95\n",
      "Montana at large                      598549       590000       99\n",
      "North Carolina’s 2nd district         493825       497000       99\n",
      "North Carolina’s 4th district         489685       516000       95\n",
      "Texas’s 21st district                 445349       471000       95\n",
      "Virginia’s 10th district              474990       481000       99\n",
      "Washington’s 7th district             464037       474000       98\n",
      "Wisconsin’s 2nd district              456789       500000       91\n",
      "Wisconsin’s 5th district              445702       484000       92\n",
      "Colorado’s 1st district               449765       475000       95\n",
      "Colorado’s 2nd district               504623       557000       91\n",
      "Colorado’s 4th district               468809       475000       99\n",
      "United States’s 0th district       146094195    157570752       93\n"
     ]
    }
   ],
   "source": [
    "# Query 2 here\n",
    "print(data[data['total_votes'] > 470000])"
   ]
  },
  {
   "cell_type": "markdown",
   "metadata": {},
   "source": [
    "Insight: Surprisingly, it seems like most of these heavily populated districts are in swing states, like Florida, Wisconsin, and Colorado, making the winner of those races that much more important. This is reflected in their high turnout. But they *are* spread all over the country, so my expectation that they'd mostly be huddled around the populous Northwest corridor or southern California has been proven incorrect."
   ]
  },
  {
   "cell_type": "markdown",
   "metadata": {},
   "source": [
    "## Thoughtful Query #3\n",
    "\n",
    "Question: I've heard that states like Ohio and Virginia are \"bellwether\" states, meaning the party they favor is generally favored nationwide in that year's elections. Are there any \"turnout bellwether districts?\" (I'll use \"United States's 0th district\" as the thing to compare to: 93% turnout.) If so, what do they have in common?"
   ]
  },
  {
   "cell_type": "code",
   "execution_count": 5,
   "metadata": {},
   "outputs": [
    {
     "name": "stdout",
     "output_type": "stream",
     "text": [
      "                              current_votes  total_votes  percent\n",
      "district                                                         \n",
      "Florida’s 8th district               459871       495000       93\n",
      "Florida’s 21st district              403171       433000       93\n",
      "Florida’s 27th district              343276       369000       93\n",
      "Georgia’s 6th district               397042       428000       93\n",
      "Georgia’s 13th district              359703       386000       93\n",
      "Maryland’s 5th district              378366       408000       93\n",
      "Minnesota’s 5th district             396776       427000       93\n",
      "Minnesota’s 8th district             393058       421000       93\n",
      "Nevada’s 2nd district                375414       405000       93\n",
      "New Hampshire’s 1st district         400691       432000       93\n",
      "Ohio’s 16th district                 389721       421000       93\n",
      "Pennsylvania’s 16th district         349704       375000       93\n",
      "Texas’s 5th district                 279622       301000       93\n",
      "Texas’s 30th district                264464       285000       93\n",
      "Virginia’s 4th district              395355       425000       93\n",
      "Wisconsin’s 7th district             414815       448000       93\n",
      "Arkansas’s 4th district              278615       304000       93\n",
      "California’s 13th district           352615       381000       93\n",
      "United States’s 0th district      146094195    157570752       93\n"
     ]
    }
   ],
   "source": [
    "# Query 3 here\n",
    "bellwethers = data[data['percent'] == 93]\n",
    "print(bellwethers)"
   ]
  },
  {
   "cell_type": "markdown",
   "metadata": {},
   "source": [
    "Insight: As I expected, there are several turnout bellwether districts, from Maryland to California. However, I don't see anything major they've got in common, like size, which ranges from TX-30 with 285k to FL-8 with 495k."
   ]
  }
 ],
 "metadata": {
  "kernelspec": {
   "display_name": "Python 3",
   "language": "python",
   "name": "python3"
  },
  "language_info": {
   "codemirror_mode": {
    "name": "ipython",
    "version": 3
   },
   "file_extension": ".py",
   "mimetype": "text/x-python",
   "name": "python",
   "nbconvert_exporter": "python",
   "pygments_lexer": "ipython3",
   "version": "3.8.3"
  }
 },
 "nbformat": 4,
 "nbformat_minor": 4
}
