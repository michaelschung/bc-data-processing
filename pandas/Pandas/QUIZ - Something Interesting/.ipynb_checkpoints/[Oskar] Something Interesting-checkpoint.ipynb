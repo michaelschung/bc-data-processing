{
 "cells": [
  {
   "cell_type": "code",
   "execution_count": 1,
   "metadata": {},
   "outputs": [],
   "source": [
    "import pandas as pd"
   ]
  },
  {
   "cell_type": "markdown",
   "metadata": {},
   "source": [
    "# Instructions\n",
    "\n",
    "1. Head back to the [data sets page](https://github.com/michaelschung/bc-data-processing/tree/master/datasets), and pick one data set that you find particularly interesting.\n",
    "2. Download the file and use Pandas to load that data set. Before moving on, make sure that it downloaded as a `.csv` file! Check the assignment posting on Classroom if you're having issues.\n",
    "3. Explore the data by querying the DataFrame. Use this document to record your explorations according to the specifications below.\n",
    "\n",
    "_Note: There are tons of free data sets out there for you to explore, and in the future you'll be able to use any that you like. For this assignment, however, pick one of the data sets that I've provided for you._\n",
    "\n",
    "---\n",
    "\n",
    "### Recording Explorations\n",
    "\n",
    "Make at least three _thoughtful queries_ into the DataFrame. A thoughtful query consists of:\n",
    "\n",
    "- A concrete question (in English) that you're trying to answer\n",
    "- The query itself (in Python, using Pandas)\n",
    "- 2-3 sentences (in English) that use the query results to answer the initial question\n",
    "\n",
    "_Note: these instructions are intentionally vague. It's up to you to take this as seriously as you want, but I strongly encourage you to dig deep and learn something from the data you choose to look at. If you think you've asked all possible interesting questions, ask one more._"
   ]
  },
  {
   "cell_type": "markdown",
   "metadata": {},
   "source": [
    "# Your \"Thoughtful Queries\""
   ]
  },
  {
   "cell_type": "code",
   "execution_count": 2,
   "metadata": {},
   "outputs": [
    {
     "data": {
      "text/html": [
       "<div>\n",
       "<style scoped>\n",
       "    .dataframe tbody tr th:only-of-type {\n",
       "        vertical-align: middle;\n",
       "    }\n",
       "\n",
       "    .dataframe tbody tr th {\n",
       "        vertical-align: top;\n",
       "    }\n",
       "\n",
       "    .dataframe thead th {\n",
       "        text-align: right;\n",
       "    }\n",
       "</style>\n",
       "<table border=\"1\" class=\"dataframe\">\n",
       "  <thead>\n",
       "    <tr style=\"text-align: right;\">\n",
       "      <th></th>\n",
       "      <th>Date</th>\n",
       "      <th>itemDescription</th>\n",
       "    </tr>\n",
       "    <tr>\n",
       "      <th>Member_number</th>\n",
       "      <th></th>\n",
       "      <th></th>\n",
       "    </tr>\n",
       "  </thead>\n",
       "  <tbody>\n",
       "    <tr>\n",
       "      <th>1808</th>\n",
       "      <td>21-07-2015</td>\n",
       "      <td>tropical fruit</td>\n",
       "    </tr>\n",
       "    <tr>\n",
       "      <th>2552</th>\n",
       "      <td>05-01-2015</td>\n",
       "      <td>whole milk</td>\n",
       "    </tr>\n",
       "    <tr>\n",
       "      <th>2300</th>\n",
       "      <td>19-09-2015</td>\n",
       "      <td>pip fruit</td>\n",
       "    </tr>\n",
       "    <tr>\n",
       "      <th>1187</th>\n",
       "      <td>12-12-2015</td>\n",
       "      <td>other vegetables</td>\n",
       "    </tr>\n",
       "    <tr>\n",
       "      <th>3037</th>\n",
       "      <td>01-02-2015</td>\n",
       "      <td>whole milk</td>\n",
       "    </tr>\n",
       "    <tr>\n",
       "      <th>...</th>\n",
       "      <td>...</td>\n",
       "      <td>...</td>\n",
       "    </tr>\n",
       "    <tr>\n",
       "      <th>4471</th>\n",
       "      <td>08-10-2014</td>\n",
       "      <td>sliced cheese</td>\n",
       "    </tr>\n",
       "    <tr>\n",
       "      <th>2022</th>\n",
       "      <td>23-02-2014</td>\n",
       "      <td>candy</td>\n",
       "    </tr>\n",
       "    <tr>\n",
       "      <th>1097</th>\n",
       "      <td>16-04-2014</td>\n",
       "      <td>cake bar</td>\n",
       "    </tr>\n",
       "    <tr>\n",
       "      <th>1510</th>\n",
       "      <td>03-12-2014</td>\n",
       "      <td>fruit/vegetable juice</td>\n",
       "    </tr>\n",
       "    <tr>\n",
       "      <th>1521</th>\n",
       "      <td>26-12-2014</td>\n",
       "      <td>cat food</td>\n",
       "    </tr>\n",
       "  </tbody>\n",
       "</table>\n",
       "<p>38765 rows × 2 columns</p>\n",
       "</div>"
      ],
      "text/plain": [
       "                     Date        itemDescription\n",
       "Member_number                                   \n",
       "1808           21-07-2015         tropical fruit\n",
       "2552           05-01-2015             whole milk\n",
       "2300           19-09-2015              pip fruit\n",
       "1187           12-12-2015       other vegetables\n",
       "3037           01-02-2015             whole milk\n",
       "...                   ...                    ...\n",
       "4471           08-10-2014          sliced cheese\n",
       "2022           23-02-2014                  candy\n",
       "1097           16-04-2014               cake bar\n",
       "1510           03-12-2014  fruit/vegetable juice\n",
       "1521           26-12-2014               cat food\n",
       "\n",
       "[38765 rows x 2 columns]"
      ]
     },
     "execution_count": 2,
     "metadata": {},
     "output_type": "execute_result"
    }
   ],
   "source": [
    "# Load your CSV file here, and preview the first 10-15 rows\n",
    "groceriesFile = 'groceries.csv'\n",
    "groceries = pd.read_csv(groceriesFile, index_col = 0)\n",
    "groceries2 = pd.read_csv(groceriesFile)\n",
    "groceries.head(15)\n",
    "groceries"
   ]
  },
  {
   "cell_type": "markdown",
   "metadata": {},
   "source": [
    "## Thoughtful Query #1\n",
    "\n",
    "Question: _(edit this cell to record your question)_"
   ]
  },
  {
   "cell_type": "code",
   "execution_count": 3,
   "metadata": {},
   "outputs": [
    {
     "data": {
      "text/plain": [
       "whole milk               2502\n",
       "other vegetables         1898\n",
       "rolls/buns               1716\n",
       "soda                     1514\n",
       "yogurt                   1334\n",
       "                         ... \n",
       "make up remover             5\n",
       "bags                        4\n",
       "baby cosmetics              3\n",
       "preservation products       1\n",
       "kitchen utensil             1\n",
       "Name: itemDescription, Length: 167, dtype: int64"
      ]
     },
     "execution_count": 3,
     "metadata": {},
     "output_type": "execute_result"
    }
   ],
   "source": [
    "# Query 1 here\n",
    "#what meat item is the most popular\n",
    "groceries['itemDescription'].value_counts()"
   ]
  },
  {
   "cell_type": "markdown",
   "metadata": {},
   "source": [
    "Insight: _(edit this cell to record your insight)_"
   ]
  },
  {
   "cell_type": "markdown",
   "metadata": {},
   "source": [
    "## Thoughtful Query #2\n",
    "\n",
    "Question: _(edit this cell to record your question)_"
   ]
  },
  {
   "cell_type": "code",
   "execution_count": 4,
   "metadata": {},
   "outputs": [
    {
     "data": {
      "text/plain": [
       "3180    36\n",
       "3050    33\n",
       "2051    33\n",
       "3737    33\n",
       "2433    31\n",
       "        ..\n",
       "4565     2\n",
       "2373     2\n",
       "3788     2\n",
       "2614     2\n",
       "2844     2\n",
       "Name: Member_number, Length: 3898, dtype: int64"
      ]
     },
     "execution_count": 4,
     "metadata": {},
     "output_type": "execute_result"
    }
   ],
   "source": [
    "# Query 2 here\n",
    "# Which member bought the most items, and which items did they but the most\n",
    "\n",
    "#groceries['Member_number'].value_counts()\n",
    "groceries2['Member_number'].value_counts()\n",
    "#member 3180 made the most purchases\n",
    "\n"
   ]
  },
  {
   "cell_type": "code",
   "execution_count": 5,
   "metadata": {},
   "outputs": [
    {
     "data": {
      "text/plain": [
       "{'baking powder': Int64Index([3180], dtype='int64', name='Member_number'),\n",
       " 'bathroom cleaner': Int64Index([3180], dtype='int64', name='Member_number'),\n",
       " 'bottled beer': Int64Index([3180], dtype='int64', name='Member_number'),\n",
       " 'canned beer': Int64Index([3180], dtype='int64', name='Member_number'),\n",
       " 'citrus fruit': Int64Index([3180], dtype='int64', name='Member_number'),\n",
       " 'condensed milk': Int64Index([3180], dtype='int64', name='Member_number'),\n",
       " 'curd': Int64Index([3180], dtype='int64', name='Member_number'),\n",
       " 'domestic eggs': Int64Index([3180, 3180], dtype='int64', name='Member_number'),\n",
       " 'flour': Int64Index([3180], dtype='int64', name='Member_number'),\n",
       " 'ham': Int64Index([3180], dtype='int64', name='Member_number'),\n",
       " 'margarine': Int64Index([3180, 3180], dtype='int64', name='Member_number'),\n",
       " 'newspapers': Int64Index([3180], dtype='int64', name='Member_number'),\n",
       " 'onions': Int64Index([3180], dtype='int64', name='Member_number'),\n",
       " 'other vegetables': Int64Index([3180, 3180], dtype='int64', name='Member_number'),\n",
       " 'pastry': Int64Index([3180, 3180], dtype='int64', name='Member_number'),\n",
       " 'rolls/buns': Int64Index([3180, 3180], dtype='int64', name='Member_number'),\n",
       " 'root vegetables': Int64Index([3180], dtype='int64', name='Member_number'),\n",
       " 'sausage': Int64Index([3180], dtype='int64', name='Member_number'),\n",
       " 'sugar': Int64Index([3180, 3180, 3180], dtype='int64', name='Member_number'),\n",
       " 'tropical fruit': Int64Index([3180, 3180, 3180], dtype='int64', name='Member_number'),\n",
       " 'waffles': Int64Index([3180], dtype='int64', name='Member_number'),\n",
       " 'whole milk': Int64Index([3180, 3180, 3180, 3180], dtype='int64', name='Member_number'),\n",
       " 'yogurt': Int64Index([3180], dtype='int64', name='Member_number'),\n",
       " 'zwieback': Int64Index([3180], dtype='int64', name='Member_number')}"
      ]
     },
     "execution_count": 5,
     "metadata": {},
     "output_type": "execute_result"
    }
   ],
   "source": [
    "var3180 = groceries.loc[3180]\n",
    "groups3180 = var3180.groupby('itemDescription')\n",
    "groups3180.groups\n",
    "#the most frequent purchase seems to be whole milk, this lines up with the previous query"
   ]
  },
  {
   "cell_type": "markdown",
   "metadata": {},
   "source": [
    "Insight: _(edit this cell to record your insight)_"
   ]
  },
  {
   "cell_type": "markdown",
   "metadata": {},
   "source": [
    "## Thoughtful Query #3\n",
    "\n",
    "Question: _(edit this cell to record your question)_"
   ]
  },
  {
   "cell_type": "code",
   "execution_count": 6,
   "metadata": {},
   "outputs": [
    {
     "data": {
      "text/plain": [
       "21-01-2015    96\n",
       "21-07-2015    93\n",
       "29-11-2015    92\n",
       "08-08-2015    92\n",
       "30-04-2015    91\n",
       "              ..\n",
       "10-01-2014    26\n",
       "04-07-2014    24\n",
       "17-03-2015    23\n",
       "16-03-2015    23\n",
       "01-09-2015    22\n",
       "Name: Date, Length: 728, dtype: int64"
      ]
     },
     "execution_count": 6,
     "metadata": {},
     "output_type": "execute_result"
    }
   ],
   "source": [
    "# Query 3 here\n",
    "#what day of the week was most popular  to shop on\n",
    "groceries['Date'].value_counts()\n",
    "#no dicernable trends, each of the top days are different days of the week. \n",
    "#The least two shopped on days were a tuesday, but so was the second most shopped on day"
   ]
  },
  {
   "cell_type": "markdown",
   "metadata": {},
   "source": [
    "Insight: _(edit this cell to record your insight)_"
   ]
  }
 ],
 "metadata": {
  "kernelspec": {
   "display_name": "Python 3",
   "language": "python",
   "name": "python3"
  },
  "language_info": {
   "codemirror_mode": {
    "name": "ipython",
    "version": 3
   },
   "file_extension": ".py",
   "mimetype": "text/x-python",
   "name": "python",
   "nbconvert_exporter": "python",
   "pygments_lexer": "ipython3",
   "version": "3.8.3"
  }
 },
 "nbformat": 4,
 "nbformat_minor": 4
}
